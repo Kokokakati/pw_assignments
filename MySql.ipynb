{
  "nbformat": 4,
  "nbformat_minor": 0,
  "metadata": {
    "colab": {
      "provenance": []
    },
    "kernelspec": {
      "name": "python3",
      "display_name": "Python 3"
    },
    "language_info": {
      "name": "python"
    }
  },
  "cells": [
    {
      "cell_type": "markdown",
      "source": [
        "Q1. What is a database? Differentiate between SQL and NoSQL databases.\n",
        "\n",
        "Q2. What is DDL? Explain why CREATE, DROP, ALTER, and TRUNCATE are used with an example.\n",
        "\n",
        "Q3. What is DML? Explain INSERT, UPDATE, and DELETE with an example.\n",
        "\n",
        "Q4. What is DQL? Explain SELECT with an example.\n",
        "\n",
        "Q5. Explain Primary Key and Foreign Key.\n",
        "\n",
        "Q6. Write a python code to connect MySQL to python. Explain the cursor() and execute() method.\n",
        "\n",
        "Q7. Give the order of execution of SQL clauses in an SQL query."
      ],
      "metadata": {
        "id": "6tDiSwQXT3Mf"
      }
    },
    {
      "cell_type": "markdown",
      "source": [
        "Q1. What is a database? Differentiate between SQL and NoSQL databases.\n",
        "\n",
        "A database is a structured collection of data that is organized and managed to provide efficient access and retrieval. It stores information in tables (or collections), each consisting of rows (or documents) and columns (or fields).\n",
        "SQL databases: Also known as relational databases, SQL databases store data in structured tables with a predefined schema. They follow the ACID (Atomicity, Consistency, Isolation, Durability) properties and use SQL (Structured Query Language) for querying and managing data. Examples include MySQL, PostgreSQL, Oracle, and SQL Server.\n",
        "NoSQL databases: NoSQL databases, also known as non-relational or distributed databases, store data in flexible, schema-less formats, such as key-value pairs, document stores, column-family stores, or graph databases. They are designed for horizontal scalability and are often used for handling large volumes of unstructured or semi-structured data. Examples include MongoDB, Cassandra, Redis, and Amazon DynamoDB."
      ],
      "metadata": {
        "id": "2KFGe8qpT_po"
      }
    },
    {
      "cell_type": "markdown",
      "source": [
        "Q2. What is DDL? Explain why CREATE, DROP, ALTER, and TRUNCATE are used with an example.\n",
        "\n",
        "DDL (Data Definition Language): DDL is a subset of SQL used to define, modify, and delete database objects such as tables, indexes, and views.\n",
        "Examples:\n",
        "CREATE: Used to create new database objects like tables.\n",
        "CREATE TABLE employees (\n",
        "    id INT PRIMARY KEY,\n",
        "    name VARCHAR(50),\n",
        "    age INT\n",
        ");\n",
        "DROP: Used to delete existing database objects like tables.\n",
        "DROP TABLE employees;\n",
        "ALTER: Used to modify the structure of existing database objects.\n",
        "ALTER TABLE employees ADD COLUMN department VARCHAR(50);\n",
        "TRUNCATE: Used to remove all rows from a table while keeping the table structure intact.\n",
        "TRUNCATE TABLE employees;\n"
      ],
      "metadata": {
        "id": "x4LIPFbhUFVK"
      }
    },
    {
      "cell_type": "markdown",
      "source": [
        "Q3. What is DML? Explain INSERT, UPDATE, and DELETE with an example.\n",
        "\n",
        "DML (Data Manipulation Language): DML is a subset of SQL used to manipulate data within database objects like tables.\n",
        "Examples:\n",
        "INSERT: Used to insert new rows into a table.\n",
        "Examples:\n",
        "INSERT: Used to insert new rows into a table.\n",
        "\n",
        "INSERT INTO employees (id, name, age) VALUES (1, 'John', 30);\n",
        "UPDATE: Used to modify existing rows in a table.\n",
        "\n",
        "UPDATE employees SET age = 35 WHERE name = 'John';\n",
        "DELETE: Used to remove existing rows from a table.\n",
        "\n",
        "DELETE FROM employees WHERE age > 40;"
      ],
      "metadata": {
        "id": "TjXEoojlUUtB"
      }
    },
    {
      "cell_type": "markdown",
      "source": [
        "Q4. What is DQL? Explain SELECT with an example.\n",
        "\n",
        "DQL (Data Query Language): DQL is a subset of SQL used to query data from database objects like tables.\n",
        "Example:\n",
        "SELECT: Used to retrieve data from one or more tables.\n",
        "\n",
        "SELECT * FROM employees WHERE age > 30;"
      ],
      "metadata": {
        "id": "cS-JyShiUdI3"
      }
    },
    {
      "cell_type": "markdown",
      "source": [
        "Q5. Explain Primary Key and Foreign Key.\n",
        "\n",
        "Primary Key: A primary key is a unique identifier for each record in a table. It ensures that each row is uniquely identifiable and cannot contain null values. It is often used for data indexing and maintaining data integrity.\n",
        "Foreign Key: A foreign key is a column or combination of columns that establishes a relationship between two tables. It ensures referential integrity by enforcing a link between the data in one table (the child table) and the data in another table (the parent table). Foreign keys typically reference the primary key of the parent table."
      ],
      "metadata": {
        "id": "_lr776EgUf7g"
      }
    },
    {
      "cell_type": "code",
      "source": [
        "#6\n",
        "import mysql.connector\n",
        "\n",
        "# Connect to MySQL database\n",
        "mydb = mysql.connector.connect(\n",
        "    host=\"localhost\",\n",
        "    user=\"username\",\n",
        "    password=\"password\",\n",
        "    database=\"mydatabase\"\n",
        ")\n",
        "\n",
        "# Create cursor object\n",
        "mycursor = mydb.cursor()\n",
        "\n",
        "# Execute SQL query\n",
        "mycursor.execute(\"SELECT * FROM employees\")\n",
        "\n",
        "# Fetch results\n",
        "for row in mycursor.fetchall():\n",
        "    print(row)\n",
        "\n",
        "# Close cursor and connection\n",
        "mycursor.close()\n",
        "mydb.close()\n"
      ],
      "metadata": {
        "id": "q5lpYuQ1Ui-1"
      },
      "execution_count": null,
      "outputs": []
    },
    {
      "cell_type": "markdown",
      "source": [
        "Explanation:\n",
        "cursor(): Creates a cursor object that allows Python to interact with the MySQL database.\n",
        "execute(): Executes an SQL query specified as a parameter to the method. It is used to perform database operations such as retrieving data, modifying data, or executing other SQL commands."
      ],
      "metadata": {
        "id": "-XsXir1NUlbT"
      }
    },
    {
      "cell_type": "markdown",
      "source": [
        "Q7. Give the order of execution of SQL clauses in an SQL query.\n",
        "\n",
        "The order of execution of SQL clauses in an SQL query is as follows:\n",
        "SELECT\n",
        "FROM\n",
        "WHERE\n",
        "GROUP BY\n",
        "HAVING\n",
        "ORDER BY\n",
        "LIMIT"
      ],
      "metadata": {
        "id": "uBpot50YUn3k"
      }
    }
  ]
}