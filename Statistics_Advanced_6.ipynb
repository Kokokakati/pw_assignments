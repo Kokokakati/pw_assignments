{
  "nbformat": 4,
  "nbformat_minor": 0,
  "metadata": {
    "colab": {
      "provenance": []
    },
    "kernelspec": {
      "name": "python3",
      "display_name": "Python 3"
    },
    "language_info": {
      "name": "python"
    }
  },
  "cells": [
    {
      "cell_type": "markdown",
      "source": [
        "Q1. Explain the assumptions required to use ANOVA and provide examples of violations that could impact\n",
        "the validity of the results.\n",
        "\n",
        "\n",
        "Q2. What are the three types of ANOVA, and in what situations would each be used?\n",
        "\n",
        "\n",
        "Q3. What is the partitioning of variance in ANOVA, and why is it important to understand this concept?\n",
        "\n",
        "\n",
        "Q4. How would you calculate the total sum of squares (SST), explained sum of squares (SSE), and residual\n",
        "sum of squares (SSR) in a one-way ANOVA using Python?\n",
        "\n",
        "\n",
        "Q5. In a two-way ANOVA, how would you calculate the main effects and interaction effects using Python?\n",
        "\n",
        "\n",
        "Q6. Suppose you conducted a one-way ANOVA and obtained an F-statistic of 5.23 and a p-value of 0.02.\n",
        "What can you conclude about the differences between the groups, and how would you interpret these\n",
        "results?\n",
        "\n",
        "\n",
        "Q7. In a repeated measures ANOVA, how would you handle missing data, and what are the potential\n",
        "consequences of using different methods to handle missing data?\n",
        "\n",
        "\n",
        "Q8. What are some common post-hoc tests used after ANOVA, and when would you use each one? Provide\n",
        "an example of a situation where a post-hoc test might be necessary.\n",
        "\n",
        "\n",
        "Q9. A researcher wants to compare the mean weight loss of three diets: A, B, and C. They collect data from\n",
        "50 participants who were randomly assigned to one of the diets. Conduct a one-way ANOVA using Python\n",
        "to determine if there are any significant differences between the mean weight loss of the three diets.\n",
        "Report the F-statistic and p-value, and interpret the results.\n",
        "\n",
        "\n",
        "Q10. A company wants to know if there are any significant differences in the average time it takes to\n",
        "complete a task using three different software programs: Program A, Program B, and Program C. They\n",
        "randomly assign 30 employees to one of the programs and record the time it takes each employee to\n",
        "complete the task. Conduct a two-way ANOVA using Python to determine if there are any main effects or\n",
        "interaction effects between the software programs and employee experience level (novice vs.\n",
        "experienced). Report the F-statistics and p-values, and interpret the results.\n",
        "\n",
        "\n",
        "Q11. An educational researcher is interested in whether a new teaching method improves student test\n",
        "scores. They randomly assign 100 students to either the control group (traditional teaching method) or the\n",
        "experimental group (new teaching method) and administer a test at the end of the semester. Conduct a\n",
        "two-sample t-test using Python to determine if there are any significant differences in test scores\n",
        "between the two groups. If the results are significant, follow up with a post-hoc test to determine which\n",
        "group(s) differ significantly from each other.\n",
        "\n",
        "\n",
        "Q12. A researcher wants to know if there are any significant differences in the average daily sales of three\n",
        "retail stores: Store A, Store B, and Store C. They randomly select 30 days and record the sales for each store\n",
        "on those days. Conduct a repeated measures ANOVA using Python to determine if there are any\n",
        "\n",
        "significant differences in sales between the three stores. If the results are significant, follow up with a post-\n",
        "hoc test to determine which store(s) differ significantly from each other."
      ],
      "metadata": {
        "id": "LoQDqIh1SQQc"
      }
    },
    {
      "cell_type": "markdown",
      "source": [
        "1. Assumptions of ANOVA (Analysis of Variance):\n",
        "\n",
        "Independence: Observations within each group are independent of each other.\n",
        "Normality: The populations from which the samples are drawn should be approximately normally distributed. Violations can occur when data is heavily skewed or has outliers.\n",
        "Homogeneity of Variances (Homoscedasticity): The variances of the groups should be roughly equal. Violations can lead to unequal influence of groups on the overall result.\n",
        "Examples of Violations:\n",
        "\n",
        "Non-independence: In a repeated measures design, where the same subjects are used in multiple groups, observations may not be independent.\n",
        "Non-normality: If your data is not normally distributed, ANOVA results may not be valid. For instance, if you have a highly skewed dataset.\n",
        "Heteroscedasticity: Unequal variances can occur when the variance in one group is much larger or smaller than the others."
      ],
      "metadata": {
        "id": "YguBYMtEScUl"
      }
    },
    {
      "cell_type": "markdown",
      "source": [
        "2. The three main types of ANOVA are:\n",
        "\n",
        "One-Way ANOVA: Used when you have one categorical independent variable (factor) with more than two levels (groups). It tests if there are significant differences in the means of the groups.\n",
        "\n",
        "Two-Way ANOVA: Used when you have two categorical independent variables (factors) and you want to examine their main effects and potential interaction effect on a continuous dependent variable.\n",
        "\n",
        "Repeated Measures ANOVA: Used when you have repeated measurements on the same subjects under different conditions (within-subjects design). It assesses the effects of both the within-subject factor(s) and between-subject factor(s)."
      ],
      "metadata": {
        "id": "WzVCkjztSqX0"
      }
    },
    {
      "cell_type": "markdown",
      "source": [
        "3. The partitioning of variance in ANOVA refers to the process of dividing the total variance in the data into different components, including explained variance (due to factors) and unexplained variance (due to random variation). Understanding this concept is crucial because it helps in:\n",
        "\n",
        "Assessing the contribution of each factor to the overall variability in the data.\n",
        "Evaluating the significance of factors.\n",
        "Understanding the proportion of variance that can be attributed to systematic effects."
      ],
      "metadata": {
        "id": "MFAfNcCESu-W"
      }
    },
    {
      "cell_type": "code",
      "source": [
        "4.\n",
        "import numpy as np\n",
        "import scipy.stats as stats\n",
        "\n",
        "# Example data\n",
        "data = [group1_data, group2_data, ...]  # Replace with your actual data\n",
        "\n",
        "# Calculate the overall mean\n",
        "overall_mean = np.mean(np.concatenate(data))\n",
        "\n",
        "# Calculate SST (Total Sum of Squares)\n",
        "sst = np.sum([(x - overall_mean)**2 for group in data for x in group])\n",
        "\n",
        "# Calculate SSE (Explained Sum of Squares)\n",
        "sse = np.sum([len(group) * (np.mean(group) - overall_mean)**2 for group in data])\n",
        "\n",
        "# Calculate SSR (Residual Sum of Squares)\n",
        "ssr = sst - sse\n",
        "\n",
        "# Degrees of freedom\n",
        "df_total = len(np.concatenate(data)) - 1\n",
        "df_groups = len(data) - 1\n",
        "df_residual = df_total - df_groups\n",
        "\n",
        "# Calculate the mean squares (MS) for groups and residuals\n",
        "ms_groups = sse / df_groups\n",
        "ms_residual = ssr / df_residual\n",
        "\n",
        "# F-statistic\n",
        "f_statistic = ms_groups / ms_residual\n",
        "\n",
        "# P-value\n",
        "p_value = 1 - stats.f.cdf(f_statistic, df_groups, df_residual)\n"
      ],
      "metadata": {
        "id": "e5CLbqjASzg-"
      },
      "execution_count": null,
      "outputs": []
    },
    {
      "cell_type": "code",
      "source": [
        "5.\n",
        "import statsmodels.api as sm\n",
        "from statsmodels.formula.api import ols\n",
        "\n",
        "# Example data\n",
        "data = pd.read_csv(\"your_data.csv\")  # Replace with your data file\n",
        "\n",
        "# Fit a two-way ANOVA model\n",
        "formula = \"dependent_variable ~ C(factor1) + C(factor2) + C(factor1):C(factor2)\"\n",
        "model = ols(formula, data=data).fit()\n",
        "\n",
        "# Calculate main effects\n",
        "main_effect_factor1 = sm.stats.anova_lm(model, typ=2).loc[\"C(factor1)\", \"sum_sq\"]\n",
        "main_effect_factor2 = sm.stats.anova_lm(model, typ=2).loc[\"C(factor2)\", \"sum_sq\"]\n",
        "\n",
        "# Calculate interaction effect\n",
        "interaction_effect = sm.stats.anova_lm(model, typ=2).loc[\"C(factor1):C(factor2)\", \"sum_sq\"]\n"
      ],
      "metadata": {
        "id": "oKOhD_BhS2wx"
      },
      "execution_count": null,
      "outputs": []
    },
    {
      "cell_type": "markdown",
      "source": [
        "6. With an F-statistic of 5.23 and a p-value of 0.02, you can conclude that there are significant differences between at least some of the groups. Specifically:\n",
        "\n",
        "The null hypothesis (that all group means are equal) is rejected because the p-value is less than the chosen significance level (e.g., 0.05).\n",
        "\n",
        "However, you would need post-hoc tests to determine which specific groups differ from each other, as the one-way ANOVA only tells you that there are differences but not where those differences are."
      ],
      "metadata": {
        "id": "50LUOnvaTNEZ"
      }
    },
    {
      "cell_type": "markdown",
      "source": [
        "7. Handling missing data in a repeated measures ANOVA can be complex. Common methods include:\n",
        "\n",
        "Listwise Deletion: Remove cases with missing data. This can reduce sample size and statistical power.\n",
        "\n",
        "Imputation: Estimate missing values based on available data. Imputation methods like mean imputation or regression imputation can introduce bias if not done carefully.\n",
        "\n",
        "Mixed-Design ANOVA: Utilize mixed-effects models that can handle missing data appropriately.\n",
        "\n",
        "The potential consequences of different methods include biased results, loss of power, and incorrect inferences. Choosing an appropriate method depends on the nature of the missing data and the assumptions underlying the analysis."
      ],
      "metadata": {
        "id": "1ZG9SzjqTRD6"
      }
    },
    {
      "cell_type": "markdown",
      "source": [
        "8. Common post-hoc tests after ANOVA include:\n",
        "\n",
        "Tukey's Honestly Significant Difference (HSD): Used when you have multiple groups and want to compare all possible pairs of means. It controls the family-wise error rate.\n",
        "\n",
        "Bonferroni Correction: Used to control the overall Type I error rate when conducting multiple pairwise comparisons. It is more conservative than Tukey's HSD.\n",
        "\n",
        "Dunnett's Test: Used when you have one control group and want to compare it to multiple treatment groups.\n",
        "\n",
        "Scheffé's Test: Used when you have unequal sample sizes or unequal variances between groups.\n",
        "\n",
        "Holm-Bonferroni Method: A step-down procedure that controls the family-wise error rate.\n",
        "\n",
        "You would use these post-hoc tests when you have rejected the null hypothesis in ANOVA and need to determine which specific groups differ from each other. For example, after finding a significant difference in test scores between different teaching methods in ANOVA, you might use Tukey's HSD to identify which pairs of methods lead to significantly different scores."
      ],
      "metadata": {
        "id": "VLlsrTlQTfvG"
      }
    },
    {
      "cell_type": "code",
      "source": [
        "9.\n",
        "\n",
        "import scipy.stats as stats\n",
        "\n",
        "# Example data (replace with your actual data)\n",
        "diet_A = [weight_loss_data_for_diet_A]\n",
        "diet_B = [weight_loss_data_for_diet_B]\n",
        "diet_C = [weight_loss_data_for_diet_C]\n",
        "\n",
        "# Perform one-way ANOVA\n",
        "f_statistic, p_value = stats.f_oneway(diet_A, diet_B, diet_C)\n",
        "\n",
        "# Interpret the results\n",
        "alpha = 0.05  # Significance level\n",
        "if p_value < alpha:\n",
        "    print(\"Reject the null hypothesis: There are significant differences between the mean weight loss of the three diets.\")\n",
        "else:\n",
        "    print(\"Fail to reject the null hypothesis: There are no significant differences between the mean weight loss of the three diets.\")\n",
        "\n",
        "# Print F-statistic and p-value\n",
        "print(f\"F-statistic: {f_statistic}\")\n",
        "print(f\"P-value: {p_value}\")\n"
      ],
      "metadata": {
        "id": "5SRXWFJRTl0a"
      },
      "execution_count": null,
      "outputs": []
    },
    {
      "cell_type": "markdown",
      "source": [
        "This code will perform a one-way ANOVA to determine if there are any significant differences in weight loss between diets A, B, and C. The F-statistic and p-value will be reported, and you can interpret the results based on the significance level."
      ],
      "metadata": {
        "id": "kBI3BJJVTq6t"
      }
    },
    {
      "cell_type": "code",
      "source": [
        "10.\n",
        "\n",
        "import statsmodels.api as sm\n",
        "from statsmodels.formula.api import ols\n",
        "\n",
        "# Example data (replace with your actual data)\n",
        "data = pd.read_csv(\"your_data.csv\")  # Replace with your data file\n",
        "\n",
        "# Fit a two-way ANOVA model\n",
        "formula = \"completion_time ~ C(software_program) + C(experience_level) + C(software_program):C(experience_level)\"\n",
        "model = ols(formula, data=data).fit()\n",
        "\n",
        "# Calculate the main effects\n",
        "main_effect_software = sm.stats.anova_lm(model, typ=2).loc[\"C(software_program)\", \"sum_sq\"]\n",
        "main_effect_experience = sm.stats.anova_lm(model, typ=2).loc[\"C(experience_level)\", \"sum_sq\"]\n",
        "\n",
        "# Calculate the interaction effect\n",
        "interaction_effect = sm.stats.anova_lm(model, typ=2).loc[\"C(software_program):C(experience_level)\", \"sum_sq\"]\n",
        "\n",
        "# Interpret the results\n",
        "alpha = 0.05  # Significance level\n",
        "if main_effect_software < alpha:\n",
        "    print(\"Reject the null hypothesis: There is a significant main effect of software programs.\")\n",
        "else:\n",
        "    print(\"Fail to reject the null hypothesis: There is no significant main effect of software programs.\")\n",
        "\n",
        "if main_effect_experience < alpha:\n",
        "    print(\"Reject the null hypothesis: There is a significant main effect of experience level.\")\n",
        "else:\n",
        "    print(\"Fail to reject the null hypothesis: There is no significant main effect of experience level.\")\n",
        "\n",
        "if interaction_effect < alpha:\n",
        "    print(\"Reject the null hypothesis: There is a significant interaction effect between software programs and experience level.\")\n",
        "else:\n",
        "    print(\"Fail to reject the null hypothesis: There is no significant interaction effect between software programs and experience level.\")\n",
        "\n",
        "# Print F-statistics and p-values\n",
        "print(f\"Main Effect (Software): F-statistic = {main_effect_software}, p-value = {main_effect_software_p_value}\")\n",
        "print(f\"Main Effect (Experience): F-statistic = {main_effect_experience}, p-value = {main_effect_experience_p_value}\")\n",
        "print(f\"Interaction Effect: F-statistic = {interaction_effect}, p-value = {interaction_effect_p_value}\")\n"
      ],
      "metadata": {
        "id": "cD0MddwhT-Ef"
      },
      "execution_count": null,
      "outputs": []
    },
    {
      "cell_type": "markdown",
      "source": [
        "11. To determine if there are significant differences in test scores between the control group and the experimental group, you can conduct a two-sample t-test using Python. Here's an example of how to do it:"
      ],
      "metadata": {
        "id": "vzyRTEW7UHrE"
      }
    },
    {
      "cell_type": "code",
      "source": [
        "import scipy.stats as stats\n",
        "\n",
        "# Example data (replace with your actual data)\n",
        "control_group_scores = [score1, score2, ..., score50]  # Scores for the control group\n",
        "experimental_group_scores = [score1, score2, ..., score50]  # Scores for the experimental group\n",
        "\n",
        "# Perform a two-sample t-test\n",
        "t_statistic, p_value = stats.ttest_ind(control_group_scores, experimental_group_scores)\n",
        "\n",
        "# Set the significance level\n",
        "alpha = 0.05\n",
        "\n",
        "# Interpret the results\n",
        "if p_value < alpha:\n",
        "    print(\"Reject the null hypothesis: There are significant differences in test scores between the two groups.\")\n",
        "else:\n",
        "    print(\"Fail to reject the null hypothesis: There are no significant differences in test scores between the two groups.\")\n"
      ],
      "metadata": {
        "id": "NEaMCvWyUKAQ"
      },
      "execution_count": null,
      "outputs": []
    },
    {
      "cell_type": "markdown",
      "source": [
        "12. To determine if there are significant differences in daily sales between the three retail stores and conduct a post-hoc test if needed, you can use Python with the statsmodels library for the repeated measures ANOVA. However, repeated measures ANOVA typically applies to data where the same subjects are measured under different conditions or time points. If you are looking to compare different stores' daily sales on the same days, you might consider using a one-way ANOVA instead.\n",
        "\n",
        "Here's how you can conduct a one-way ANOVA and a post-hoc test if needed:"
      ],
      "metadata": {
        "id": "mcXJhIeGUWVG"
      }
    },
    {
      "cell_type": "code",
      "source": [
        "import statsmodels.api as sm\n",
        "from statsmodels.formula.api import ols\n",
        "from statsmodels.stats.multicomp import pairwise_tukeyhsd\n",
        "\n",
        "# Example data (replace with your actual data)\n",
        "data = pd.read_csv(\"your_data.csv\")  # Replace with your data file\n",
        "\n",
        "# Fit a one-way ANOVA model\n",
        "formula = \"sales ~ C(store)\"\n",
        "model = ols(formula, data=data).fit()\n",
        "\n",
        "# Perform the ANOVA\n",
        "anova_table = sm.stats.anova_lm(model, typ=2)\n",
        "\n",
        "# Interpret the results\n",
        "alpha = 0.05  # Significance level\n",
        "if anova_table['PR(>F)'][0] < alpha:\n",
        "    print(\"Reject the null hypothesis: There are significant differences in daily sales between the three stores.\")\n",
        "\n",
        "    # Perform a post-hoc Tukey's HSD test\n",
        "    posthoc = pairwise_tukeyhsd(data['sales'], data['store'], alpha=alpha)\n",
        "    print(posthoc)\n",
        "else:\n",
        "    print(\"Fail to reject the null hypothesis: There are no significant differences in daily sales between the three stores.\")\n"
      ],
      "metadata": {
        "id": "eM2zaRLPUbgl"
      },
      "execution_count": null,
      "outputs": []
    }
  ]
}