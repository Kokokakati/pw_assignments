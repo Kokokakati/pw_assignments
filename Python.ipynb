{
  "nbformat": 4,
  "nbformat_minor": 0,
  "metadata": {
    "colab": {
      "provenance": []
    },
    "kernelspec": {
      "name": "python3",
      "display_name": "Python 3"
    },
    "language_info": {
      "name": "python"
    }
  },
  "cells": [
    {
      "cell_type": "markdown",
      "source": [
        "Q1. Explain Class and Object with respect to Object-Oriented Programming. Give a suitable example.\n",
        "\n",
        "Q2. Name the four pillars of OOPs.\n",
        "\n",
        "Q3. Explain why the __init__() function is used. Give a suitable example.\n",
        "\n",
        "Q4. Why self is used in OOPs?\n",
        "\n",
        "Q5. What is inheritance? Give an example for each type of inheritance."
      ],
      "metadata": {
        "id": "Cgov1iNjOMt3"
      }
    },
    {
      "cell_type": "markdown",
      "source": [
        "Q1. Class and Object in Object-Oriented Programming (OOP):\n",
        "\n",
        "Class: A class in OOP is a blueprint or template for creating objects. It defines the attributes (properties) and methods (functions) that all objects of that class will have.\n",
        "Example: Consider a class Car which defines attributes like color, make, model, and methods like start_engine(), drive(), stop().\n",
        "\n",
        "Object: An object is an instance of a class. It is a concrete realization of the class blueprint, possessing its own unique set of attribute values and being able to perform actions defined by its class.\n",
        "Example: If we create an object my_car from the Car class, it could have specific attribute values like color='blue', make='Toyota', model='Camry', and can perform actions like my_car.start_engine()."
      ],
      "metadata": {
        "id": "dPxCKqkHOTL5"
      }
    },
    {
      "cell_type": "markdown",
      "source": [
        "Q2. Four Pillars of OOPs:\n",
        "\n",
        "Encapsulation: Bundling of data (attributes) and methods (functions) that operate on the data into a single unit (class). Encapsulation helps in hiding the internal state of an object and restricting access to it, ensuring data integrity and security.\n",
        "\n",
        "Abstraction: The concept of hiding complex implementation details and showing only the necessary features of an object. Abstraction allows focusing on what an object does rather than how it achieves it, facilitating ease of use and reducing complexity.\n",
        "\n",
        "Inheritance: Mechanism by which a class can inherit properties and behavior (attributes and methods) from another class. It promotes code reusability and establishes a hierarchical relationship among classes, where derived classes (subclasses) inherit from base classes (superclasses).\n",
        "\n",
        "Polymorphism: Ability of objects to take on different forms or behaviors based on the context. It allows a single interface to be used for different data types or objects, enabling flexibility and simplifying code maintenance."
      ],
      "metadata": {
        "id": "py7Vn-bsOUBS"
      }
    },
    {
      "cell_type": "markdown",
      "source": [
        "Q3. Use of the __init__() Function:\n",
        "The __init__() function is a special method in Python classes that is automatically called when a new object of the class is created. It is used to initialize the object's state by setting up initial attribute values. This function allows us to ensure that certain attributes are set to specific values when an object is instantiated.\n",
        "Example:"
      ],
      "metadata": {
        "id": "QgjlWkrDOXcV"
      }
    },
    {
      "cell_type": "code",
      "source": [
        "class Person:\n",
        "    def __init__(self, name, age):\n",
        "        self.name = name\n",
        "        self.age = age\n",
        "\n",
        "# Creating an object of the Person class\n",
        "person1 = Person(\"Alice\", 30)\n"
      ],
      "metadata": {
        "id": "pRJoSYYkOZl3"
      },
      "execution_count": null,
      "outputs": []
    },
    {
      "cell_type": "markdown",
      "source": [
        "Q4. Use of self in OOPs:\n",
        "In OOPs, self is a reference to the current instance of the class. It is used within class methods to access and modify attributes and call other methods of the same class. When an instance method is called, Python automatically passes the instance (object) as the first argument (self), allowing access to its attributes and methods within the method definition.\n",
        "\n",
        "\n",
        "\n",
        "Q5. Inheritance in OOPs:\n",
        "Inheritance is a mechanism in object-oriented programming that allows a new class (subclass or derived class) to inherit properties and behavior (attributes and methods) from an existing class (superclass or base class). This promotes code reuse and establishes a hierarchical relationship among classes."
      ],
      "metadata": {
        "id": "EFcYiKkpOc1n"
      }
    },
    {
      "cell_type": "code",
      "source": [
        "#Example of Single Inheritance:\n",
        "\n",
        "class Animal:\n",
        "    def speak(self):\n",
        "        print(\"Animal speaks\")\n",
        "\n",
        "class Dog(Animal):\n",
        "    def bark(self):\n",
        "        print(\"Dog barks\")\n",
        "\n",
        "# Creating an object of the Dog class\n",
        "dog = Dog()\n",
        "dog.speak()  # Output: Animal speaks\n",
        "dog.bark()   # Output: Dog barks\n"
      ],
      "metadata": {
        "id": "pNumrSwGOf_u"
      },
      "execution_count": null,
      "outputs": []
    },
    {
      "cell_type": "code",
      "source": [
        "#Example of Multiple Inheritance:\n",
        "\n",
        "class A:\n",
        "    def method_A(self):\n",
        "        print(\"Method A\")\n",
        "\n",
        "class B:\n",
        "    def method_B(self):\n",
        "        print(\"Method B\")\n",
        "\n",
        "class C(A, B):\n",
        "    def method_C(self):\n",
        "        print(\"Method C\")\n",
        "\n",
        "# Creating an object of the C class\n",
        "obj = C()\n",
        "obj.method_A()  # Output: Method A\n",
        "obj.method_B()  # Output: Method B\n",
        "obj.method_C()  # Output: Method C\n"
      ],
      "metadata": {
        "id": "hUXE3j5ROjbu"
      },
      "execution_count": null,
      "outputs": []
    }
  ]
}