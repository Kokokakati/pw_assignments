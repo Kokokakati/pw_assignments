{
  "nbformat": 4,
  "nbformat_minor": 0,
  "metadata": {
    "colab": {
      "provenance": []
    },
    "kernelspec": {
      "name": "python3",
      "display_name": "Python 3"
    },
    "language_info": {
      "name": "python"
    }
  },
  "cells": [
    {
      "cell_type": "markdown",
      "source": [
        "Q1. Explain the difference between linear regression and logistic regression models. Provide an example of\n",
        "a scenario where logistic regression would be more appropriate.\n",
        "\n",
        "Q2. What is the cost function used in logistic regression, and how is it optimized?\n",
        "\n",
        "Q3. Explain the concept of regularization in logistic regression and how it helps prevent overfitting.\n",
        "\n",
        "Q4. What is the ROC curve, and how is it used to evaluate the performance of the logistic regression\n",
        "model?\n",
        "\n",
        "Q5. What are some common techniques for feature selection in logistic regression? How do these\n",
        "techniques help improve the model's performance?\n",
        "\n",
        "Q6. How can you handle imbalanced datasets in logistic regression? What are some strategies for dealing\n",
        "with class imbalance?\n",
        "\n",
        "Q7. Can you discuss some common issues and challenges that may arise when implementing logistic\n",
        "regression, and how they can be addressed? For example, what can be done if there is multicollinearity\n",
        "among the independent variables?"
      ],
      "metadata": {
        "id": "ZP_T9VaUXeqD"
      }
    },
    {
      "cell_type": "markdown",
      "source": [
        "Q1. Difference between Linear Regression and Logistic Regression:\n",
        "\n",
        "Linear Regression: Linear regression is used for predicting a continuous outcome variable (numeric) based on one or more predictor variables. It establishes a linear relationship between the predictors and the target variable. For example, predicting house prices based on features like square footage, number of bedrooms, and location.\n",
        "\n",
        "Logistic Regression: Logistic regression is used for binary classification tasks, where the outcome variable is categorical and has only two classes (e.g., yes/no, spam/ham). It models the probability that a given input belongs to one of the two classes. For example, predicting whether an email is spam or not based on email content features.\n",
        "\n",
        "Scenario for Logistic Regression: Suppose you want to predict whether a student will pass (yes) or fail (no) an exam based on their study hours. In this case, logistic regression is more appropriate as the outcome is binary (pass/fail)."
      ],
      "metadata": {
        "id": "g49yiheuXL7J"
      }
    },
    {
      "cell_type": "markdown",
      "source": [
        "Q2. Cost Function in Logistic Regression:\n",
        "\n",
        "The cost function used in logistic regression is the logistic loss (also called the cross-entropy loss or log loss). It is defined as:"
      ],
      "metadata": {
        "id": "pmvOJPLhXNgK"
      }
    },
    {
      "cell_type": "code",
      "source": [
        "J(θ) = -1/m * Σ [y * log(h(x)) + (1 - y) * log(1 - h(x))]\n"
      ],
      "metadata": {
        "id": "JGiC-Si1XP9M"
      },
      "execution_count": null,
      "outputs": []
    },
    {
      "cell_type": "markdown",
      "source": [
        "Here, J(θ) represents the cost, m is the number of training examples, h(x) is the sigmoid function that models the probability of the positive class, and y is the actual class label (0 or 1).\n",
        "Optimization: Logistic regression is typically optimized using iterative optimization algorithms like gradient descent or its variants, which minimize the cost function by adjusting the model's parameters (θ) iteratively."
      ],
      "metadata": {
        "id": "Wbudi9MGXTAx"
      }
    },
    {
      "cell_type": "markdown",
      "source": [
        "Q3. Regularization in Logistic Regression:\n",
        "\n",
        "Regularization is used to prevent overfitting in logistic regression by adding a penalty term to the cost function. Common regularization techniques include L1 regularization (Lasso) and L2 regularization (Ridge).\n",
        "L1 regularization encourages some coefficients to become exactly zero, effectively performing feature selection. L2 regularization penalizes large coefficients but doesn't force them to be exactly zero.\n",
        "Regularization helps in reducing the complexity of the model, making it less prone to overfitting on the training data.\n",
        "\n",
        "\n",
        "Q4. ROC Curve in Logistic Regression:\n",
        "\n",
        "ROC (Receiver Operating Characteristic) curve is a graphical representation used to evaluate the performance of a logistic regression model.\n",
        "It plots the true positive rate (Sensitivity) against the false positive rate (1 - Specificity) at various threshold settings.\n",
        "The area under the ROC curve (AUC-ROC) quantifies the overall performance of the model. A higher AUC indicates better discrimination between the classes.\n",
        "\n",
        "\n",
        "Q5. Feature Selection in Logistic Regression:\n",
        "\n",
        "Common techniques for feature selection include:\n",
        "Recursive Feature Elimination (RFE): It recursively removes the least important features based on their coefficients.\n",
        "L1 Regularization: L1 regularization can force some coefficients to zero, effectively performing feature selection.\n",
        "Feature Importance: Using techniques like tree-based models, you can rank features by their importance.\n",
        "Feature selection helps improve model performance by reducing noise and focusing on the most informative features.\n",
        "\n",
        "\n",
        "Q6. Handling Imbalanced Datasets in Logistic Regression:\n",
        "\n",
        "Imbalanced datasets occur when one class has significantly more examples than the other. Techniques to handle this include:\n",
        "Resampling: Oversampling the minority class or undersampling the majority class to balance the dataset.\n",
        "Synthetic Data Generation: Techniques like SMOTE create synthetic samples for the minority class.\n",
        "Cost-sensitive Learning: Assigning different misclassification costs to different classes.\n",
        "Using Different Evaluation Metrics: Instead of accuracy, use metrics like precision, recall, F1-score, or AUC-ROC.\n",
        "\n",
        "\n",
        "Q7. Common Issues and Challenges in Logistic Regression:\n",
        "\n",
        "Multicollinearity: When independent variables are highly correlated, it can be challenging to interpret coefficients. Solutions include removing one of the correlated variables or using techniques like ridge regression.\n",
        "Outliers: Outliers can heavily influence the model. Robust regression techniques or outlier removal may be necessary.\n",
        "Non-linearity: Logistic regression assumes a linear relationship. For complex non-linear relationships, other models like decision trees or neural networks might be more suitable.\n",
        "Model Validation: Proper cross-validation and evaluation metrics selection are crucial to ensure the model's generalization performance.\n",
        "Feature Engineering: Selecting the right features and transforming them appropriately can significantly impact model performance."
      ],
      "metadata": {
        "id": "oMDgpAeLXTvX"
      }
    }
  ]
}