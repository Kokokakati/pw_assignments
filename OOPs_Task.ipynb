{
  "nbformat": 4,
  "nbformat_minor": 0,
  "metadata": {
    "colab": {
      "provenance": []
    },
    "kernelspec": {
      "name": "python3",
      "display_name": "Python 3"
    },
    "language_info": {
      "name": "python"
    }
  },
  "cells": [
    {
      "cell_type": "markdown",
      "source": [
        "Q1, Create a vehicle class with an init method having instance variables as name_of_vehicle, max_speed\n",
        "and average_of_vehicle.\n",
        "\n",
        "Q2. Create a child class car from the vehicle class created in Que 1, which will inherit the vehicle class.\n",
        "Create a method named seating_capacity which takes capacity as an argument and returns the name of\n",
        "the vehicle and its seating capacity.\n",
        "\n",
        "Q3. What is multiple inheritance? Write a python code to demonstrate multiple inheritance.\n",
        "\n",
        "Q4. What are getter and setter in python? Create a class and create a getter and a setter method in this\n",
        "class.\n",
        "\n",
        "Q5.What is method overriding in python? Write a python code to demonstrate method overriding."
      ],
      "metadata": {
        "id": "EIneE7t2Nh5L"
      }
    },
    {
      "cell_type": "code",
      "source": [
        "#q1\n",
        "class Vehicle:\n",
        "    def __init__(self, name_of_vehicle, max_speed, average_of_vehicle):\n",
        "        self.name_of_vehicle = name_of_vehicle\n",
        "        self.max_speed = max_speed\n",
        "        self.average_of_vehicle = average_of_vehicle\n"
      ],
      "metadata": {
        "id": "VmsBeJ0HNmIW"
      },
      "execution_count": null,
      "outputs": []
    },
    {
      "cell_type": "code",
      "source": [
        "#q2\n",
        "class Car(Vehicle):\n",
        "    def seating_capacity(self, capacity):\n",
        "        return f\"The {self.name_of_vehicle} has a seating capacity of {capacity}.\"\n",
        "\n",
        "# Example usage:\n",
        "car = Car(\"Toyota\", 200, 30)\n",
        "print(car.seating_capacity(5))\n"
      ],
      "metadata": {
        "id": "2fLq2vycNpGb"
      },
      "execution_count": null,
      "outputs": []
    },
    {
      "cell_type": "code",
      "source": [
        "#q3\n",
        "class Class1:\n",
        "    pass\n",
        "\n",
        "class Class2:\n",
        "    pass\n",
        "\n",
        "class MultiDerived(Class1, Class2):\n",
        "    pass\n",
        "\n",
        "# MultiDerived inherits from both Class1 and Class2\n"
      ],
      "metadata": {
        "id": "j6cqkMYBNtbR"
      },
      "execution_count": null,
      "outputs": []
    },
    {
      "cell_type": "code",
      "source": [
        "#q4\n",
        "class Example:\n",
        "    def __init__(self):\n",
        "        self._value = None\n",
        "\n",
        "    def get_value(self):\n",
        "        return self._value\n",
        "\n",
        "    def set_value(self, value):\n",
        "        self._value = value\n",
        "\n",
        "# Example usage:\n",
        "obj = Example()\n",
        "obj.set_value(10)\n",
        "print(obj.get_value())  # Output: 10\n"
      ],
      "metadata": {
        "id": "DtXMRuxeNxd3"
      },
      "execution_count": null,
      "outputs": []
    },
    {
      "cell_type": "code",
      "source": [
        "#q5\n",
        "class Parent:\n",
        "    def show(self):\n",
        "        print(\"Parent's show method\")\n",
        "\n",
        "class Child(Parent):\n",
        "    def show(self):\n",
        "        print(\"Child's show method\")\n",
        "\n",
        "# Example usage:\n",
        "obj = Child()\n",
        "obj.show()  # Output: Child's show method\n"
      ],
      "metadata": {
        "id": "HDuG34E2N0e1"
      },
      "execution_count": null,
      "outputs": []
    }
  ]
}