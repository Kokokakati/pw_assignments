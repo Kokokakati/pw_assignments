{
  "nbformat": 4,
  "nbformat_minor": 0,
  "metadata": {
    "colab": {
      "provenance": []
    },
    "kernelspec": {
      "name": "python3",
      "display_name": "Python 3"
    },
    "language_info": {
      "name": "python"
    }
  },
  "cells": [
    {
      "cell_type": "markdown",
      "source": [
        "Q1. What is data encoding? How is it useful in data science?\n",
        "\n",
        "Q2. What is nominal encoding? Provide an example of how you would use it in a real-world scenario.\n",
        "\n",
        "Q3. In what situations is nominal encoding preferred over one-hot encoding? Provide a practical example.\n",
        "\n",
        "Q4. Suppose you have a dataset containing categorical data with 5 unique values. Which encoding\n",
        "technique would you use to transform this data into a format suitable for machine learning algorithms?\n",
        "Explain why you made this choice.\n",
        "\n",
        "Q5. In a machine learning project, you have a dataset with 1000 rows and 5 columns. Two of the columns\n",
        "are categorical, and the remaining three columns are numerical. If you were to use nominal encoding to\n",
        "transform the categorical data, how many new columns would be created? Show your calculations.\n",
        "\n",
        "Q6. You are working with a dataset containing information about different types of animals, including their\n",
        "species, habitat, and diet. Which encoding technique would you use to transform the categorical data into\n",
        "a format suitable for machine learning algorithms? Justify your answer.\n",
        "\n",
        "Q7.You are working on a project that involves predicting customer churn for a telecommunications\n",
        "company. You have a dataset with 5 features, including the customer's gender, age, contract type,\n",
        "monthly charges, and tenure. Which encoding technique(s) would you use to transform the categorical\n",
        "data into numerical data? Provide a step-by-step explanation of how you would implement the encoding."
      ],
      "metadata": {
        "id": "l2BVb6NMo3FY"
      }
    },
    {
      "cell_type": "markdown",
      "source": [
        "Q1: Data encoding is the process of converting categorical or textual data into a numerical format that can be used by machine learning algorithms. It is useful in data science because many machine learning algorithms require numerical input. Data encoding allows us to represent categorical information as numbers, enabling the algorithms to process and make predictions on this information.\n",
        "\n",
        "\n",
        "Q2: Nominal encoding is a type of data encoding used for nominal categorical variables, where each category is assigned a unique integer value. It is suitable when the categories have no inherent order or ranking. One common method of nominal encoding is using label encoding.\n",
        "\n",
        "Example of nominal encoding:\n",
        "Suppose we have a dataset containing information about car colors: [\"red\", \"blue\", \"green\", \"red\", \"yellow\"]. We can use nominal encoding (label encoding) to represent these colors as numbers: {\"red\": 0, \"blue\": 1, \"green\": 2, \"yellow\": 3}.\n",
        "\n",
        "\n",
        "Q3: Nominal encoding is preferred over one-hot encoding in situations when the categorical variable has a large number of unique categories or when the order of categories does not matter. One-hot encoding creates binary columns for each category, leading to a high number of columns and increased dimensionality.\n",
        "\n",
        "Practical example:\n",
        "Suppose we have a dataset with a column representing countries. If there are hundreds of unique countries, one-hot encoding would create many new columns, making the dataset more sparse and potentially leading to computational challenges. In such cases, nominal encoding (label encoding) can be more practical as it represents the countries with unique integers."
      ],
      "metadata": {
        "id": "kJVXGCFZo8Ls"
      }
    },
    {
      "cell_type": "markdown",
      "source": [
        "Q4: If the dataset contains categorical data with 5 unique values, and the categories do not have any inherent order or ranking, then nominal encoding using label encoding can be used to transform this data into a suitable format for machine learning algorithms. Label encoding would assign each category a unique integer value from 0 to 4, representing the 5 unique values.\n",
        "\n",
        "\n",
        "Q5: If you were to use nominal encoding (label encoding) to transform the two categorical columns with 5 unique values each, you would create two new columns, each representing the encoded values of the original categories. So, the total number of new columns created would be 2.\n",
        "\n",
        "\n",
        "Q6: For the dataset containing information about different types of animals, including their species, habitat, and diet, one suitable encoding technique would be nominal encoding (label encoding). This is because the species, habitat, and diet categories do not have any inherent order or ranking. Label encoding can be used to represent each animal's species, habitat, and diet with unique integer values, allowing machine learning algorithms to process this information.\n",
        "\n",
        "\n",
        "\n",
        "\n",
        "\n",
        "\n",
        "\n"
      ],
      "metadata": {
        "id": "94oPeTqvpDkE"
      }
    },
    {
      "cell_type": "markdown",
      "source": [
        "Q7: To transform the categorical data into numerical data for the customer churn prediction project, we can use nominal encoding (label encoding) for the \"gender\" and \"contract type\" features.\n",
        "\n",
        "Step-by-step explanation:\n",
        "\n",
        "Identify the unique categories in the \"gender\" and \"contract type\" columns.\n",
        "Assign a unique integer value to each category using label encoding.\n",
        "Replace the categorical values in the respective columns with their corresponding integer values.\n",
        "For example:\n",
        "\n",
        "Original dataset:\n",
        "\n",
        "| gender | contract type | monthly charges | tenure |\n",
        "|--------|---------------|-----------------|--------|\n",
        "| Male   | One year      | 50              | 10     |\n",
        "| Female | Two year      | 80              | 20     |\n",
        "| Male   | Month-to-month| 60              | 15     |\n",
        "\n",
        "Nominal encoding for \"gender\":\n",
        "\n",
        "| gender_encoded | contract type   | monthly charges | tenure |\n",
        "|----------------|-----------------|-----------------|--------|\n",
        "| 0              | One year        | 50              | 10     |\n",
        "| 1              | Two year        | 80              | 20     |\n",
        "| 0              | Month-to-month  | 60              | 15     |\n",
        "\n",
        "Nominal encoding for \"contract type\":\n",
        "\n",
        "| gender_encoded | contract type_encoded | monthly charges | tenure |\n",
        "|----------------|----------------------|-----------------|--------|\n",
        "| 0              | 0                    | 50              | 10     |\n",
        "| 1              | 1                    | 80              | 20     |\n",
        "| 0              | 2                    | 60              | 15     |\n"
      ],
      "metadata": {
        "id": "Ig-szPoZpOEN"
      }
    }
  ]
}