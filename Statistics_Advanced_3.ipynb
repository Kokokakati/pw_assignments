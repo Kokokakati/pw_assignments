{
  "nbformat": 4,
  "nbformat_minor": 0,
  "metadata": {
    "colab": {
      "provenance": []
    },
    "kernelspec": {
      "name": "python3",
      "display_name": "Python 3"
    },
    "language_info": {
      "name": "python"
    }
  },
  "cells": [
    {
      "cell_type": "markdown",
      "source": [
        "Q1: What is Estimation Statistics? Explain point estimate and interval estimate.\n",
        "\n",
        "Q2. Write a Python function to estimate the population mean using a sample mean and standard\n",
        "deviation.\n",
        "\n",
        "Q3: What is Hypothesis testing? Why is it used? State the importance of Hypothesis testing.\n",
        "\n",
        "Q4. Create a hypothesis that states whether the average weight of male college students is greater than\n",
        "the average weight of female college students.\n",
        "\n",
        "Q5. Write a Python script to conduct a hypothesis test on the difference between two population means,\n",
        "given a sample from each population.\n",
        "\n",
        "Q6: What is a null and alternative hypothesis? Give some examples.\n",
        "\n",
        "Q7: Write down the steps involved in hypothesis testing.\n",
        "\n",
        "Q8. Define p-value and explain its significance in hypothesis testing.\n",
        "\n",
        "Q9. Generate a Student's t-distribution plot using Python's matplotlib library, with the degrees of freedom\n",
        "parameter set to 10.\n",
        "\n",
        "Q10. Write a Python program to calculate the two-sample t-test for independent samples, given two\n",
        "random samples of equal size and a null hypothesis that the population means are equal.\n",
        "\n",
        "Q11: What is Student’s t distribution? When to use the t-Distribution.\n",
        "\n",
        "Q12: What is t-statistic? State the formula for t-statistic.\n",
        "\n",
        "Q13. A coffee shop owner wants to estimate the average daily revenue for their shop. They take a random\n",
        "sample of 50 days and find the sample mean revenue to be $500 with a standard deviation of $50.\n",
        "Estimate the population mean revenue with a 95% confidence interval.\n",
        "\n",
        "Q14. A researcher hypothesizes that a new drug will decrease blood pressure by 10 mmHg. They conduct a\n",
        "clinical trial with 100 patients and find that the sample mean decrease in blood pressure is 8 mmHg with a\n",
        "standard deviation of 3 mmHg. Test the hypothesis with a significance level of 0.05.\n",
        "\n",
        "Q15. An electronics company produces a certain type of product with a mean weight of 5 pounds and a\n",
        "standard deviation of 0.5 pounds. A random sample of 25 products is taken, and the sample mean weight\n",
        "is found to be 4.8 pounds. Test the hypothesis that the true mean weight of the products is less than 5\n",
        "pounds with a significance level of 0.01.\n",
        "\n",
        "Q16. Two groups of students are given different study materials to prepare for a test. The first group (n1 =\n",
        "30) has a mean score of 80 with a standard deviation of 10, and the second group (n2 = 40) has a mean\n",
        "score of 75 with a standard deviation of 8. Test the hypothesis that the population means for the two\n",
        "groups are equal with a significance level of 0.01.\n",
        "\n",
        "Q17. A marketing company wants to estimate the average number of ads watched by viewers during a TV\n",
        "program. They take a random sample of 50 viewers and find that the sample mean is 4 with a standard\n",
        "deviation of 1.5. Estimate the population mean with a 99% confidence interval."
      ],
      "metadata": {
        "id": "3rFV0KTW8f1j"
      }
    },
    {
      "cell_type": "markdown",
      "source": [
        "Q1: Estimation Statistics and Point Estimate vs. Interval Estimate\n",
        "Estimation Statistics is a branch of statistics that deals with estimating unknown population parameters using sample data. The goal is to make inferences about the population based on information obtained from a sample.\n",
        "\n",
        "Point Estimate:\n",
        "A point estimate is a single value that serves as the best guess or estimate of an unknown population parameter. It is calculated from the sample data and is used to approximate the true value of the parameter. For example, the sample mean is often used as a point estimate for the population mean.\n",
        "\n",
        "Interval Estimate:\n",
        "An interval estimate is a range of values within which the true population parameter is likely to fall, along with a certain level of confidence. It takes into account the uncertainty associated with estimating the parameter from a sample. The confidence interval is often expressed as a range with an associated confidence level (e.g., 95% confidence interval)."
      ],
      "metadata": {
        "id": "_hy8yL0p6XiA"
      }
    },
    {
      "cell_type": "markdown",
      "source": [
        "Q2: Python function to estimate population mean using sample mean and standard deviation\n",
        "Here's a Python function that calculates the point estimate (population mean) along with a specified confidence interval using the sample mean and standard deviation:"
      ],
      "metadata": {
        "id": "biUMYFrF6YK6"
      }
    },
    {
      "cell_type": "code",
      "source": [
        "import scipy.stats as stats\n",
        "\n",
        "def estimate_population_mean(sample_mean, sample_std_dev, sample_size, confidence_level):\n",
        "    # Calculate the critical value based on the confidence level\n",
        "    z_critical = stats.t.ppf(1 - (1 - confidence_level) / 2, df=sample_size - 1)\n",
        "\n",
        "    # Calculate the margin of error\n",
        "    margin_of_error = z_critical * (sample_std_dev / (sample_size ** 0.5))\n",
        "\n",
        "    # Calculate the confidence interval\n",
        "    lower_bound = sample_mean - margin_of_error\n",
        "    upper_bound = sample_mean + margin_of_error\n",
        "\n",
        "    return sample_mean, (lower_bound, upper_bound)\n",
        "\n",
        "# Example usage:\n",
        "sample_mean = 500\n",
        "sample_std_dev = 50\n",
        "sample_size = 50\n",
        "confidence_level = 0.95\n",
        "\n",
        "mean_estimate, confidence_interval = estimate_population_mean(sample_mean, sample_std_dev, sample_size, confidence_level)\n",
        "print(\"Estimated Population Mean:\", mean_estimate)\n",
        "print(\"Confidence Interval:\", confidence_interval)\n"
      ],
      "metadata": {
        "colab": {
          "base_uri": "https://localhost:8080/"
        },
        "id": "pOPrwy8b6ajw",
        "outputId": "c779bc45-e58c-4215-fcbf-50add23037fb"
      },
      "execution_count": 1,
      "outputs": [
        {
          "output_type": "stream",
          "name": "stdout",
          "text": [
            "Estimated Population Mean: 500\n",
            "Confidence Interval: (485.79015724388137, 514.2098427561186)\n"
          ]
        }
      ]
    },
    {
      "cell_type": "markdown",
      "source": [
        "Q3: Hypothesis Testing and Its Importance\n",
        "Hypothesis testing is a statistical method used to make decisions about population parameters based on sample data. It involves formulating two competing hypotheses, the null hypothesis (H0) and the alternative hypothesis (H1). The goal is to determine whether there is enough evidence from the sample data to reject the null hypothesis in favor of the alternative hypothesis.\n",
        "\n",
        "Importance of Hypothesis Testing:\n",
        "\n",
        "1.It allows researchers and analysts to make objective decisions based on data, rather than relying on intuition or subjective beliefs.\n",
        "2.Hypothesis testing helps in drawing conclusions about the population from a limited sample.\n",
        "3.It is a fundamental tool in scientific research, allowing scientists to test their theories and hypotheses against empirical evidence.\n",
        "4.Hypothesis testing provides a way to assess the practical significance of an effect or relationship observed in the data.\n",
        "5.It helps in making informed decisions in various fields, such as medicine, economics, social sciences, and quality control."
      ],
      "metadata": {
        "id": "JPQwWpCL6cAi"
      }
    },
    {
      "cell_type": "markdown",
      "source": [
        "Q4: Hypothesis about the average weight of male and female college students\n",
        "Null Hypothesis (H0): The average weight of male college students is equal to or less than the average weight of female college students.\n",
        "Alternative Hypothesis (H1): The average weight of male college students is greater than the average weight of female college students."
      ],
      "metadata": {
        "id": "VfsXGc-b6x_A"
      }
    },
    {
      "cell_type": "markdown",
      "source": [
        "Q5: Python script to conduct a hypothesis test on the difference between two population means\n",
        "Assuming we have two samples, sample1 and sample2, here's a Python script to conduct a two-sample t-test to compare their population means:"
      ],
      "metadata": {
        "id": "Z-CMxh7H6zxR"
      }
    },
    {
      "cell_type": "code",
      "source": [
        "import scipy.stats as stats\n",
        "\n",
        "def two_sample_t_test(sample1, sample2, alpha=0.05):\n",
        "    # Calculate sample statistics\n",
        "    mean1 = sum(sample1) / len(sample1)\n",
        "    mean2 = sum(sample2) / len(sample2)\n",
        "    std_dev1 = (sum((x - mean1) ** 2 for x in sample1) / (len(sample1) - 1)) ** 0.5\n",
        "    std_dev2 = (sum((x - mean2) ** 2 for x in sample2) / (len(sample2) - 1)) ** 0.5\n",
        "\n",
        "    # Calculate the t-statistic\n",
        "    t_statistic = (mean1 - mean2) / ((std_dev1 ** 2 / len(sample1)) + (std_dev2 ** 2 / len(sample2))) ** 0.5\n",
        "\n",
        "    # Calculate degrees of freedom\n",
        "    df = len(sample1) + len(sample2) - 2\n",
        "\n",
        "    # Calculate the critical t-value\n",
        "    t_critical = stats.t.ppf(1 - alpha / 2, df)\n",
        "\n",
        "    # Perform the test\n",
        "    p_value = 2 * (1 - stats.t.cdf(abs(t_statistic), df))\n",
        "\n",
        "    # Compare p-value with alpha to make a decision\n",
        "    if p_value < alpha:\n",
        "        conclusion = \"Reject null hypothesis. There is a significant difference between the population means.\"\n",
        "    else:\n",
        "        conclusion = \"Fail to reject null hypothesis. There is no significant difference between the population means.\"\n",
        "\n",
        "    return t_statistic, p_value, conclusion\n",
        "\n",
        "# Example usage:\n",
        "sample1 = [67, 70, 72, 65, 69]\n",
        "sample2 = [62, 64, 68, 61, 66]\n",
        "\n",
        "t_stat, p_val, conclusion = two_sample_t_test(sample1, sample2)\n",
        "print(\"T-Statistic:\", t_stat)\n",
        "print(\"P-Value:\", p_val)\n",
        "print(conclusion)\n"
      ],
      "metadata": {
        "colab": {
          "base_uri": "https://localhost:8080/"
        },
        "id": "3uXbsQmB61uu",
        "outputId": "c19fdd41-731f-46b6-d52c-a14ed7cea074"
      },
      "execution_count": 2,
      "outputs": [
        {
          "output_type": "stream",
          "name": "stdout",
          "text": [
            "T-Statistic: 2.4990320706870808\n",
            "P-Value: 0.03699779693075822\n",
            "Reject null hypothesis. There is a significant difference between the population means.\n"
          ]
        }
      ]
    },
    {
      "cell_type": "markdown",
      "source": [
        "Q6: Null and Alternative Hypothesis (with examples)\n",
        "In a hypothesis test, the null hypothesis (H0) represents the default assumption or the status quo, while the alternative hypothesis (H1) represents the researcher's claim or the effect they are trying to find evidence for.\n",
        "\n",
        "Examples:\n",
        "\n",
        "Null Hypothesis (H0): There is no significant difference in test scores between students who use Study Material A and those who use Study Material B.\n",
        "Alternative Hypothesis (H1): Students who use Study Material A perform better on tests than those who use Study Material B.\n",
        "\n",
        "Null Hypothesis (H0): There is no relationship between age and income level.\n",
        "Alternative Hypothesis (H1): Income level is significantly influenced by age.\n",
        "\n",
        "Null Hypothesis (H0): The mean response time for an application is less than or equal to 5 seconds.\n",
        "Alternative Hypothesis (H1): The mean response time for an application is greater than 5 seconds."
      ],
      "metadata": {
        "id": "ij_qoEpC7KTb"
      }
    },
    {
      "cell_type": "markdown",
      "source": [
        "Q7: Steps involved in hypothesis testing\n",
        "\n",
        "Formulate the Null Hypothesis (H0) and Alternative Hypothesis (H1) based on the research question or claim.\n",
        "Choose an appropriate significance level (alpha), typically 0.05, which represents the probability of making a Type I error (incorrectly rejecting a true null hypothesis).\n",
        "Collect sample data and calculate sample statistics (e.g., mean, standard deviation).\n",
        "Determine the test statistic appropriate for the hypothesis test (e.g., t-statistic, z-statistic).\n",
        "Calculate the p-value associated with the test statistic.\n",
        "Compare the p-value with the chosen significance level (alpha).\n",
        "If the p-value is less than alpha, reject the null hypothesis in favor of the alternative hypothesis. If the p-value is greater than or equal to alpha, fail to reject the null hypothesis.\n",
        "Interpret the results in the context of the problem and draw conclusions."
      ],
      "metadata": {
        "id": "q8LBUQ-47OBc"
      }
    },
    {
      "cell_type": "markdown",
      "source": [
        "Q8: Definition and significance of p-value in hypothesis testing\n",
        "The p-value, short for \"probability value,\" is a measure of the strength of evidence against the null hypothesis in a hypothesis test. It indicates the probability of observing the sample data or more extreme results, assuming that the null hypothesis is true.\n",
        "\n",
        "Significance of the p-value:\n",
        "\n",
        "If the p-value is small (usually less than the chosen significance level, alpha), it suggests that the observed results are unlikely to occur by chance alone if the null hypothesis is true. Therefore, we reject the null hypothesis in favor of the alternative hypothesis.\n",
        "If the p-value is large, it suggests that the observed results are likely to occur by chance even if the null hypothesis is true. In this case, we fail to reject the null hypothesis.\n",
        "In general, a smaller p-value provides stronger evidence against the null hypothesis and supports the alternative hypothesis. The significance level (alpha) serves as a threshold to make a decision regarding the null hypothesis. Commonly used significance levels are 0.05 (5%) and 0.01 (1%)."
      ],
      "metadata": {
        "id": "U__9EGqb7OLn"
      }
    },
    {
      "cell_type": "markdown",
      "source": [
        "Q9: Generating a Student's t-distribution plot using Python's matplotlib library\n",
        "Here's a Python code snippet to generate a Student's t-distribution plot with 10 degrees of freedom using the matplotlib library:"
      ],
      "metadata": {
        "id": "1Z0C1X8f7RsV"
      }
    },
    {
      "cell_type": "code",
      "source": [
        "import numpy as np\n",
        "import matplotlib.pyplot as plt\n",
        "import scipy.stats as stats\n",
        "\n",
        "# Generate data points for the x-axis\n",
        "x = np.linspace(-4, 4, 1000)\n",
        "\n",
        "# Calculate the t-distribution values for 10 degrees of freedom\n",
        "degrees_of_freedom = 10\n",
        "t_distribution = stats.t.pdf(x, df=degrees_of_freedom)\n",
        "\n",
        "# Plot the t-distribution\n",
        "plt.plot(x, t_distribution, label=f\"t-distribution (df={degrees_of_freedom})\")\n",
        "plt.xlabel(\"x\")\n",
        "plt.ylabel(\"Probability Density Function\")\n",
        "plt.title(\"Student's t-distribution\")\n",
        "plt.legend()\n",
        "plt.grid(True)\n",
        "plt.show()\n"
      ],
      "metadata": {
        "colab": {
          "base_uri": "https://localhost:8080/",
          "height": 472
        },
        "id": "yDNRN-X27WQC",
        "outputId": "3e4a9c4c-7f79-41de-9baf-c2ba6bd01156"
      },
      "execution_count": 3,
      "outputs": [
        {
          "output_type": "display_data",
          "data": {
            "text/plain": [
              "<Figure size 640x480 with 1 Axes>"
            ],
            "image/png": "[encoded data removed]"
          },
          "metadata": {}
        }
      ]
    },
    {
      "cell_type": "markdown",
      "source": [
        "Q10: Python program to calculate the two-sample t-test for independent samples\n",
        "Here's a Python function that performs a two-sample t-test for independent samples:"
      ],
      "metadata": {
        "id": "h3aRd4sR7ZRh"
      }
    },
    {
      "cell_type": "code",
      "source": [
        "import scipy.stats as stats\n",
        "\n",
        "def two_sample_t_test_independent(sample1, sample2, alpha=0.05):\n",
        "    t_statistic, p_value = stats.ttest_ind(sample1, sample2, equal_var=True)\n",
        "\n",
        "    # Compare p-value with alpha to make a decision\n",
        "    if p_value < alpha:\n",
        "        conclusion = \"Reject null hypothesis. There is a significant difference between the population means.\"\n",
        "    else:\n",
        "        conclusion = \"Fail to reject null hypothesis. There is no significant difference between the population means.\"\n",
        "\n",
        "    return t_statistic, p_value, conclusion\n",
        "\n",
        "# Example usage:\n",
        "sample1 = [67, 70, 72, 65, 69]\n",
        "sample2 = [62, 64, 68, 61, 66]\n",
        "\n",
        "t_stat, p_val, conclusion = two_sample_t_test_independent(sample1, sample2)\n",
        "print(\"T-Statistic:\", t_stat)\n",
        "print(\"P-Value:\", p_val)\n",
        "print(conclusion)\n"
      ],
      "metadata": {
        "colab": {
          "base_uri": "https://localhost:8080/"
        },
        "id": "P-Kfnnnl7azb",
        "outputId": "7346d857-c07e-4218-92b6-9c220768f4cd"
      },
      "execution_count": 4,
      "outputs": [
        {
          "output_type": "stream",
          "name": "stdout",
          "text": [
            "T-Statistic: 2.4990320706870808\n",
            "P-Value: 0.03699779693075825\n",
            "Reject null hypothesis. There is a significant difference between the population means.\n"
          ]
        }
      ]
    },
    {
      "cell_type": "markdown",
      "source": [
        "Q11: Student’s t distribution and when to use it\n",
        "The Student's t distribution (or simply t-distribution) is a probability distribution that arises when we work with small sample sizes and do not know the population standard deviation. It is similar in shape to the standard normal distribution (Z-distribution), but its tails are thicker, providing more probability in the extreme values.\n",
        "\n",
        "When to use the t-Distribution:\n",
        "The t-distribution is used in the following situations:\n",
        "\n",
        "When the sample size is small (typically n < 30) and the population standard deviation is unknown.\n",
        "When conducting hypothesis tests or constructing confidence intervals for the population mean based on a small sample.\n",
        "When working with real-world data, where the assumptions of a normal distribution may not be met, but the sample size is reasonably large (n ≥ 30).\n",
        "The t-distribution converges to the standard normal distribution (Z-distribution) as the sample size increases, and it is commonly used in situations where we have limited data and are uncertain about the population parameters."
      ],
      "metadata": {
        "id": "yC7UWdf-7eLk"
      }
    },
    {
      "cell_type": "markdown",
      "source": [
        "Q12: t-statistic and its formula\n",
        "The t-statistic is a measure used in hypothesis testing to assess the difference between a sample mean and a population mean (or between two sample means) when the population standard deviation is unknown.\n",
        "\n",
        "For a single sample with sample mean (x̄) and sample standard deviation (s), the formula for the t-statistic is:\n",
        "\n",
        "t = (x̄ - μ) / (s / √n)\n",
        "\n",
        "Where:\n",
        "\n",
        "x̄ is the sample mean\n",
        "μ is the hypothesized population mean under the null hypothesis (H0)\n",
        "s is the sample standard deviation\n",
        "n is the sample size\n",
        "For the two-sample t-test (independent samples), the formula for the t-statistic comparing two sample means (x̄1 and x̄2) is:\n",
        "\n",
        "t = (x̄1 - x̄2) / √((s1^2 / n1) + (s2^2 / n2))\n",
        "\n",
        "Where:\n",
        "\n",
        "x̄1 and x̄2 are the sample means of the two independent samples\n",
        "s1 and s2 are the sample standard deviations of the two independent samples\n",
        "n1 and n2 are the sample sizes of the two independent samples"
      ],
      "metadata": {
        "id": "xTSaZl4G7h2u"
      }
    },
    {
      "cell_type": "markdown",
      "source": [
        "Q13: Estimating the population mean revenue with a 95% confidence interval\n",
        "Given sample mean revenue = dollar 500, sample standard deviation = dollar 50, and sample size = 50, we can estimate the population mean revenue with a 95% confidence interval."
      ],
      "metadata": {
        "id": "_uEfL-xI7k1V"
      }
    },
    {
      "cell_type": "code",
      "source": [
        "import scipy.stats as stats\n",
        "\n",
        "# Given data\n",
        "sample_mean = 500\n",
        "sample_std_dev = 50\n",
        "sample_size = 50\n",
        "confidence_level = 0.95\n",
        "\n",
        "# Calculate the critical value based on the confidence level\n",
        "t_critical = stats.t.ppf(1 - (1 - confidence_level) / 2, df=sample_size - 1)\n",
        "\n",
        "# Calculate the margin of error\n",
        "margin_of_error = t_critical * (sample_std_dev / (sample_size ** 0.5))\n",
        "\n",
        "# Calculate the confidence interval\n",
        "lower_bound = sample_mean - margin_of_error\n",
        "upper_bound = sample_mean + margin_of_error\n",
        "\n",
        "print(f\"Population Mean Revenue (Point Estimate): ${sample_mean:.2f}\")\n",
        "print(f\"95% Confidence Interval: ${lower_bound:.2f} to ${upper_bound:.2f}\")\n"
      ],
      "metadata": {
        "colab": {
          "base_uri": "https://localhost:8080/"
        },
        "id": "fVJh8NZo7nMX",
        "outputId": "2186f3aa-919f-4502-d25e-82024b3deb6d"
      },
      "execution_count": 5,
      "outputs": [
        {
          "output_type": "stream",
          "name": "stdout",
          "text": [
            "Population Mean Revenue (Point Estimate): $500.00\n",
            "95% Confidence Interval: $485.79 to $514.21\n"
          ]
        }
      ]
    },
    {
      "cell_type": "markdown",
      "source": [
        "Q14: Testing the hypothesis about the new drug's effect on blood pressure\n",
        "Given sample mean decrease in blood pressure = 8 mmHg, sample standard deviation = 3 mmHg, sample size = 100, and significance level = 0.05, we can test the hypothesis.\n",
        "\n",
        "Null Hypothesis (H0): The new drug has no effect on blood pressure (mean decrease = 0 mmHg).\n",
        "Alternative Hypothesis (H1): The new drug decreases blood pressure by 10 mmHg (mean decrease ≠ 0 mmHg)."
      ],
      "metadata": {
        "id": "MhoJ2Vty8Dor"
      }
    },
    {
      "cell_type": "code",
      "source": [
        "import scipy.stats as stats\n",
        "\n",
        "# Given data\n",
        "sample_mean = 8\n",
        "sample_std_dev = 3\n",
        "sample_size = 100\n",
        "significance_level = 0.05\n",
        "expected_mean_decrease = 10\n",
        "\n",
        "# Calculate the t-statistic\n",
        "t_statistic = (sample_mean - expected_mean_decrease) / (sample_std_dev / (sample_size ** 0.5))\n",
        "\n",
        "# Calculate degrees of freedom\n",
        "df = sample_size - 1\n",
        "\n",
        "# Calculate the critical t-value for a two-tailed test\n",
        "t_critical = stats.t.ppf(1 - (significance_level / 2), df)\n",
        "\n",
        "# Calculate the p-value\n",
        "p_value = 2 * (1 - stats.t.cdf(abs(t_statistic), df))\n",
        "\n",
        "# Compare p-value with significance level to make a decision\n",
        "if p_value < significance_level:\n",
        "    conclusion = \"Reject null hypothesis. The new drug has a significant effect on blood pressure.\"\n",
        "else:\n",
        "    conclusion = \"Fail to reject null hypothesis. The new drug does not have a significant effect on blood pressure.\"\n",
        "\n",
        "print(f\"T-Statistic: {t_statistic:.2f}\")\n",
        "print(f\"P-Value: {p_value:.4f}\")\n",
        "print(conclusion)\n"
      ],
      "metadata": {
        "id": "B73dxMQI8HWS"
      },
      "execution_count": null,
      "outputs": []
    },
    {
      "cell_type": "markdown",
      "source": [
        "Q15: Testing the hypothesis about the mean weight of products\n",
        "Given sample mean weight = 4.8 pounds, sample size = 25, population mean = 5 pounds, sample standard deviation = 0.5 pounds, and significance level = 0.01, we can test the hypothesis.\n",
        "\n",
        "Null Hypothesis (H0): The true mean weight of the products is 5 pounds or more.\n",
        "Alternative Hypothesis (H1): The true mean weight of the products is less than 5 pounds."
      ],
      "metadata": {
        "id": "tnhJ2EZe8H-P"
      }
    },
    {
      "cell_type": "code",
      "source": [
        "import scipy.stats as stats\n",
        "\n",
        "# Given data\n",
        "sample_mean = 4.8\n",
        "population_mean = 5\n",
        "sample_std_dev = 0.5\n",
        "sample_size = 25\n",
        "significance_level = 0.01\n",
        "\n",
        "# Calculate the t-statistic\n",
        "t_statistic = (sample_mean - population_mean) / (sample_std_dev / (sample_size ** 0.5))\n",
        "\n",
        "# Calculate degrees of freedom\n",
        "df = sample_size - 1\n",
        "\n",
        "# Calculate the critical t-value for a one-tailed test (lower tail)\n",
        "t_critical = stats.t.ppf(significance_level, df)\n",
        "\n",
        "# Calculate the p-value for a one-tailed test (lower tail)\n",
        "p_value = stats.t.cdf(t_statistic, df)\n",
        "\n",
        "# Compare p-value with significance level to make a decision\n",
        "if p_value < significance_level:\n",
        "    conclusion = \"Reject null hypothesis. The true mean weight of the products is less than 5 pounds.\"\n",
        "else:\n",
        "    conclusion = \"Fail to reject null hypothesis. The true mean weight of the products is 5 pounds or more.\"\n",
        "\n",
        "print(f\"T-Statistic: {t_statistic:.2f}\")\n",
        "print(f\"P-Value: {p_value:.4f}\")\n",
        "print(conclusion)\n"
      ],
      "metadata": {
        "id": "IEKRPaac8L1G"
      },
      "execution_count": null,
      "outputs": []
    },
    {
      "cell_type": "markdown",
      "source": [
        "Q16: Testing the hypothesis about the population means of two groups\n",
        "Given sample mean score and sample standard deviation for two groups, along with sample sizes and significance level, we can test the hypothesis.\n",
        "\n",
        "Null Hypothesis (H0): The population means for the two groups are equal.\n",
        "Alternative Hypothesis (H1): The population means for the two groups are not equal."
      ],
      "metadata": {
        "id": "p5S0myu18OQE"
      }
    },
    {
      "cell_type": "code",
      "source": [
        "import scipy.stats as stats\n",
        "\n",
        "# Given data for group 1\n",
        "sample_mean1 = 80\n",
        "sample_std_dev1 = 10\n",
        "sample_size1 = 30\n",
        "\n",
        "# Given data for group 2\n",
        "sample_mean2 = 75\n",
        "sample_std_dev2 = 8\n",
        "sample_size2 = 40\n",
        "\n",
        "# Significance level\n",
        "significance_level = 0.01\n",
        "\n",
        "# Calculate the pooled standard deviation\n",
        "pooled_std_dev = ((sample_std_dev1 ** 2 * (sample_size1 - 1) + sample_std_dev2 ** 2 * (sample_size2 - 1)) / (sample_size1 + sample_size2 - 2)) ** 0.5\n",
        "\n",
        "# Calculate the t-statistic for independent samples\n",
        "t_statistic = (sample_mean1 - sample_mean2) / (pooled_std_dev * ((1 / sample_size1) + (1 / sample_size2)) ** 0.5)\n",
        "\n",
        "# Calculate degrees of freedom\n",
        "df = sample_size1 + sample_size2 - 2\n",
        "\n",
        "# Calculate the critical t-value for a two-tailed test\n",
        "t_critical = stats.t.ppf(1 - (significance_level / 2), df)\n",
        "\n",
        "# Calculate the p-value for a two-tailed test\n",
        "p_value = 2 * (1 - stats.t.cdf(abs(t_statistic), df))\n",
        "\n",
        "# Compare p-value with significance level to make a decision\n",
        "if p_value < significance_level:\n",
        "    conclusion = \"Reject null hypothesis. The population means for the two groups are not equal.\"\n",
        "else:\n",
        "    conclusion = \"Fail to reject null hypothesis. The population means for the two groups are equal.\"\n",
        "\n",
        "print(f\"T-Statistic: {t_statistic:.2f}\")\n",
        "print(f\"P-Value: {p_value:.4f}\")\n",
        "print(conclusion)\n"
      ],
      "metadata": {
        "colab": {
          "base_uri": "https://localhost:8080/"
        },
        "id": "ogrghy3K8Ouj",
        "outputId": "eff156a8-f950-4926-8f35-d8eea6e7221b"
      },
      "execution_count": 7,
      "outputs": [
        {
          "output_type": "stream",
          "name": "stdout",
          "text": [
            "T-Statistic: 2.32\n",
            "P-Value: 0.0231\n",
            "Fail to reject null hypothesis. The population means for the two groups are equal.\n"
          ]
        }
      ]
    },
    {
      "cell_type": "markdown",
      "source": [
        "Q17: Estimating the population mean number of ads watched with a 99% confidence interval\n",
        "Given sample mean = 4, sample standard deviation = 1.5, and sample size = 50, we can estimate the population mean with a 99% confidence interval."
      ],
      "metadata": {
        "id": "7RqkHqwH8Qeh"
      }
    },
    {
      "cell_type": "code",
      "source": [
        "import scipy.stats as stats\n",
        "\n",
        "# Given data\n",
        "sample_mean = 4\n",
        "sample_std_dev = 1.5\n",
        "sample_size = 50\n",
        "confidence_level = 0.99\n",
        "\n",
        "# Calculate the critical value based on the confidence level\n",
        "t_critical = stats.t.ppf(1 - (1 - confidence_level) / 2, df=sample_size - 1)\n",
        "\n",
        "# Calculate the margin of error\n",
        "margin_of_error = t_critical * (sample_std_dev / (sample_size ** 0.5))\n",
        "\n",
        "# Calculate the confidence interval\n",
        "lower_bound = sample_mean - margin_of_error\n",
        "upper_bound = sample_mean + margin_of_error\n",
        "\n",
        "print(f\"Population Mean (Point Estimate): {sample_mean:.2f}\")\n",
        "print(f\"99% Confidence Interval: {lower_bound:.2f} to {upper_bound:.2f}\")\n"
      ],
      "metadata": {
        "colab": {
          "base_uri": "https://localhost:8080/"
        },
        "id": "OPg2q5h08SwX",
        "outputId": "040708a5-8604-4995-c6d1-5177a6da0d93"
      },
      "execution_count": 6,
      "outputs": [
        {
          "output_type": "stream",
          "name": "stdout",
          "text": [
            "Population Mean (Point Estimate): 4.00\n",
            "99% Confidence Interval: 3.43 to 4.57\n"
          ]
        }
      ]
    },
    {
      "cell_type": "markdown",
      "source": [],
      "metadata": {
        "id": "SWWZoh9E8UQL"
      }
    }
  ]
}