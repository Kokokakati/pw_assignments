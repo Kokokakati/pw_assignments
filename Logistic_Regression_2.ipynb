{
  "nbformat": 4,
  "nbformat_minor": 0,
  "metadata": {
    "colab": {
      "provenance": []
    },
    "kernelspec": {
      "name": "python3",
      "display_name": "Python 3"
    },
    "language_info": {
      "name": "python"
    }
  },
  "cells": [
    {
      "cell_type": "code",
      "execution_count": null,
      "metadata": {
        "id": "_EZyI-ZmpX9V"
      },
      "outputs": [],
      "source": []
    },
    {
      "cell_type": "markdown",
      "source": [
        "Q1. What is the purpose of grid search cv in machine learning, and how does it work?\n",
        "\n",
        "Q2. Describe the difference between grid search cv and randomize search cv, and when might you choose\n",
        "one over the other?\n",
        "\n",
        "Q3. What is data leakage, and why is it a problem in machine learning? Provide an example.\n",
        "\n",
        "Q4. How can you prevent data leakage when building a machine learning model?\n",
        "\n",
        "Q5. What is a confusion matrix, and what does it tell you about the performance of a classification model?\n",
        "\n",
        "Q6. Explain the difference between precision and recall in the context of a confusion matrix.\n",
        "\n",
        "Q7. How can you interpret a confusion matrix to determine which types of errors your model is making?\n",
        "\n",
        "Q8. What are some common metrics that can be derived from a confusion matrix, and how are they\n",
        "calculated?\n",
        "\n",
        "Q9. What is the relationship between the accuracy of a model and the values in its confusion matrix?\n",
        "\n",
        "Q10. How can you use a confusion matrix to identify potential biases or limitations in your machine learning\n",
        "model?"
      ],
      "metadata": {
        "id": "tW8HlU2xpYxU"
      }
    },
    {
      "cell_type": "markdown",
      "source": [
        "1. Purpose of Grid Search CV:\n",
        "\n",
        "Grid search cv (cross-validation) is a technique used to tune hyperparameters of a machine learning model. It exhaustively searches through a specified subset of the hyperparameter space to find the combination that yields the best performance.\n",
        "It works by defining a grid of hyperparameters to explore. For each combination of hyperparameters in the grid, the model is trained and evaluated using cross-validation to estimate its performance. The combination that results in the highest evaluation metric, such as accuracy or F1 score, is selected as the optimal set of hyperparameters.\n",
        "\n",
        "\n",
        "\n",
        "2. Difference between Grid Search CV and Randomized Search CV:\n",
        "\n",
        "Grid search cv exhaustively searches through all possible combinations of hyperparameters specified in the grid, while randomized search cv randomly samples a specified number of combinations from the hyperparameter space.\n",
        "Grid search cv is suitable when the hyperparameter space is relatively small and computationally feasible to search exhaustively. On the other hand, randomized search cv is preferred when the hyperparameter space is large, and a comprehensive search would be computationally expensive."
      ],
      "metadata": {
        "id": "OvLX5an7phNs"
      }
    },
    {
      "cell_type": "markdown",
      "source": [
        "3. Data Leakage:\n",
        "\n",
        "Data leakage refers to the unintentional or improper inclusion of information in the training data that would not be available at the time of prediction, leading to overly optimistic model performance estimates.\n",
        "Example: In a credit risk assessment model, including the target variable (e.g., whether a loan was defaulted) in the training features could lead to data leakage. The model might learn to predict the target variable based on itself, rather than on the actual predictors, resulting in inflated performance metrics during training.\n",
        "\n",
        "\n",
        "4. Preventing Data Leakage:\n",
        "\n",
        "Ensure that any information used in the model is not derived from the target variable or any data that would not be available at the time of prediction.\n",
        "Use proper data splitting techniques, such as cross-validation, to ensure that the model is trained and evaluated on independent datasets.\n",
        "\n",
        "\n",
        "\n",
        "5. Confusion Matrix:\n",
        "\n",
        "A confusion matrix is a table that summarizes the performance of a classification model by comparing predicted labels with actual labels across different classes.\n",
        "It provides insight into the number of true positives, true negatives, false positives, and false negatives, allowing for a detailed analysis of the model's performance."
      ],
      "metadata": {
        "id": "vJFUPxmspoqP"
      }
    },
    {
      "cell_type": "markdown",
      "source": [
        "6. Precision and Recall:\n",
        "\n",
        "Precision measures the proportion of true positive predictions among all positive predictions made by the model.\n",
        "Recall, also known as sensitivity, measures the proportion of true positive predictions among all actual positive instances in the dataset.\n",
        "\n",
        "\n",
        "7. Interpreting Confusion Matrix:\n",
        "\n",
        "By analyzing the values in the confusion matrix, you can identify which types of errors the model is making. For example, a high number of false positives suggests that the model is incorrectly classifying instances as positive when they are actually negative.\n",
        "\n",
        "\n",
        "8. Common Metrics from Confusion Matrix:\n",
        "\n",
        "Other metrics derived from the confusion matrix include accuracy, specificity, F1 score, and the area under the ROC curve (AUC-ROC). These metrics provide different perspectives on the model's performance and can be calculated using combinations of values from the confusion matrix.\n",
        "\n",
        "\n",
        "9. Relationship between Accuracy and Confusion Matrix:\n",
        "\n",
        "Accuracy represents the overall correctness of the model's predictions and is calculated as the ratio of correct predictions to the total number of predictions. It is reflected in the diagonal of the confusion matrix, where true positives and true negatives are located.\n",
        "Using Confusion Matrix for Model Evaluation:\n",
        "\n",
        "10. By analyzing the confusion matrix, you can identify biases or limitations in the model, such as disproportionate errors in specific classes or a high number of false positives/negatives. This information can guide further model improvements or adjustments to address these issues."
      ],
      "metadata": {
        "id": "ReVtIGiFpxdg"
      }
    },
    {
      "cell_type": "markdown",
      "source": [],
      "metadata": {
        "id": "GiV2cpcTp6wC"
      }
    }
  ]
}