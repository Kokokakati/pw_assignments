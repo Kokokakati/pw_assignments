{
  "nbformat": 4,
  "nbformat_minor": 0,
  "metadata": {
    "colab": {
      "provenance": []
    },
    "kernelspec": {
      "name": "python3",
      "display_name": "Python 3"
    },
    "language_info": {
      "name": "python"
    }
  },
  "cells": [
    {
      "cell_type": "markdown",
      "source": [
        "Q1. Create a Pandas Series that contains the following data: 4, 8, 15, 16, 23, and 42. Then, print the series.\n"
      ],
      "metadata": {
        "id": "yTv7RsXJAbDA"
      }
    },
    {
      "cell_type": "code",
      "source": [
        "import pandas as pd\n",
        "\n",
        "data = [4, 8, 15, 16, 23, 42]\n",
        "series = pd.Series(data)\n",
        "print(series)\n"
      ],
      "metadata": {
        "colab": {
          "base_uri": "https://localhost:8080/"
        },
        "id": "QrbDUa6aAxsL",
        "outputId": "8130928b-af82-4a76-f410-87574d43014a"
      },
      "execution_count": 1,
      "outputs": [
        {
          "output_type": "stream",
          "name": "stdout",
          "text": [
            "0     4\n",
            "1     8\n",
            "2    15\n",
            "3    16\n",
            "4    23\n",
            "5    42\n",
            "dtype: int64\n"
          ]
        }
      ]
    },
    {
      "cell_type": "markdown",
      "source": [
        "Q2. Create a variable of list type containing 10 elements in it, and apply pandas.Series function on the  variable print it."
      ],
      "metadata": {
        "id": "_vURCGIUAdEq"
      }
    },
    {
      "cell_type": "code",
      "source": [
        "import pandas as pd\n",
        "\n",
        "my_list = [1, 2, 3, 4, 5, 6, 7, 8, 9, 10]\n",
        "series = pd.Series(my_list)\n",
        "print(series)\n"
      ],
      "metadata": {
        "colab": {
          "base_uri": "https://localhost:8080/"
        },
        "id": "eDIjLiDrA3TS",
        "outputId": "abe0aa96-aed6-4ead-e08d-dc737d43dd00"
      },
      "execution_count": 2,
      "outputs": [
        {
          "output_type": "stream",
          "name": "stdout",
          "text": [
            "0     1\n",
            "1     2\n",
            "2     3\n",
            "3     4\n",
            "4     5\n",
            "5     6\n",
            "6     7\n",
            "7     8\n",
            "8     9\n",
            "9    10\n",
            "dtype: int64\n"
          ]
        }
      ]
    },
    {
      "cell_type": "markdown",
      "source": [
        "Q3. Create a Pandas DataFrame that contains the following data:\n",
        "Name: Alice, Bob, Claire\n",
        "Age: 25, 30, 27\n",
        "Gender: Female, Male, Female\n",
        "Then, print the DataFrame."
      ],
      "metadata": {
        "id": "08d8svnDAsdW"
      }
    },
    {
      "cell_type": "code",
      "source": [
        "import pandas as pd\n",
        "\n",
        "data = {\n",
        "    'Name': ['Alice', 'Bob', 'Claire'],\n",
        "    'Age': [25, 30, 27],\n",
        "    'Gender': ['Female', 'Male', 'Female']\n",
        "}\n",
        "\n",
        "df = pd.DataFrame(data)\n",
        "print(df)\n"
      ],
      "metadata": {
        "colab": {
          "base_uri": "https://localhost:8080/"
        },
        "id": "KxsRsXcUA8yJ",
        "outputId": "8d652c5a-b6e3-4dad-8ea0-ef335ce80124"
      },
      "execution_count": 3,
      "outputs": [
        {
          "output_type": "stream",
          "name": "stdout",
          "text": [
            "     Name  Age  Gender\n",
            "0   Alice   25  Female\n",
            "1     Bob   30    Male\n",
            "2  Claire   27  Female\n"
          ]
        }
      ]
    },
    {
      "cell_type": "markdown",
      "source": [
        "Q4. What is ‘DataFrame’ in pandas and how is it different from pandas.series? Explain with an example.\n"
      ],
      "metadata": {
        "id": "_UL5Jc79AdzS"
      }
    },
    {
      "cell_type": "markdown",
      "source": [
        "DataFrame in pandas is a 2-dimensional labeled data structure that can hold data of different types (e.g., numerical, string, boolean, etc.) in columns. It can be thought of as a table or spreadsheet-like data structure. Each column in a DataFrame is a Pandas Series. The main difference between a Series and a DataFrame is that a Series represents a single column of data, while a DataFrame represents multiple columns with associated labels."
      ],
      "metadata": {
        "id": "-lvL5vCaBG_8"
      }
    },
    {
      "cell_type": "code",
      "source": [
        "import pandas as pd\n",
        "\n",
        "# Example 1: Series\n",
        "data = [1, 2, 3, 4, 5]\n",
        "series = pd.Series(data)\n",
        "print(series)\n"
      ],
      "metadata": {
        "colab": {
          "base_uri": "https://localhost:8080/"
        },
        "id": "SP5vaiJ0BAqk",
        "outputId": "e89529c3-6871-4e93-8eda-b119b7235b01"
      },
      "execution_count": 4,
      "outputs": [
        {
          "output_type": "stream",
          "name": "stdout",
          "text": [
            "0    1\n",
            "1    2\n",
            "2    3\n",
            "3    4\n",
            "4    5\n",
            "dtype: int64\n"
          ]
        }
      ]
    },
    {
      "cell_type": "markdown",
      "source": [
        "Q5. What are some common functions you can use to manipulate data in a Pandas DataFrame? Can  you give an example of when you might use one of these functions?"
      ],
      "metadata": {
        "id": "W-0ebQpeAiIn"
      }
    },
    {
      "cell_type": "markdown",
      "source": [
        "head() and tail(): Return the first or last n rows of the DataFrame.\n",
        "\n",
        "info(): Display a concise summary of the DataFrame, including column data types and non-null values.\n",
        "\n",
        "describe(): Generate descriptive statistics of the DataFrame.\n",
        "\n",
        "sort_values(): Sort the DataFrame by one or more columns.\n",
        "\n",
        "groupby(): Group the DataFrame by one or more columns and perform aggregations or transformations.\n",
        "\n",
        "drop() and dropna(): Remove rows or columns from the DataFrame.\n",
        "\n",
        "fillna(): Fill missing values in the DataFrame with specified values or strategies.\n",
        "\n",
        "apply() and map(): Apply functions or transformations to elements or columns of the DataFrame."
      ],
      "metadata": {
        "id": "_PKnAL-0BO5h"
      }
    },
    {
      "cell_type": "markdown",
      "source": [
        "Q6. Which of the following is mutable in nature Series, DataFrame, Panel?"
      ],
      "metadata": {
        "id": "b_Ufk6iSAkhu"
      }
    },
    {
      "cell_type": "markdown",
      "source": [
        " In pandas, Series and DataFrame are mutable, meaning their values can be changed or modified after creation. However, Panel objects, which are 3-dimensional data structures, are considered deprecated starting from pandas version 1.0. Therefore, Series and DataFrame are the recommended and widely used mutable data structures in pandas."
      ],
      "metadata": {
        "id": "D7NGbsVEBdWA"
      }
    },
    {
      "cell_type": "markdown",
      "source": [
        "Q7. Create a DataFrame using multiple Series. Explain with an example.\n"
      ],
      "metadata": {
        "id": "0YSoceTEAqbE"
      }
    },
    {
      "cell_type": "code",
      "source": [
        "import pandas as pd\n",
        "\n",
        "name_series = pd.Series(['Alice', 'Bob', 'Claire'])\n",
        "age_series = pd.Series([25, 30, 27])\n",
        "gender_series = pd.Series(['Female', 'Male', 'Female'])\n",
        "\n",
        "data = {\n",
        "    'Name': name_series,\n",
        "    'Age': age_series,\n",
        "    'Gender': gender_series\n",
        "}\n",
        "\n",
        "df = pd.DataFrame(data)\n",
        "print(df)\n",
        "\n"
      ],
      "metadata": {
        "colab": {
          "base_uri": "https://localhost:8080/"
        },
        "id": "SBf2MjkaBk36",
        "outputId": "8ad22968-c6bd-4139-d632-c58eeeef0d71"
      },
      "execution_count": 6,
      "outputs": [
        {
          "output_type": "stream",
          "name": "stdout",
          "text": [
            "     Name  Age  Gender\n",
            "0   Alice   25  Female\n",
            "1     Bob   30    Male\n",
            "2  Claire   27  Female\n"
          ]
        }
      ]
    }
  ]
}