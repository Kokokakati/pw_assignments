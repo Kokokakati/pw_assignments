{
  "nbformat": 4,
  "nbformat_minor": 0,
  "metadata": {
    "colab": {
      "provenance": []
    },
    "kernelspec": {
      "name": "python3",
      "display_name": "Python 3"
    },
    "language_info": {
      "name": "python"
    }
  },
  "cells": [
    {
      "cell_type": "markdown",
      "source": [
        "Q1. Load the \"titanic\" dataset using the load_dataset function of seaborn. Use Plotly express to plot a\n",
        "scatter plot for age and fare columns in the titanic dataset.\n",
        "\n",
        "Q2. Using the tips dataset in the Plotly library, plot a box plot using Plotly express.\n",
        "\n",
        "Q3. Using the tips dataset in the Plotly library, Plot a histogram for x= \"sex\" and y=\"total_bill\" column in\n",
        "the tips dataset. Also, use the \"smoker\" column with the pattern_shape parameter and the \"day\"\n",
        "column with the color parameter.\n",
        "\n",
        "Q4. Using the iris dataset in the Plotly library, Plot a scatter matrix plot, using the \"species\" column for\n",
        "the color parameter.\n",
        "Note: Use \"sepal_length\", \"sepal_width\", \"petal_length\", \"petal_width\" columns only with the\n",
        "dimensions parameter.\n",
        "\n",
        "Q5. What is Distplot? Using Plotly express, plot a distplot."
      ],
      "metadata": {
        "id": "Z7lypUVM-hq4"
      }
    },
    {
      "cell_type": "code",
      "source": [
        "# Import necessary libraries\n",
        "import plotly.express as px\n",
        "import seaborn as sns\n",
        "\n",
        "# Q1\n",
        "# Load the \"titanic\" dataset using seaborn\n",
        "titanic_df = sns.load_dataset('titanic')\n",
        "\n",
        "# Plot a scatter plot for age and fare columns\n",
        "fig1 = px.scatter(titanic_df, x='age', y='fare', title='Scatter Plot for Age and Fare in Titanic Dataset')\n",
        "fig1.show()\n",
        "\n",
        "# Q2\n",
        "# Load the \"tips\" dataset from Plotly\n",
        "tips_df = px.data.tips()\n",
        "\n",
        "# Plot a box plot using Plotly express\n",
        "fig2 = px.box(tips_df, y=\"total_bill\")\n",
        "fig2.show()\n",
        "\n",
        "# Q3\n",
        "# Plot a histogram for x=\"sex\" and y=\"total_bill\" column, using \"smoker\" column with pattern_shape and \"day\" column with color parameter\n",
        "fig3 = px.histogram(tips_df, x=\"sex\", y=\"total_bill\", color=\"day\", pattern_shape=\"smoker\", title=\"Histogram of Total Bill by Sex and Day\")\n",
        "fig3.show()\n",
        "\n",
        "# Q4\n",
        "# Load the \"iris\" dataset from Plotly\n",
        "iris_df = px.data.iris()\n",
        "\n",
        "# Plot a scatter matrix plot, using the \"species\" column for the color parameter\n",
        "fig4 = px.scatter_matrix(iris_df, dimensions=[\"sepal_length\", \"sepal_width\", \"petal_length\", \"petal_width\"], color=\"species\", title=\"Scatter Matrix Plot of Iris Dataset\")\n",
        "fig4.show()\n",
        "\n",
        "# Q5\n",
        "# Distplot is a seaborn function that plots a univariate distribution of observations.\n",
        "# Plot a distplot using Plotly express\n",
        "fig5 = px.histogram(tips_df, x=\"total_bill\", title=\"Distplot of Total Bill\")\n",
        "fig5.show()\n"
      ],
      "metadata": {
        "id": "KIVAwDta-o_H"
      },
      "execution_count": null,
      "outputs": []
    }
  ]
}