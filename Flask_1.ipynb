{
  "nbformat": 4,
  "nbformat_minor": 0,
  "metadata": {
    "colab": {
      "provenance": []
    },
    "kernelspec": {
      "name": "python3",
      "display_name": "Python 3"
    },
    "language_info": {
      "name": "python"
    }
  },
  "cells": [
    {
      "cell_type": "markdown",
      "source": [
        "Q1. What is Flask Framework? What are the advantages of Flask Framework?\n",
        "\n",
        "Q2. Create a simple Flask application to display ‘Hello World!!’. Attach the screenshot of the output in\n",
        "Jupyter Notebook.\n",
        "\n",
        "Q3. What is App routing in Flask? Why do we use app routes?\n",
        "\n",
        "Q4. Create a “/welcome” route to display the welcome message “Welcome to ABC Corporation” and a “/”\n",
        "route to show the following details:\n",
        "Company Name: ABC Corporation\n",
        "Location: India\n",
        "Contact Detail: 999-999-9999\n",
        "Attach the screenshot of the output in Jupyter Notebook.\n",
        "\n",
        "Q5. What function is used in Flask for URL Building? Write a Python code to demonstrate the working of the\n",
        "url_for() function."
      ],
      "metadata": {
        "id": "mPiMb5GgSQFa"
      }
    },
    {
      "cell_type": "markdown",
      "source": [
        "Q1. What is Flask Framework? What are the advantages of Flask Framework?\n",
        "\n",
        "Flask is a micro web framework written in Python. It is lightweight, flexible, and easy to use, making it ideal for developing web applications. Flask provides tools and libraries to help build web applications quickly and efficiently.\n",
        "Advantages of Flask Framework:\n",
        "Lightweight: Flask has a minimalistic design and doesn't impose any dependencies, allowing developers to choose the components they need.\n",
        "Flexibility: Flask provides a simple yet powerful framework for building web applications, allowing developers to structure their projects as they see fit.\n",
        "Extensibility: Flask can be easily extended with various extensions and libraries to add additional functionality to the application.\n",
        "Easy to learn: Flask has a simple and intuitive syntax, making it easy for beginners to learn and use.\n",
        "\n",
        "\n",
        "Q2. Create a simple Flask application to display ‘Hello World!!’. Attach the screenshot of the output in Jupyter Notebook."
      ],
      "metadata": {
        "id": "O2pUy9rzSWgG"
      }
    },
    {
      "cell_type": "code",
      "source": [
        "from flask import Flask\n",
        "\n",
        "app = Flask(__name__)\n",
        "\n",
        "@app.route('/')\n",
        "def hello():\n",
        "    return 'Hello World!!'\n",
        "\n",
        "if __name__ == '__main__':\n",
        "    app.run(debug=True)\n"
      ],
      "metadata": {
        "id": "y3H5z_7FSX1i"
      },
      "execution_count": null,
      "outputs": []
    },
    {
      "cell_type": "markdown",
      "source": [
        "To run this application, save the code in a Python file (e.g., app.py) and execute it. Then, access http://localhost:5000/ in your web browser to see the output. After testing, attach the screenshot of the output in Jupyter Notebook.\n"
      ],
      "metadata": {
        "id": "HhFcckzsSbL0"
      }
    },
    {
      "cell_type": "markdown",
      "source": [
        "Q3. What is App routing in Flask? Why do we use app routes?\n",
        "\n",
        "App routing in Flask refers to defining URL patterns (routes) that map to specific view functions. These routes determine how URLs are processed and which view function should handle each request. We use app routes to create different endpoints in our web application, each serving a specific purpose or displaying different content.\n",
        "\n",
        "\n",
        "Q4. Create a “/welcome” route to display the welcome message “Welcome to ABC Corporation” and a “/” route to show the following details:\n",
        "\n",
        "Here's the Flask code to achieve this:"
      ],
      "metadata": {
        "id": "E8Fh5AmZSeZn"
      }
    },
    {
      "cell_type": "code",
      "source": [
        "from flask import Flask\n",
        "\n",
        "app = Flask(__name__)\n",
        "\n",
        "@app.route('/')\n",
        "def index():\n",
        "    return \"\"\"Company Name: ABC Corporation\n",
        "               Location: India\n",
        "               Contact Detail: 999-999-9999\"\"\"\n",
        "\n",
        "@app.route('/welcome')\n",
        "def welcome():\n",
        "    return 'Welcome to ABC Corporation'\n",
        "\n",
        "if __name__ == '__main__':\n",
        "    app.run(debug=True)\n"
      ],
      "metadata": {
        "id": "ZtD0YAMjSfsX"
      },
      "execution_count": null,
      "outputs": []
    },
    {
      "cell_type": "markdown",
      "source": [
        "Access http://localhost:5000/ for the company details and http://localhost:5000/welcome for the welcome message. Attach the screenshot of the output in Jupyter Notebook after testing.\n",
        "\n",
        "\n",
        "Q5. What function is used in Flask for URL Building? Write a Python code to demonstrate the working of the url_for() function.\n",
        "\n",
        "The url_for() function in Flask is used for URL building. It generates a URL for the given endpoint and arguments. Here's a demonstration:"
      ],
      "metadata": {
        "id": "ayecvN6FSjxT"
      }
    },
    {
      "cell_type": "code",
      "source": [
        "from flask import Flask, url_for\n",
        "\n",
        "app = Flask(__name__)\n",
        "\n",
        "@app.route('/')\n",
        "def index():\n",
        "    return 'Index Page'\n",
        "\n",
        "@app.route('/hello')\n",
        "def hello():\n",
        "    return 'Hello, World!'\n",
        "\n",
        "@app.route('/user/<username>')\n",
        "def profile(username):\n",
        "    return f'{username}\\'s profile'\n",
        "\n",
        "with app.test_request_context():\n",
        "    print(url_for('index'))     # Output: /\n",
        "    print(url_for('hello'))     # Output: /hello\n",
        "    print(url_for('profile', username='John Doe'))   # Output: /user/John%20Doe\n"
      ],
      "metadata": {
        "id": "fQb8WFGGSmL9"
      },
      "execution_count": null,
      "outputs": []
    }
  ]
}