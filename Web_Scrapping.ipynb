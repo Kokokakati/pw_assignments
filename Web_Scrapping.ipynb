{
  "nbformat": 4,
  "nbformat_minor": 0,
  "metadata": {
    "colab": {
      "provenance": []
    },
    "kernelspec": {
      "name": "python3",
      "display_name": "Python 3"
    },
    "language_info": {
      "name": "python"
    }
  },
  "cells": [
    {
      "cell_type": "markdown",
      "source": [
        "Q1. What is Web Scraping? Why is it Used? Give three areas where Web Scraping is used to get data.\n",
        "\n",
        "Q2. What are the different methods used for Web Scraping?\n",
        "\n",
        "Q3. What is Beautiful Soup? Why is it used?\n",
        "\n",
        "Q4. Why is flask used in this Web Scraping project?\n",
        "\n",
        "Q5. Write the names of AWS services used in this project. Also, explain the use of each service."
      ],
      "metadata": {
        "id": "N-kJuHArWhUS"
      }
    },
    {
      "cell_type": "markdown",
      "source": [
        "Q1. What is Web Scraping? Why is it Used? Give three areas where Web Scraping is used to get data.\n",
        "\n",
        "Web scraping is the process of extracting data from websites. It involves fetching web pages, parsing the HTML or XML content, and extracting the desired information for further analysis or use.\n",
        "Why it is used:\n",
        "Web scraping allows automation of data extraction tasks that would otherwise be tedious and time-consuming if done manually.\n",
        "It enables gathering large amounts of data from multiple sources, providing valuable insights for businesses, researchers, and developers.\n",
        "Web scraping facilitates monitoring of competitors' prices, gathering market trends, and tracking social media mentions, among other applications.\n",
        "Three areas where Web Scraping is used to get data:\n",
        "E-commerce: Scraping product details, prices, and reviews from e-commerce websites for market analysis and competitive intelligence.\n",
        "Real Estate: Extracting property listings, prices, and features from real estate websites for property valuation and market research.\n",
        "Content Aggregation: Gathering news articles, blog posts, and social media content from various sources for content curation and analysis.\n",
        "\n",
        "\n",
        "\n",
        "Q2. What are the different methods used for Web Scraping?\n",
        "\n",
        "There are various methods used for web scraping, including:\n",
        "Manual Scraping: Copying and pasting data from web pages manually.\n",
        "Regular Expressions: Using regex patterns to extract data from HTML content.\n",
        "HTML Parsing Libraries: Utilizing libraries like BeautifulSoup, lxml, or Scrapy in Python to parse HTML and XML documents and extract desired information.\n",
        "Web Scraping APIs: Using web scraping APIs like Octoparse or Import.io to automate data extraction from websites.\n",
        "Headless Browsers: Employing headless browsers like Selenium to automate web interactions and extract data from dynamically generated web pages.\n",
        "\n",
        "\n",
        "\n",
        "Q3. What is Beautiful Soup? Why is it used?\n",
        "\n",
        "Beautiful Soup is a Python library used for web scraping and parsing HTML and XML documents. It provides simple methods and Pythonic idioms for navigating, searching, and modifying the parsed HTML or XML content.\n",
        "Why it is used:\n",
        "Beautiful Soup simplifies the process of web scraping by providing a convenient API for navigating the HTML tree and extracting data.\n",
        "It handles poorly formatted HTML gracefully, allowing developers to extract data even from messy web pages.\n",
        "Beautiful Soup integrates well with other Python libraries like Requests for fetching web pages, making it a popular choice for web scraping projects.\n",
        "\n",
        "\n",
        "\n",
        "Q4. Why is Flask used in this Web Scraping project?\n",
        "\n",
        "Flask is a lightweight and flexible web framework for Python, commonly used for building web applications and APIs.\n",
        "In a web scraping project, Flask can be used to:\n",
        "Create a web application to display the scraped data.\n",
        "Provide endpoints for accessing the scraped data via HTTP requests.\n",
        "Serve as a platform for hosting the web scraping application, making it accessible to users over the internet.\n",
        "Additionally, Flask's simplicity and ease of use make it suitable for small to medium-sized web scraping projects where a lightweight framework is preferred.\n",
        "\n",
        "\n",
        "Q5. Write the names of AWS services used in this project. Also, explain the use of each service.\n",
        "\n",
        "In a web scraping project hosted on AWS, various services may be utilized, depending on the specific requirements and architecture. Some commonly used AWS services in such projects include:\n",
        "EC2 (Elastic Compute Cloud): EC2 provides resizable compute capacity in the cloud, allowing users to deploy virtual servers (instances) to run web scraping scripts, host web applications, or perform data processing tasks.\n",
        "S3 (Simple Storage Service): S3 is an object storage service that allows storing and retrieving large amounts of data. It can be used to store scraped data, web content, or static assets like images and files.\n",
        "Lambda: AWS Lambda is a serverless compute service that runs code in response to events and automatically scales to handle workloads. It can be used to execute web scraping scripts in a serverless manner, triggered by events such as HTTP requests or scheduled intervals.\n",
        "API Gateway: API Gateway allows creating, deploying, and managing APIs at scale. It can be used to expose web scraping endpoints for accessing scraped data via HTTP requests, providing a RESTful interface to the application.\n",
        "CloudWatch: CloudWatch is a monitoring and observability service that provides monitoring for AWS resources and applications. It can be used to monitor the performance of web scraping tasks, track logs, and set up alarms for critical events.\n",
        "RDS (Relational Database Service): RDS is a managed relational database service that simplifies database setup, operation, and scaling. It can be used to store structured data extracted during web scraping, providing a reliable and scalable database solution.\n",
        "ECS (Elastic Container Service): ECS is a fully managed container orchestration service that allows running and scaling containerized applications using Docker containers. It can be used to deploy and manage web scraping scripts or applications in containers for better isolation and scalability.\n",
        "\n",
        "\n",
        "\n",
        "\n"
      ],
      "metadata": {
        "id": "WylxY7qBWnNp"
      }
    }
  ]
}