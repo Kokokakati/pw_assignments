{
  "nbformat": 4,
  "nbformat_minor": 0,
  "metadata": {
    "colab": {
      "provenance": []
    },
    "kernelspec": {
      "name": "python3",
      "display_name": "Python 3"
    },
    "language_info": {
      "name": "python"
    }
  },
  "cells": [
    {
      "cell_type": "markdown",
      "source": [
        "Q1. Explain GET and POST methods.\n",
        "\n",
        "Q2. Why is request used in Flask?\n",
        "\n",
        "Q3. Why is redirect() used in Flask?\n",
        "\n",
        "Q4. What are templates in Flask? Why is the render_template() function used?\n",
        "\n",
        "Q5. Create a simple API. Use Postman to test it. Attach the screenshot of the output in the Jupyter Notebook."
      ],
      "metadata": {
        "id": "L6HJg-GRRy3H"
      }
    },
    {
      "cell_type": "markdown",
      "source": [
        "Q1. Explain GET and POST methods:\n",
        "\n",
        "GET Method: It is a type of HTTP request method used to request data from a specified resource. When you make a GET request, you are asking the server to send you some data, typically to be displayed on a web page. It is used for operations that are idempotent, meaning they don't have any side effects on the server. For example, retrieving a list of items from a database.\n",
        "POST Method: It is another type of HTTP request method used to submit data to be processed to a specified resource. When you make a POST request, you are sending data to the server, typically to be stored in a database or processed in some way. It is used for operations that are not idempotent, meaning they may have side effects on the server. For example, submitting a form with user data.\n",
        "\n",
        "\n",
        "Q2. Why is request used in Flask?\n",
        "\n",
        "The request object in Flask allows you to access incoming request data, such as form data, query arguments, file uploads, and more. It provides a convenient way to interact with the data sent by the client in an HTTP request.\n",
        "\n",
        "\n",
        "\n",
        "Q3. Why is redirect() used in Flask?\n",
        "\n",
        "The redirect() function in Flask is used to redirect the user to a different URL. It is commonly used after processing a form submission or performing some action to redirect the user to a different page, such as a success page or a different section of the website.\n",
        "\n",
        "\n",
        "\n",
        "Q4. What are templates in Flask? Why is the render_template() function used?\n",
        "\n",
        "Templates in Flask are HTML files that contain placeholders for dynamic content. They allow you to separate the presentation (HTML) from the logic (Python code) in your application. The render_template() function is used to render these templates and pass dynamic data to them. It takes the name of the template file as an argument and any additional data to be passed to the template.\n",
        "\n",
        "\n",
        "\n",
        "Q5. Create a simple API. Use Postman to test it. Attach the screenshot of the output in the Jupyter Notebook."
      ],
      "metadata": {
        "id": "_-SzAowcR1rU"
      }
    },
    {
      "cell_type": "code",
      "source": [
        "from flask import Flask, jsonify\n",
        "\n",
        "app = Flask(__name__)\n",
        "\n",
        "@app.route('/api', methods=['GET'])\n",
        "def get_data():\n",
        "    data = {'message': 'Hello, world!'}\n",
        "    return jsonify(data)\n",
        "\n",
        "if __name__ == '__main__':\n",
        "    app.run(debug=True)\n"
      ],
      "metadata": {
        "id": "gc8V8uptR_Kb"
      },
      "execution_count": null,
      "outputs": []
    },
    {
      "cell_type": "markdown",
      "source": [
        "This creates a simple API with a single endpoint /api that returns a JSON response with a message. You can test this API using Postman by sending a GET request to http://localhost:5000/api. Make sure your Flask server is running."
      ],
      "metadata": {
        "id": "3qLI6lj_SDUf"
      }
    }
  ]
}