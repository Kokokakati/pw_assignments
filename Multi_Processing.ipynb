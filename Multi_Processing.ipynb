{
  "nbformat": 4,
  "nbformat_minor": 0,
  "metadata": {
    "colab": {
      "provenance": []
    },
    "kernelspec": {
      "name": "python3",
      "display_name": "Python 3"
    },
    "language_info": {
      "name": "python"
    }
  },
  "cells": [
    {
      "cell_type": "markdown",
      "source": [
        "Q1. What is multiprocessing in python? Why is it useful?"
      ],
      "metadata": {
        "id": "py-obwvXCex9"
      }
    },
    {
      "cell_type": "markdown",
      "source": [
        "Multiprocessing in Python refers to the ability of the Python programming language to create and manage multiple processes. A process is an instance of a running program that has its own memory space and resources. Multiprocessing allows you to execute multiple processes simultaneously, taking advantage of multiple CPU cores or processors available in a system.\n",
        "\n",
        "Multiprocessing is useful for tasks that can be parallelized, such as CPU-bound or computationally intensive operations. By utilizing multiple processes, you can distribute the workload across multiple cores or processors, thereby potentially achieving better performance and faster execution times. It enables efficient utilization of system resources and can significantly improve the performance of certain types of applications."
      ],
      "metadata": {
        "id": "V92tFeuvC4Au"
      }
    },
    {
      "cell_type": "markdown",
      "source": [
        "Q2. What are the differences between multiprocessing and multithreading?\n"
      ],
      "metadata": {
        "id": "hIRYvKV8Cll6"
      }
    },
    {
      "cell_type": "markdown",
      "source": [
        "The main differences between multiprocessing and multithreading are as follows:\n",
        "\n",
        "Nature: In multiprocessing, multiple processes are created, each with its own memory space and resources, while in multithreading, multiple threads are created within a single process, sharing the same memory space and resources.\n",
        "\n",
        "Concurrency: Processes in multiprocessing can run in parallel on different CPU cores or processors, enabling true parallel execution. Threads in multithreading, on the other hand, run concurrently within a single process, sharing the CPU time allocated by the operating system.\n",
        "\n",
        "Isolation: Processes in multiprocessing are isolated from each other, with separate memory spaces. This provides better data protection and avoids issues like race conditions. In multithreading, threads share the same memory space, making data sharing and synchronization more challenging and prone to issues like race conditions.\n",
        "\n",
        "Overhead: Creating and managing processes in multiprocessing typically incurs higher overhead compared to creating and managing threads in multithreading. Processes require more system resources, such as memory and time, for setup and communication.\n",
        "\n",
        "Communication: Processes in multiprocessing communicate through inter-process communication (IPC) mechanisms like pipes, queues, or shared memory. Threads in multithreading can communicate more easily through shared variables or data structures."
      ],
      "metadata": {
        "id": "8mijE-2uCltt"
      }
    },
    {
      "cell_type": "markdown",
      "source": [
        "Q3. Write a python code to create a process using the multiprocessing module."
      ],
      "metadata": {
        "id": "90HjP9FjCl8S"
      }
    },
    {
      "cell_type": "code",
      "source": [
        "import multiprocessing\n",
        "\n",
        "def my_process_function():\n",
        "    print(\"This is a child process.\")\n",
        "\n",
        "if __name__ == '__main__':\n",
        "    process = multiprocessing.Process(target=my_process_function)\n",
        "    process.start()\n",
        "    process.join()\n",
        "    print(\"Main process completed.\")\n"
      ],
      "metadata": {
        "colab": {
          "base_uri": "https://localhost:8080/"
        },
        "id": "OlSncWjkDAoZ",
        "outputId": "17874142-00db-4b20-88ac-70fd27ef7e25"
      },
      "execution_count": 1,
      "outputs": [
        {
          "output_type": "stream",
          "name": "stdout",
          "text": [
            "This is a child process.\n",
            "Main process completed.\n"
          ]
        }
      ]
    },
    {
      "cell_type": "markdown",
      "source": [
        "Q4. What is a multiprocessing pool in python? Why is it used?\n"
      ],
      "metadata": {
        "id": "y2Ex-6GzCmC0"
      }
    },
    {
      "cell_type": "markdown",
      "source": [
        "A multiprocessing pool in Python refers to a collection of worker processes that are created and managed by the Pool class in the multiprocessing module. The pool provides a convenient way to distribute tasks or functions across multiple processes and retrieve their results asynchronously.\n",
        "\n",
        "The multiprocessing pool is useful when you have a set of tasks or functions that can be executed independently and in parallel. It allows you to submit tasks to the pool, and the pool automatically assigns them to available worker processes. The pool manages the creation, management, and synchronization of the worker processes, abstracting away the complexity of managing individual processes manually.\n",
        "\n",
        "Using a multiprocessing pool can improve performance by distributing the workload across multiple processes and utilizing the available CPU cores or processors efficiently. It provides a high-level interface for parallel processing and simplifies the implementation of concurrent tasks."
      ],
      "metadata": {
        "id": "NCPe7c0ADHEU"
      }
    },
    {
      "cell_type": "markdown",
      "source": [
        "Q5. How can we create a pool of worker processes in python using the multiprocessing module?\n"
      ],
      "metadata": {
        "id": "lHURpE4oCmLf"
      }
    },
    {
      "cell_type": "markdown",
      "source": [
        "Import the multiprocessing module: import multiprocessing.\n",
        "\n",
        "Define the function or task that you want to execute in parallel.\n",
        "\n",
        "Create a Pool object by calling multiprocessing.Pool() and specify the number of worker processes you want in the pool, for example, pool = multiprocessing.Pool(processes=4).\n",
        "\n",
        "Use the map() or apply_async() method of the Pool object to submit tasks or functions to the pool for execution.\n",
        "\n",
        "Retrieve the results using the appropriate method (get() for apply_async() or map() for map()).\n",
        "\n",
        "Close the pool using the close() method to prevent any more tasks from being submitted.\n",
        "\n",
        "Optionally, call the join() method to wait for all the worker processes to complete."
      ],
      "metadata": {
        "id": "7115tH9TDJ8v"
      }
    },
    {
      "cell_type": "code",
      "source": [
        "import multiprocessing\n",
        "\n",
        "def my_task(x):\n",
        "    return x**2\n",
        "\n",
        "if __name__ == '__main__':\n",
        "    with multiprocessing.Pool(processes=4) as pool:\n",
        "        results = pool.map(my_task, range(10))\n",
        "        print(results)\n"
      ],
      "metadata": {
        "colab": {
          "base_uri": "https://localhost:8080/"
        },
        "id": "z16Mxxu5DKht",
        "outputId": "d5fa31de-82d8-465e-cd06-376398fdd623"
      },
      "execution_count": 2,
      "outputs": [
        {
          "output_type": "stream",
          "name": "stdout",
          "text": [
            "[0, 1, 4, 9, 16, 25, 36, 49, 64, 81]\n"
          ]
        }
      ]
    },
    {
      "cell_type": "markdown",
      "source": [
        "Q6. Write a python program to create 4 processes, each process should print a different number using the\n",
        "multiprocessing module in python."
      ],
      "metadata": {
        "id": "sTcqjOKACxV_"
      }
    },
    {
      "cell_type": "code",
      "source": [
        "import multiprocessing\n",
        "\n",
        "def print_number(number):\n",
        "    print(f\"Process ID: {multiprocessing.current_process().pid}, Number: {number}\")\n",
        "\n",
        "if __name__ == '__main__':\n",
        "    processes = []\n",
        "    for i in range(1, 5):\n",
        "        process = multiprocessing.Process(target=print_number, args=(i,))\n",
        "        processes.append(process)\n",
        "        process.start()\n",
        "\n",
        "    for process in processes:\n",
        "        process.join()\n",
        "\n",
        "    print(\"All processes completed.\")\n"
      ],
      "metadata": {
        "id": "g113NFgPDORQ",
        "outputId": "dbe78f2e-a3e4-40c9-ac76-e2b513c22fd5",
        "colab": {
          "base_uri": "https://localhost:8080/"
        }
      },
      "execution_count": 3,
      "outputs": [
        {
          "output_type": "stream",
          "name": "stdout",
          "text": [
            "Process ID: 507, Number: 1\n",
            "Process ID: 510, Number: 2Process ID: 516, Number: 4\n",
            "Process ID: 513, Number: 3\n",
            "\n",
            "All processes completed.\n"
          ]
        }
      ]
    }
  ]
}