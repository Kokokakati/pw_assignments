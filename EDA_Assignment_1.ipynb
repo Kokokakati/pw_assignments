{
  "nbformat": 4,
  "nbformat_minor": 0,
  "metadata": {
    "colab": {
      "provenance": []
    },
    "kernelspec": {
      "name": "python3",
      "display_name": "Python 3"
    },
    "language_info": {
      "name": "python"
    }
  },
  "cells": [
    {
      "cell_type": "code",
      "execution_count": null,
      "metadata": {
        "id": "KpJolfFAU_Fx"
      },
      "outputs": [],
      "source": []
    },
    {
      "cell_type": "markdown",
      "source": [
        "Q1. What are the key features of the wine quality data set? Discuss the importance of each feature in\n",
        "predicting the quality of wine.\n",
        "\n",
        "Q2. How did you handle missing data in the wine quality data set during the feature engineering process?\n",
        "Discuss the advantages and disadvantages of different imputation techniques.\n",
        "\n",
        "Q3. What are the key factors that affect students' performance in exams? How would you go about\n",
        "analyzing these factors using statistical techniques?\n",
        "\n",
        "Q4. Describe the process of feature engineering in the context of the student performance data set. How\n",
        "did you select and transform the variables for your model?\n",
        "\n",
        "Q5. Load the wine quality data set and perform exploratory data analysis (EDA) to identify the distribution\n",
        "of each feature. Which feature(s) exhibit non-normality, and what transformations could be applied to\n",
        "these features to improve normality?\n",
        "\n",
        "Q6. Using the wine quality data set, perform principal component analysis (PCA) to reduce the number of\n",
        "features. What is the minimum number of principal components required to explain 90% of the variance in\n",
        "the data?\n",
        "\n",
        "Note:- We can use Wine quality dataset and Student Performance Data set as per the discussion in lecture."
      ],
      "metadata": {
        "id": "XG-RwD4lVCP-"
      }
    },
    {
      "cell_type": "markdown",
      "source": [
        "Q1. Key Features of the Wine Quality Dataset:\n",
        "\n",
        "The wine quality dataset typically consists of features related to various chemical properties of wine, which are important in predicting the quality of wine. Some key features and their importance are:\n",
        "Fixed Acidity: The fixed acidity of wine affects its taste and is essential for overall flavor.\n",
        "Volatile Acidity: High volatile acidity can lead to an unpleasant vinegar-like taste.\n",
        "Citric Acid: Citric acid can add a refreshing tartness and is often desired in wine.\n",
        "Residual Sugar: Residual sugar contributes to the sweetness of wine and can balance acidity.\n",
        "Chlorides: Chloride levels can affect wine's taste and mouthfeel, with higher levels potentially causing a salty taste.\n",
        "Free Sulfur Dioxide: Sulfur dioxide is used as a preservative and antioxidant in wine.\n",
        "Total Sulfur Dioxide: Total sulfur dioxide includes free and bound sulfur dioxide and affects wine preservation.\n",
        "Density: Density is related to the concentration of substances in wine and can influence mouthfeel.\n",
        "pH: pH levels impact the wine's acidity and stability.\n",
        "Sulphates: Sulphates can act as antioxidants and antimicrobial agents.\n",
        "Alcohol: Alcohol content can significantly impact the perception of wine's body and flavor.\n",
        "Each of these features contributes to the overall sensory characteristics and quality of wine.\n",
        "\n",
        "\n",
        "Q2. Handling Missing Data in Wine Quality Dataset:\n",
        "\n",
        "Common techniques for handling missing data in this dataset include mean imputation (replacing missing values with the mean of the feature), median imputation (replacing with the median), and using machine learning models to predict missing values.\n",
        "Advantages: Mean and median imputation are simple and quick. Predictive models can capture relationships between variables.\n",
        "Disadvantages: Mean and median imputation may introduce bias. Predictive models require more computational resources and can be complex.\n",
        "\n",
        "\n",
        "Q3. Factors Affecting Students' Performance:\n",
        "\n",
        "Factors may include:\n",
        "Socioeconomic background\n",
        "Parental education\n",
        "Study time\n",
        "Attendance\n",
        "Test preparation\n",
        "Health\n",
        "To analyze these factors statistically, you can use techniques like regression analysis, correlation analysis, and hypothesis testing to identify significant predictors.\n",
        "\n",
        "\n",
        "Q4. Feature Engineering for Student Performance Data:\n",
        "\n",
        "Transform categorical variables (e.g., gender) into numerical format (e.g., binary encoding).\n",
        "Create new features, like the total study time (combining weekly and weekend study time).\n",
        "Normalize or standardize numerical features.\n",
        "Perform one-hot encoding for categorical variables like \"parental level of education.\"\n",
        "\n",
        "\n",
        "Q5. Exploratory Data Analysis (EDA) for Wine Quality Data:\n",
        "\n",
        "Perform data visualization to understand feature distributions.\n",
        "Identify non-normal features using histograms or QQ plots.\n",
        "Potential transformations include logarithmic or Box-Cox transformations to achieve normality.\n",
        "\n",
        "\n",
        "Q6. Principal Component Analysis (PCA) for Wine Quality Data:\n",
        "\n",
        "Apply PCA to reduce feature dimensionality.\n",
        "Calculate the explained variance ratio for each principal component.\n",
        "Determine the minimum number of principal components required to explain a desired percentage of variance (e.g., 90%).\n",
        "Use the selected principal components as input for modeling while reducing dimensionality."
      ],
      "metadata": {
        "id": "mjJSTB3XVHIm"
      }
    }
  ]
}