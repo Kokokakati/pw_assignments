{
  "nbformat": 4,
  "nbformat_minor": 0,
  "metadata": {
    "colab": {
      "provenance": []
    },
    "kernelspec": {
      "name": "python3",
      "display_name": "Python 3"
    },
    "language_info": {
      "name": "python"
    }
  },
  "cells": [
    {
      "cell_type": "code",
      "execution_count": null,
      "metadata": {
        "id": "jqvp-10IPHLV"
      },
      "outputs": [],
      "source": []
    },
    {
      "cell_type": "markdown",
      "source": [
        "Q1. How do you comment code in Python? What are the different types of comments?\n"
      ],
      "metadata": {
        "id": "88IlQFY9PIH8"
      }
    },
    {
      "cell_type": "markdown",
      "source": [
        "In Python, you can comment code using the '#' symbol. There are two types of comments:\n",
        "Single-line comments: These comments start with '#' and are used to document a single line of code.\n",
        "Multi-line comments: These comments are enclosed between triple quotation marks (''' ''') or triple single quotation marks (\"\"\" \"\"\") and are used to document multiple lines of code.\n"
      ],
      "metadata": {
        "id": "omEjlrvhPP5T"
      }
    },
    {
      "cell_type": "markdown",
      "source": [
        "Q2. What are variables in Python? How do you declare and assign values to variables? "
      ],
      "metadata": {
        "id": "OSbnSR0EPXO1"
      }
    },
    {
      "cell_type": "markdown",
      "source": [
        "Variables in Python are used to store data. You can declare a variable by assigning a value to it using the '='               symbol. For example:"
      ],
      "metadata": {
        "id": "3A6p81sQPV2S"
      }
    },
    {
      "cell_type": "code",
      "source": [
        "my_variable = 10"
      ],
      "metadata": {
        "id": "3ijBWOeFPNz_"
      },
      "execution_count": 1,
      "outputs": []
    },
    {
      "cell_type": "markdown",
      "source": [
        "Q3. How do you convert one data type to another in Python? "
      ],
      "metadata": {
        "id": "gYvdLRcgPguY"
      }
    },
    {
      "cell_type": "markdown",
      "source": [
        "To convert one data type to another in Python, you can use type casting. Some common type casting functions include:\n",
        "int(): Convert to an integer data type.\n",
        "float(): Convert to a floating-point data type.\n",
        "str(): Convert to a string data type.\n",
        "bool(): Convert to a boolean data type.\n",
        "\n"
      ],
      "metadata": {
        "id": "_pzOqbdvPd5I"
      }
    },
    {
      "cell_type": "markdown",
      "source": [
        "Q4. How do you write and execute a Python script from the command line? "
      ],
      "metadata": {
        "id": "9TbvPENyPjBx"
      }
    },
    {
      "cell_type": "markdown",
      "source": [
        "To write and execute a Python script from the command line, you can follow these steps:\n",
        "Open a text editor and write your Python code.\n",
        "Save the file with a .py extension, for example, script.py.\n",
        "Open the command line interface.\n",
        "Navigate to the directory where the Python script is saved.\n",
        "Type \"python script.py\" and press Enter to execute the script\n"
      ],
      "metadata": {
        "id": "Af_PHqBMPkvp"
      }
    },
    {
      "cell_type": "markdown",
      "source": [
        "Q5. Given a list my_list = [1, 2, 3, 4, 5], write the code to slice the list and obtain the sub-list [2, 3]. "
      ],
      "metadata": {
        "id": "VG3mJI0lPn84"
      }
    },
    {
      "cell_type": "code",
      "source": [
        "my_list = [1, 2, 3, 4, 5]\n",
        "sub_list = my_list[1:3]\n",
        "print(sub_list)"
      ],
      "metadata": {
        "colab": {
          "base_uri": "https://localhost:8080/"
        },
        "id": "VNNubFA0PtNW",
        "outputId": "e9ecebf1-494c-4b02-e3b1-449a581779b2"
      },
      "execution_count": 3,
      "outputs": [
        {
          "output_type": "stream",
          "name": "stdout",
          "text": [
            "[2, 3]\n"
          ]
        }
      ]
    },
    {
      "cell_type": "markdown",
      "source": [
        "Q6. What is a complex number in mathematics, and how is it represented in Python?\n",
        "\n",
        "\n",
        "\n"
      ],
      "metadata": {
        "id": "xIWUFkmrP53f"
      }
    },
    {
      "cell_type": "markdown",
      "source": [
        " In mathematics, a complex number is a number that consists of a real part and an imaginary part. In Python, complex numbers are represented using the \"j\" suffix. For example, (3 + 2j) is a complex number with a real part of 3 and an imaginary part of 2."
      ],
      "metadata": {
        "id": "-QyhovSzQClj"
      }
    },
    {
      "cell_type": "markdown",
      "source": [
        "Q7. What is the correct way to declare a variable named age and assign the value 25 to it? "
      ],
      "metadata": {
        "id": "tJqe4Ds3P6wA"
      }
    },
    {
      "cell_type": "code",
      "source": [
        "age = 25\n"
      ],
      "metadata": {
        "id": "xIA2izxdQGD7"
      },
      "execution_count": 4,
      "outputs": []
    },
    {
      "cell_type": "markdown",
      "source": [
        "Q8. Declare a variable named price and assign the value 9.99 to it. What data type does this variable  belong to? "
      ],
      "metadata": {
        "id": "_uRa1O9iQD8h"
      }
    },
    {
      "cell_type": "markdown",
      "source": [
        "If we declare a variable named price and assign the value 9.99 to it, this variable belongs to the float data type, which represents decimal numbers."
      ],
      "metadata": {
        "id": "hBDOEc7uQL2y"
      }
    },
    {
      "cell_type": "markdown",
      "source": [
        "Q9. Create a variable named name and assign your full name to it as a string. How would you print the  value of this variable? "
      ],
      "metadata": {
        "id": "474gtiMJQQH8"
      }
    },
    {
      "cell_type": "code",
      "source": [
        "name = \"Smita Kakati\"\n",
        "print(name)\n"
      ],
      "metadata": {
        "colab": {
          "base_uri": "https://localhost:8080/"
        },
        "id": "Tzs8nFxaQTFS",
        "outputId": "e4f7fe12-62d5-4413-cd90-137b7279b8d0"
      },
      "execution_count": 5,
      "outputs": [
        {
          "output_type": "stream",
          "name": "stdout",
          "text": [
            "Smita Kakati\n"
          ]
        }
      ]
    },
    {
      "cell_type": "markdown",
      "source": [
        "Q10. Given the string \"Hello, World!\", extract the substring \"World\". "
      ],
      "metadata": {
        "id": "6gebv98AQYUr"
      }
    },
    {
      "cell_type": "code",
      "source": [
        "my_string = \"Hello, World!\"\n",
        "substring = my_string[7:12]\n",
        "print(substring)\n"
      ],
      "metadata": {
        "colab": {
          "base_uri": "https://localhost:8080/"
        },
        "id": "UXfjdN9XQapH",
        "outputId": "2de0fa40-7677-4961-e5ea-3ab533e47961"
      },
      "execution_count": 6,
      "outputs": [
        {
          "output_type": "stream",
          "name": "stdout",
          "text": [
            "World\n"
          ]
        }
      ]
    },
    {
      "cell_type": "markdown",
      "source": [
        "Q11. Create a variable named \"is_student\" and assign it a boolean value indicating whether you are  currently a student or not. "
      ],
      "metadata": {
        "id": "ZsIaMlkrQfTS"
      }
    },
    {
      "cell_type": "code",
      "source": [
        "is_student = True"
      ],
      "metadata": {
        "id": "B-QnLFWCQhwW"
      },
      "execution_count": 7,
      "outputs": []
    }
  ]
}