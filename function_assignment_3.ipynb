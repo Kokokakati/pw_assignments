{
  "nbformat": 4,
  "nbformat_minor": 0,
  "metadata": {
    "colab": {
      "provenance": []
    },
    "kernelspec": {
      "name": "python3",
      "display_name": "Python 3"
    },
    "language_info": {
      "name": "python"
    }
  },
  "cells": [
    {
      "cell_type": "markdown",
      "source": [
        "Q1. Which keyword is used to create a function? Create a function to return a list of odd numbers in the\n",
        "range of 1 to 25."
      ],
      "metadata": {
        "id": "w0fXmiJ3im5z"
      }
    },
    {
      "cell_type": "markdown",
      "source": [
        "The keyword used to create a function in Python is \"def\". Here's an example of a function that returns a list of odd numbers in the range of 1 to 25:"
      ],
      "metadata": {
        "id": "syhP-HQlitY5"
      }
    },
    {
      "cell_type": "code",
      "source": [
        "def get_odd_numbers():\n",
        "    odd_numbers = []\n",
        "    for num in range(1, 26):\n",
        "        if num % 2 != 0:\n",
        "            odd_numbers.append(num)\n",
        "    return odd_numbers\n"
      ],
      "metadata": {
        "id": "DTPwc-xfipiz"
      },
      "execution_count": 2,
      "outputs": []
    },
    {
      "cell_type": "code",
      "source": [
        "get_odd_numbers()"
      ],
      "metadata": {
        "colab": {
          "base_uri": "https://localhost:8080/"
        },
        "id": "XhxoYngHjDiS",
        "outputId": "8eaace43-fcf1-4272-980d-d9c1867e1261"
      },
      "execution_count": 3,
      "outputs": [
        {
          "output_type": "execute_result",
          "data": {
            "text/plain": [
              "[1, 3, 5, 7, 9, 11, 13, 15, 17, 19, 21, 23, 25]"
            ]
          },
          "metadata": {},
          "execution_count": 3
        }
      ]
    },
    {
      "cell_type": "markdown",
      "source": [
        "Q2. Why *args and **kwargs is used in some functions? Create a function each for *args and **kwargs to\n",
        "demonstrate their use."
      ],
      "metadata": {
        "id": "idyG8eQ1jNz1"
      }
    },
    {
      "cell_type": "markdown",
      "source": [
        "The *args and **kwargs are used to pass a variable number of arguments to a function.\n",
        "\n",
        "*args is used when you want to pass a variable number of non-keyworded arguments to a function. It collects all the positional arguments into a tuple.\n",
        "Here's an example of a function that demonstrates the use of *args:"
      ],
      "metadata": {
        "id": "xtdAoOg6kSRi"
      }
    },
    {
      "cell_type": "code",
      "source": [
        "def print_args(*args):\n",
        "    for arg in args:\n",
        "        print(arg)\n",
        "\n",
        "print_args(1, 2, 3, 4, 5)\n"
      ],
      "metadata": {
        "colab": {
          "base_uri": "https://localhost:8080/"
        },
        "id": "1m_m8_e9jQvU",
        "outputId": "b454b15c-ff24-46e6-d30d-8889a9a284d3"
      },
      "execution_count": 4,
      "outputs": [
        {
          "output_type": "stream",
          "name": "stdout",
          "text": [
            "1\n",
            "2\n",
            "3\n",
            "4\n",
            "5\n"
          ]
        }
      ]
    },
    {
      "cell_type": "markdown",
      "source": [
        "**kwargs is used when you want to pass a variable number of keyword arguments to a function. It collects all the keyword arguments into a dictionary.\n",
        "Here's an example of a function that demonstrates the use of **kwargs:"
      ],
      "metadata": {
        "id": "ywshf9_HkZAx"
      }
    },
    {
      "cell_type": "code",
      "source": [
        "def print_kwargs(**kwargs):\n",
        "    for key, value in kwargs.items():\n",
        "        print(f\"{key}: {value}\")\n",
        "\n",
        "print_kwargs(name=\"John\", age=25, city=\"New York\")\n"
      ],
      "metadata": {
        "colab": {
          "base_uri": "https://localhost:8080/"
        },
        "id": "6o3xYpfBkaH3",
        "outputId": "78591181-ccd0-4a7f-a630-d64ea027c64d"
      },
      "execution_count": 5,
      "outputs": [
        {
          "output_type": "stream",
          "name": "stdout",
          "text": [
            "name: John\n",
            "age: 25\n",
            "city: New York\n"
          ]
        }
      ]
    },
    {
      "cell_type": "markdown",
      "source": [
        "Q3. What is an iterator in python? Name the method used to initialise the iterator object and the method\n",
        "used for iteration. Use these methods to print the first five elements of the given list [2, 4, 6, 8, 10, 12, 14, 16,\n",
        "18, 20]."
      ],
      "metadata": {
        "id": "IybgCF5DkfDv"
      }
    },
    {
      "cell_type": "markdown",
      "source": [
        "In Python, an iterator is an object that allows you to traverse through a collection or sequence of elements. It provides a way to access the elements of a container without exposing its underlying representation. The iterator object implements two methods:\n",
        "\n",
        "The __iter__() method is used to initialize the iterator object. It returns the iterator object itself.\n",
        "\n",
        "The __next__() method is used for iteration. It returns the next element from the iterator. When there are no more elements, it raises the StopIteration exception."
      ],
      "metadata": {
        "id": "B-jIWYknkfKP"
      }
    },
    {
      "cell_type": "code",
      "source": [
        "my_list = [2, 4, 6, 8, 10, 12, 14, 16, 18, 20]\n",
        "my_iterator = iter(my_list)\n",
        "\n",
        "for _ in range(5):\n",
        "    print(next(my_iterator))\n"
      ],
      "metadata": {
        "colab": {
          "base_uri": "https://localhost:8080/"
        },
        "id": "o7Ic26jqkmlx",
        "outputId": "71cfbd95-005e-416d-c060-a1643f8fd549"
      },
      "execution_count": 6,
      "outputs": [
        {
          "output_type": "stream",
          "name": "stdout",
          "text": [
            "2\n",
            "4\n",
            "6\n",
            "8\n",
            "10\n"
          ]
        }
      ]
    },
    {
      "cell_type": "markdown",
      "source": [],
      "metadata": {
        "id": "j1jUn9TIk5uU"
      }
    },
    {
      "cell_type": "markdown",
      "source": [
        "Q4. What is a generator function in python? Why yield keyword is used? Give an example of a generator\n",
        "function."
      ],
      "metadata": {
        "id": "hVMUIKTYk52V"
      }
    },
    {
      "cell_type": "markdown",
      "source": [
        "A generator function in Python is a special kind of function that returns an iterator. It uses the yield keyword instead of return to pause the function's execution and return a value. The generator function can then be resumed later to continue from where it left off. The yield keyword allows the function to generate a sequence of values over time, without storing them all in memory."
      ],
      "metadata": {
        "id": "wBdzV5-Jk-zq"
      }
    },
    {
      "cell_type": "code",
      "source": [
        "def even_numbers():\n",
        "    num = 0\n",
        "    while True:\n",
        "        yield num\n",
        "        num += 2\n"
      ],
      "metadata": {
        "id": "MrbGRBGzlACk"
      },
      "execution_count": 7,
      "outputs": []
    },
    {
      "cell_type": "code",
      "source": [
        "even_gen = even_numbers()\n",
        "print(next(even_gen))\n",
        "print(next(even_gen))\n",
        "print(next(even_gen))\n"
      ],
      "metadata": {
        "colab": {
          "base_uri": "https://localhost:8080/"
        },
        "id": "p89QqDlFlEjp",
        "outputId": "98a1b034-2d4f-4392-f2e0-896985dd1927"
      },
      "execution_count": 9,
      "outputs": [
        {
          "output_type": "stream",
          "name": "stdout",
          "text": [
            "0\n",
            "2\n",
            "4\n"
          ]
        }
      ]
    },
    {
      "cell_type": "markdown",
      "source": [
        "Q5. Create a generator function for prime numbers less than 1000. Use the next() method to print the\n",
        "first 20 prime numbers."
      ],
      "metadata": {
        "id": "ubwIVtd-lTKy"
      }
    },
    {
      "cell_type": "code",
      "source": [
        "def prime_generator():\n",
        "    primes = []\n",
        "    num = 2\n",
        "    while True:\n",
        "        is_prime = True\n",
        "        for prime in primes:\n",
        "            if num % prime == 0:\n",
        "                is_prime = False\n",
        "                break\n",
        "        if is_prime:\n",
        "            primes.append(num)\n",
        "            yield num\n",
        "        num += 1\n",
        "\n",
        "# Create the prime number generator\n",
        "prime_gen = prime_generator()\n",
        "\n",
        "# Print the first 20 prime numbers\n",
        "for _ in range(20):\n",
        "    print(next(prime_gen))\n"
      ],
      "metadata": {
        "colab": {
          "base_uri": "https://localhost:8080/"
        },
        "id": "0ethT_c-lXUK",
        "outputId": "b2853b5b-3ec7-42df-cb87-a1e9178847e0"
      },
      "execution_count": 10,
      "outputs": [
        {
          "output_type": "stream",
          "name": "stdout",
          "text": [
            "2\n",
            "3\n",
            "5\n",
            "7\n",
            "11\n",
            "13\n",
            "17\n",
            "19\n",
            "23\n",
            "29\n",
            "31\n",
            "37\n",
            "41\n",
            "43\n",
            "47\n",
            "53\n",
            "59\n",
            "61\n",
            "67\n",
            "71\n"
          ]
        }
      ]
    }
  ]
}