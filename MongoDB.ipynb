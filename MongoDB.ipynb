{
  "nbformat": 4,
  "nbformat_minor": 0,
  "metadata": {
    "colab": {
      "provenance": []
    },
    "kernelspec": {
      "name": "python3",
      "display_name": "Python 3"
    },
    "language_info": {
      "name": "python"
    }
  },
  "cells": [
    {
      "cell_type": "markdown",
      "source": [
        "Q1. What is MongoDB? Explain non-relational databases in short. In which scenarios it is preferred to use\n",
        "MongoDB over SQL databases?\n",
        "\n",
        "Q2. State and Explain the features of MongoDB.\n",
        "\n",
        "Q3. Write a code to connect MongoDB to Python. Also, create a database and a collection in MongoDB.\n",
        "\n",
        "Q4. Using the database and the collection created in question number 3, write a code to insert one record,\n",
        "and insert many records. Use the find() and find_one() methods to print the inserted record.\n",
        "\n",
        "Q5. Explain how you can use the find() method to query the MongoDB database. Write a simple code to\n",
        "demonstrate this.\n",
        "\n",
        "Q6. Explain the sort() method. Give an example to demonstrate sorting in MongoDB.\n",
        "\n",
        "Q7. Explain why delete_one(), delete_many(), and drop() is used."
      ],
      "metadata": {
        "id": "2OR3XeKBTMUE"
      }
    },
    {
      "cell_type": "markdown",
      "source": [
        " to Python. Also, create a database and a collection in MongoDB.\n",
        "Q4. Using the database and the collection created in question number 3, write a code to insert one record,\n",
        "and insert many records. Use the find() and find_one() methods to print the inserted record.\n",
        "Q5. Explain how you can use the find() method to query the MongoDB database. Write a simple code to\n",
        "demonstrate this.\n",
        "Q6. Explain the sort() method. Give an example to demonstrate sorting in MongoDB.\n",
        "Q7. Explain why delete_one(), delete_many(), and drop() is used.\n",
        "ChatGPT\n",
        "Q1. What is MongoDB? Explain non-relational databases in short. In which scenarios is it preferred to use MongoDB over SQL databases?\n",
        "\n",
        "MongoDB is a popular NoSQL database management system that stores data in a flexible, JSON-like format known as BSON (Binary JSON). It is designed for scalability, high performance, and ease of development.\n",
        "Non-relational databases (also known as NoSQL databases) are databases that do not follow the traditional relational model of SQL databases. Instead of using tables with fixed schemas, non-relational databases use flexible data models, such as key-value stores, document stores, column-family stores, and graph databases. They are often used for handling large volumes of unstructured or semi-structured data, providing scalability, flexibility, and performance advantages over SQL databases in certain scenarios.\n",
        "MongoDB is preferred over SQL databases in scenarios where:\n",
        "There is a need to store and retrieve complex, nested, or hierarchical data structures.\n",
        "There is a requirement for high scalability and flexibility to accommodate rapidly changing data models.\n",
        "There is a desire for horizontal scalability across distributed systems or cloud environments.\n",
        "Development speed and agility are prioritized over strict schema enforcement and data integrity constraints.\n",
        "\n",
        "\n",
        "\n",
        "Q2. State and Explain the features of MongoDB.\n",
        "\n",
        "Document-Oriented: MongoDB stores data in flexible, JSON-like documents called BSON, allowing for rich and nested data structures.\n",
        "Scalability: MongoDB supports horizontal scaling through sharding, allowing it to handle large volumes of data and high-throughput workloads.\n",
        "High Performance: MongoDB employs in-memory caching, index optimization, and other performance-enhancing techniques to provide fast read and write operations.\n",
        "Dynamic Schema: MongoDB's flexible schema allows for dynamic and on-the-fly schema changes without downtime or application disruption.\n",
        "Rich Query Language: MongoDB supports a powerful query language with support for CRUD operations, aggregation, text search, geospatial queries, and more.\n",
        "High Availability: MongoDB offers built-in replication and automatic failover to ensure data availability and durability in the event of hardware failures or network issues.\n",
        "Flexible Deployment: MongoDB can be deployed on-premises, in the cloud, or in hybrid environments, supporting a variety of deployment options and configurations.\n"
      ],
      "metadata": {
        "id": "_1vlO9ezTQ2J"
      }
    },
    {
      "cell_type": "code",
      "source": [
        "#3\n",
        "from pymongo import MongoClient\n",
        "\n",
        "# Connect to MongoDB server\n",
        "client = MongoClient('mongodb://localhost:27017/')\n",
        "\n",
        "# Create or access a database\n",
        "db = client['mydatabase']\n",
        "\n",
        "# Create or access a collection within the database\n",
        "collection = db['mycollection']\n"
      ],
      "metadata": {
        "id": "JmyK6TsoTYr6"
      },
      "execution_count": null,
      "outputs": []
    },
    {
      "cell_type": "code",
      "source": [
        "#4\n",
        "# Insert one record\n",
        "record = {\"name\": \"John\", \"age\": 30, \"city\": \"New York\"}\n",
        "result_one = collection.insert_one(record)\n",
        "print(\"Inserted ID:\", result_one.inserted_id)\n",
        "\n",
        "# Insert many records\n",
        "records = [\n",
        "    {\"name\": \"Alice\", \"age\": 25, \"city\": \"Los Angeles\"},\n",
        "    {\"name\": \"Bob\", \"age\": 35, \"city\": \"Chicago\"},\n",
        "    {\"name\": \"Emily\", \"age\": 40, \"city\": \"San Francisco\"}\n",
        "]\n",
        "result_many = collection.insert_many(records)\n",
        "print(\"Inserted IDs:\", result_many.inserted_ids)\n",
        "\n",
        "# Find one record\n",
        "print(\"Find one record:\", collection.find_one({\"name\": \"John\"}))\n",
        "\n",
        "# Find all records\n",
        "print(\"Find all records:\")\n",
        "for record in collection.find():\n",
        "    print(record)\n"
      ],
      "metadata": {
        "id": "Ty2Sy7WlTcHs"
      },
      "execution_count": null,
      "outputs": []
    },
    {
      "cell_type": "markdown",
      "source": [
        "5.The find() method is used to query documents from a collection based on specified criteria. It returns a cursor object that can be iterated over to access the matching documents."
      ],
      "metadata": {
        "id": "_i9_uG_9Tga9"
      }
    },
    {
      "cell_type": "code",
      "source": [
        "# Querying documents with find()\n",
        "for record in collection.find({\"age\": {\"$gte\": 30}}):  # Find documents where age is greater than or equal to 30\n",
        "    print(record)\n"
      ],
      "metadata": {
        "id": "qqgpTOIgTdiT"
      },
      "execution_count": null,
      "outputs": []
    },
    {
      "cell_type": "markdown",
      "source": [
        "6. The sort() method is used to sort the documents returned by a query based on one or more fields. It accepts one or more key-value pairs where the keys represent the fields to sort by, and the values represent the sort order (1 for ascending, -1 for descending)."
      ],
      "metadata": {
        "id": "vd9L8dYvTmAu"
      }
    },
    {
      "cell_type": "code",
      "source": [
        "# Sorting documents with sort()\n",
        "for record in collection.find().sort(\"age\", -1):  # Sort documents by age in descending order\n",
        "    print(record)\n"
      ],
      "metadata": {
        "id": "Ahw2rhx7ToGI"
      },
      "execution_count": null,
      "outputs": []
    },
    {
      "cell_type": "markdown",
      "source": [
        "Q7. Explain why delete_one(), delete_many(), and drop() is used.\n",
        "\n",
        "delete_one(): Deletes a single document from a collection that matches the specified criteria.\n",
        "delete_many(): Deletes multiple documents from a collection that match the specified criteria.\n",
        "drop(): Drops (deletes) an entire collection from the database.\n",
        "These methods are used to remove data from the"
      ],
      "metadata": {
        "id": "tPWpT2meTqlz"
      }
    }
  ]
}