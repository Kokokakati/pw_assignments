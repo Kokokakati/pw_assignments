{
  "nbformat": 4,
  "nbformat_minor": 0,
  "metadata": {
    "colab": {
      "provenance": []
    },
    "kernelspec": {
      "name": "python3",
      "display_name": "Python 3"
    },
    "language_info": {
      "name": "python"
    }
  },
  "cells": [
    {
      "cell_type": "code",
      "execution_count": null,
      "metadata": {
        "id": "SoLsrYxolRGe"
      },
      "outputs": [],
      "source": []
    },
    {
      "cell_type": "markdown",
      "source": [
        "Q1: What are missing values in a dataset? Why is it essential to handle missing values? Name some\n",
        "algorithms that are not affected by missing values.\n",
        "\n",
        "Q2: List down techniques used to handle missing data. Give an example of each with python code.\n",
        "\n",
        "Q3: Explain the imbalanced data. What will happen if imbalanced data is not handled?\n",
        "\n",
        "Q4: What are Up-sampling and Down-sampling? Explain with an example when up-sampling and down-\n",
        "sampling are required.\n",
        "\n",
        "Q5: What is data Augmentation? Explain SMOTE.\n",
        "\n",
        "Q6: What are outliers in a dataset? Why is it essential to handle outliers?\n",
        "\n",
        "Q7: You are working on a project that requires analyzing customer data. However, you notice that some of\n",
        "the data is missing. What are some techniques you can use to handle the missing data in your analysis?\n",
        "\n",
        "Q8: You are working with a large dataset and find that a small percentage of the data is missing. What are\n",
        "some strategies you can use to determine if the missing data is missing at random or if there is a pattern\n",
        "to the missing data?\n",
        "\n",
        "Q9: Suppose you are working on a medical diagnosis project and find that the majority of patients in the\n",
        "dataset do not have the condition of interest, while a small percentage do. What are some strategies you\n",
        "can use to evaluate the performance of your machine learning model on this imbalanced dataset?\n",
        "\n",
        "Q10: When attempting to estimate customer satisfaction for a project, you discover that the dataset is\n",
        "unbalanced, with the bulk of customers reporting being satisfied. What methods can you employ to\n",
        "balance the dataset and down-sample the majority class?\n",
        "\n",
        "Q11: You discover that the dataset is unbalanced with a low percentage of occurrences while working on a\n",
        "project that requires you to estimate the occurrence of a rare event. What methods can you employ to\n",
        "balance the dataset and up-sample the minority class?"
      ],
      "metadata": {
        "id": "-YyctyuglRxo"
      }
    },
    {
      "cell_type": "markdown",
      "source": [
        "Q1: Missing values in a dataset refer to the absence of data for one or more variables or features in certain observations. These missing values can occur for various reasons, such as data collection errors, data corruption, or survey non-responses. Handling missing values is essential because they can lead to biased or inaccurate results in data analysis and machine learning models. Some algorithms cannot handle missing values and may produce errors or incorrect predictions if missing data is not addressed.\n",
        "\n",
        "Algorithms that are not affected by missing values include:\n",
        "\n",
        "Decision Trees: Decision trees can handle missing values by making decisions based on the available features without imputing missing values.\n",
        "Random Forest: Random Forest is an ensemble method based on decision trees, and it can handle missing values similarly to decision trees.\n",
        "k-Nearest Neighbors (k-NN): k-NN can ignore missing values when computing distances and finding nearest neighbors."
      ],
      "metadata": {
        "id": "WsweLLhClSyt"
      }
    },
    {
      "cell_type": "markdown",
      "source": [
        "Q2: Techniques to handle missing data:\n",
        "a) Mean/Median/Mode Imputation: Replace missing values with the mean, median, or mode of the non-missing data for the respective feature.\n",
        "b) Forward/Backward Fill: Propagate the last known value forward or the next known value backward to fill in missing values.\n",
        "c) Interpolation: Use interpolation methods to estimate missing values based on the existing data points.\n",
        "d) Deletion: Remove the rows or columns containing missing values (listwise or pairwise deletion).\n",
        "e) Model-Based Imputation: Predict missing values using a machine learning model trained on the non-missing data.\n",
        "\n",
        "Example using Python for Mean Imputation:"
      ],
      "metadata": {
        "id": "tIZQwgablfT_"
      }
    },
    {
      "cell_type": "code",
      "source": [
        "import pandas as pd\n",
        "from sklearn.impute import SimpleImputer\n",
        "\n",
        "# Sample dataframe with missing values\n",
        "data = {'A': [1, 2, None, 4, 5],\n",
        "        'B': [None, 10, 20, 30, None]}\n",
        "df = pd.DataFrame(data)\n",
        "\n",
        "# Impute missing values with the mean\n",
        "imputer = SimpleImputer(strategy='mean')\n",
        "df_imputed = pd.DataFrame(imputer.fit_transform(df), columns=df.columns)\n",
        "\n",
        "print(df_imputed)\n"
      ],
      "metadata": {
        "colab": {
          "base_uri": "https://localhost:8080/"
        },
        "id": "kGz6LDVeliJf",
        "outputId": "3e3e4303-6e23-47b7-bc15-ec7d89f85ddb"
      },
      "execution_count": 1,
      "outputs": [
        {
          "output_type": "stream",
          "name": "stdout",
          "text": [
            "     A     B\n",
            "0  1.0  20.0\n",
            "1  2.0  10.0\n",
            "2  3.0  20.0\n",
            "3  4.0  30.0\n",
            "4  5.0  20.0\n"
          ]
        }
      ]
    },
    {
      "cell_type": "markdown",
      "source": [
        "Q3: Imbalanced data refers to a situation in a dataset where the distribution of classes (or categories) is heavily skewed, i.e., one class has significantly more instances than the others. This can be a common issue in various real-world datasets, such as fraud detection, rare disease diagnosis, etc. If imbalanced data is not handled properly, it can lead to biased models that are overly biased towards the majority class, making it challenging for the model to predict the minority class accurately."
      ],
      "metadata": {
        "id": "Lf_PaUU1lmaa"
      }
    },
    {
      "cell_type": "markdown",
      "source": [
        "Q4: Up-sampling and Down-sampling are techniques used to address imbalanced data:\n",
        "\n",
        "Up-sampling involves increasing the number of instances in the minority class to balance the dataset.\n",
        "Down-sampling involves decreasing the number of instances in the majority class to balance the dataset.\n",
        "Example:\n",
        "Suppose you have a dataset for binary classification where Class A (majority class) has 90 instances, and Class B (minority class) has 10 instances. To balance the dataset, you can up-sample Class B by duplicating some of its instances, or you can down-sample Class A by removing some of its instances."
      ],
      "metadata": {
        "id": "LA3pQKPxlo_h"
      }
    },
    {
      "cell_type": "markdown",
      "source": [
        "Q5: Data Augmentation is a technique used to artificially expand the size of a dataset by creating variations of existing data points. SMOTE (Synthetic Minority Over-sampling Technique) is a specific data augmentation method used to address imbalanced data. SMOTE generates synthetic instances for the minority class by interpolating between existing instances."
      ],
      "metadata": {
        "id": "0HVvVaYLlrET"
      }
    },
    {
      "cell_type": "markdown",
      "source": [
        "Q6: Outliers in a dataset are data points that significantly deviate from the majority of the data. Handling outliers is essential because they can skew statistical measures and adversely impact model training. Outliers can be due to data entry errors, measurement inaccuracies, or genuinely extreme observations."
      ],
      "metadata": {
        "id": "DDOGyhKLlrqm"
      }
    },
    {
      "cell_type": "markdown",
      "source": [
        "Q7: Some techniques to handle missing data in analysis are:\n",
        "\n",
        "Mean/Median/Mode Imputation: Replace missing values with the mean, median, or mode of the non-missing data.\n",
        "Forward/Backward Fill: Propagate the last known value forward or the next known value backward to fill in missing values.\n",
        "Deletion: Remove the rows or columns containing missing values if it doesn't significantly affect the analysis.\n",
        "Model-Based Imputation: Predict missing values using a machine learning model trained on the non-missing data."
      ],
      "metadata": {
        "id": "Hjvzy5Lplto6"
      }
    },
    {
      "cell_type": "markdown",
      "source": [
        "Q8: To determine if missing data is missing at random or if there is a pattern, you can use techniques like data visualization and statistical tests. Some strategies include:\n",
        "\n",
        "Plotting missing data patterns to visualize if there are any systematic trends.\n",
        "Performing hypothesis tests to check if the missingness is related to other variables.\n",
        "Using machine learning models to predict missing values based on other features and evaluating model performance."
      ],
      "metadata": {
        "id": "tKUYHAe_lvwl"
      }
    },
    {
      "cell_type": "markdown",
      "source": [
        "Q9: Strategies to evaluate model performance on an imbalanced dataset include:\n",
        "\n",
        "Using evaluation metrics such as Precision, Recall, F1-score, and Area Under the ROC Curve (AUC-ROC) instead of accuracy.\n",
        "Using techniques like stratified sampling, cross-validation, and re-sampling during model training and evaluation.\n",
        "Applying ensemble techniques that can handle imbalanced data well, such as balanced random forests."
      ],
      "metadata": {
        "id": "4bfjFN9Ilx0W"
      }
    },
    {
      "cell_type": "markdown",
      "source": [
        "Q10: To balance an unbalanced dataset with a bulk of customers reporting satisfaction, you can use the down-sampling method:\n",
        "\n",
        "Down-sample the majority class (satisfied customers) by randomly removing some instances from it until it reaches a balanced proportion with the minority class (dissatisfied customers)."
      ],
      "metadata": {
        "id": "zPhms1NAlzue"
      }
    },
    {
      "cell_type": "markdown",
      "source": [
        "Q11: To balance a dataset with a low percentage of occurrences of a rare event, you can use the up-sampling method:\n",
        "\n",
        "Up-sample the minority class (rare event occurrences) by creating synthetic instances using techniques like SMOTE (Synthetic Minority Over-sampling Technique) to match the proportion of the majority class."
      ],
      "metadata": {
        "id": "o8fYa6onl1wc"
      }
    }
  ]
}