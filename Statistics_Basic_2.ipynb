{
  "nbformat": 4,
  "nbformat_minor": 0,
  "metadata": {
    "colab": {
      "provenance": []
    },
    "kernelspec": {
      "name": "python3",
      "display_name": "Python 3"
    },
    "language_info": {
      "name": "python"
    }
  },
  "cells": [
    {
      "cell_type": "markdown",
      "source": [
        "Q1. What are the three measures of central tendency?"
      ],
      "metadata": {
        "id": "xhTTQoOno-hj"
      }
    },
    {
      "cell_type": "markdown",
      "source": [
        "Mean: It is the average of a set of numbers and is calculated by summing all the values and dividing by the total number of values.\n",
        "Median: It is the middle value in a dataset when the values are arranged in ascending or descending order. If there is an even number of values, the median is the average of the two middle values.\n",
        "Mode: It is the value or values that appear most frequently in a dataset."
      ],
      "metadata": {
        "id": "cdJAJjGHpFPf"
      }
    },
    {
      "cell_type": "markdown",
      "source": [
        "Q2. What is the difference between the mean, median, and mode? How are they used to measure the\n",
        "central tendency of a dataset?"
      ],
      "metadata": {
        "id": "M03Cp1I_o-nC"
      }
    },
    {
      "cell_type": "markdown",
      "source": [
        "Mean represents the arithmetic average and provides a measure of the typical value in the dataset. It is sensitive to extreme values and can be influenced by outliers.\n",
        "Median represents the middle value and is less affected by extreme values. It gives a measure of the central value in the dataset.\n",
        "Mode represents the most frequent value(s) and is useful for identifying the most common observation(s) in the dataset."
      ],
      "metadata": {
        "id": "n5A1oa-7pKx6"
      }
    },
    {
      "cell_type": "markdown",
      "source": [
        "Q3. Measure the three measures of central tendency for the given height data:\n",
        "[178,177,176,177,178.2,178,175,179,180,175,178.9,176.2,177,172.5,178,176.5]"
      ],
      "metadata": {
        "id": "a6LNNNSKpT3a"
      }
    },
    {
      "cell_type": "markdown",
      "source": [
        "To find the three measures of central tendency for the given height data [178,177,176,177,178.2,178,175,179,180,175,178.9,176.2,177,172.5,178,176.5]:\n",
        "\n",
        "Mean: Sum all the values and divide by the total number of values.\n",
        "Mean = (178 + 177 + 176 + 177 + 178.2 + 178 + 175 + 179 + 180 + 175 + 178.9 + 176.2 + 177 + 172.5 + 178 + 176.5) / 16 = 177.8\n",
        "\n",
        "Median: Arrange the values in ascending order and find the middle value.\n",
        "Median = 177.5\n",
        "\n",
        "Mode: Identify the value(s) that appear most frequently.\n",
        "Mode = 178"
      ],
      "metadata": {
        "id": "x6pVghpzo-p5"
      }
    },
    {
      "cell_type": "markdown",
      "source": [
        "Q4. Find the standard deviation for the given data:\n",
        "[178,177,176,177,178.2,178,175,179,180,175,178.9,176.2,177,172.5,178,176.5]"
      ],
      "metadata": {
        "id": "w-77xeEQpSbN"
      }
    },
    {
      "cell_type": "markdown",
      "source": [
        "To find the standard deviation for the given data [178,177,176,177,178.2,178,175,179,180,175,178.9,176.2,177,172.5,178,176.5]:\n",
        "Step 1: Calculate the mean (already calculated in Q3):\n",
        "Mean = 177.8\n",
        "\n",
        "Step 2: Subtract the mean from each value, square the result, and sum all the squared values.\n",
        "Sum of squared differences = (178 - 177.8)^2 + (177 - 177.8)^2 + ... + (176.5 - 177.8)^2\n",
        "\n",
        "Step 3: Divide the sum of squared differences by the total number of values, and take the square root of the result.\n",
        "Standard deviation = √(Sum of squared differences / 16)\n",
        "\n",
        "Performing the calculations will provide the standard deviation for the given data."
      ],
      "metadata": {
        "id": "ljSZ1y8po-sv"
      }
    },
    {
      "cell_type": "markdown",
      "source": [
        "Q5. How are measures of dispersion such as range, variance, and standard deviation used to describe\n",
        "the spread of a dataset? Provide an example."
      ],
      "metadata": {
        "id": "IgA7iGvIo-vn"
      }
    },
    {
      "cell_type": "markdown",
      "source": [
        "Measures of dispersion such as range, variance, and standard deviation are used to describe the spread of a dataset:\n",
        "\n",
        "Range: It is the difference between the maximum and minimum values in a dataset. It gives an idea of the total spread of the data.\n",
        "Variance: It measures the average squared deviation of each data point from the mean. It quantifies the spread of the dataset, taking into account all the values.\n",
        "Standard Deviation: It is the square root of the variance and provides a measure of how much the data points deviate from the mean on average. It is commonly used as a standard measure of dispersion.\n",
        "Example: Let's consider a dataset of exam scores: [80, 85, 90, 92, 95].\n",
        "\n",
        "Range = 95 - 80 = 15\n",
        "Variance = ((80-88)^2 + (85-88)^2 + (90-88)^2 + (92-88)^2 + (95-88)^2) / 5 ≈ 26.8\n",
        "Standard Deviation = √26.8 ≈ 5.17\n",
        "The range indicates the total spread, while the variance and standard deviation provide a more precise measure of how the scores deviate from the mean."
      ],
      "metadata": {
        "id": "pmaMDXEEo-yP"
      }
    },
    {
      "cell_type": "markdown",
      "source": [
        "Q6. What is a Venn diagram?"
      ],
      "metadata": {
        "id": "HRjpv18Po-1V"
      }
    },
    {
      "cell_type": "markdown",
      "source": [
        " A Venn diagram is a visual representation of the relationships between different sets or groups. It consists of overlapping circles or other shapes, with each shape representing a set or a group. The overlapping regions represent elements that are common to the sets being compared.\n",
        "\n",
        "Venn diagrams are commonly used in mathematics, logic, statistics, and other fields to illustrate set theory concepts, logical relationships, and data comparisons. They can help visualize the intersections and differences between sets, making it easier to understand the relationships between various categories or groups."
      ],
      "metadata": {
        "id": "ILPa6n9ep5yP"
      }
    },
    {
      "cell_type": "markdown",
      "source": [
        "Q7. For the two given sets A = (2,3,4,5,6,7) & B = (0,2,6,8,10). Find:\n",
        "(i) A B\n",
        "(ii) A ⋃ B"
      ],
      "metadata": {
        "id": "kDUt8SL1o-38"
      }
    },
    {
      "cell_type": "markdown",
      "source": [
        "For the given sets A = (2,3,4,5,6,7) & B = (0,2,6,8,10):\n",
        "(i) A ∩ B (intersection of A and B): The elements that are common to both sets A and B.\n",
        "A ∩ B = (2,6)\n",
        "\n",
        "(ii) A ∪ B (union of A and B): All the distinct elements from sets A and B, without repetitions.\n",
        "A ∪ B = (0,2,3,4,5,6,7,8,10)"
      ],
      "metadata": {
        "id": "jojcpMSXqA2w"
      }
    },
    {
      "cell_type": "markdown",
      "source": [
        "Q8. What do you understand about skewness in data?"
      ],
      "metadata": {
        "id": "xsUecH98o-6h"
      }
    },
    {
      "cell_type": "markdown",
      "source": [
        "Skewness in data refers to the measure of the asymmetry or departure from symmetry in a probability distribution. It indicates whether the data is skewed to the left (negatively skewed) or to the right (positively skewed) compared to a symmetrical distribution. Skewness can provide insights into the shape and distribution of data.\n",
        "\n"
      ],
      "metadata": {
        "id": "0rcQJD5ZqVB6"
      }
    },
    {
      "cell_type": "markdown",
      "source": [
        "Q9. If a data is right skewed then what will be the position of median with respect to mean?"
      ],
      "metadata": {
        "id": "sTmK-rN6o-_v"
      }
    },
    {
      "cell_type": "markdown",
      "source": [
        " If a data is right-skewed (positively skewed), the median will be lower than the mean. The tail of the distribution is elongated towards the right, which pulls the mean in that direction. Therefore, the median will be positioned to the left of the mean."
      ],
      "metadata": {
        "id": "PaLiEbgzqYon"
      }
    },
    {
      "cell_type": "markdown",
      "source": [
        "Q10. Explain the difference between covariance and correlation. How are these measures used in\n",
        "statistical analysis?"
      ],
      "metadata": {
        "id": "1IZVJudfo_CX"
      }
    },
    {
      "cell_type": "markdown",
      "source": [
        "Covariance and correlation are both measures of the relationship between two variables in statistical analysis, but they have some key differences:\n",
        "\n",
        "Covariance measures the direction and magnitude of the linear relationship between two variables. It indicates how changes in one variable are associated with changes in the other. However, it does not provide a standardized measure and is affected by the scales of the variables.\n",
        "\n",
        "Correlation, on the other hand, measures the strength and direction of the linear relationship between two variables, but it is standardized to a range of -1 to 1. It gives a more reliable measure of the relationship and allows for comparisons across different datasets.\n",
        "\n",
        "These measures are used in statistical analysis to understand the relationship between variables. Covariance helps in determining the direction of the relationship, while correlation provides a standardized measure that helps in comparing relationships between different pairs of variables."
      ],
      "metadata": {
        "id": "4tycV5AtqZrx"
      }
    },
    {
      "cell_type": "markdown",
      "source": [
        "Q11. What is the formula for calculating the sample mean? Provide an example calculation for a\n",
        "dataset."
      ],
      "metadata": {
        "id": "bGKovH9OqIXw"
      }
    },
    {
      "cell_type": "markdown",
      "source": [
        "The formula for calculating the sample mean (x̄) is:\n",
        "x̄ = (x₁ + x₂ + x₃ + ... + xn) / n\n",
        "\n",
        "Example calculation: Consider a dataset of exam scores: [80, 85, 90, 92, 95]\n",
        "x̄ = (80 + 85 + 90 + 92 + 95) / 5 = 88.4"
      ],
      "metadata": {
        "id": "1ahXvSF_qhws"
      }
    },
    {
      "cell_type": "markdown",
      "source": [
        "Q12. For a normal distribution data what is the relationship between its measure of central tendency?"
      ],
      "metadata": {
        "id": "r1RPvnRhqK58"
      }
    },
    {
      "cell_type": "markdown",
      "source": [
        " For a normal distribution, the measures of central tendency (mean, median, and mode) are all equal. In other words, the mean, median, and mode of a normal distribution are located at the same point on the distribution's curve. This property of normal distributions contributes to their symmetrical shape."
      ],
      "metadata": {
        "id": "KMBFgqTxqjHK"
      }
    },
    {
      "cell_type": "markdown",
      "source": [
        "Q13. How is covariance different from correlation?"
      ],
      "metadata": {
        "id": "HS3fBa64qM9c"
      }
    },
    {
      "cell_type": "markdown",
      "source": [
        "Covariance and correlation are related but different concepts:\n",
        "\n",
        "Covariance measures the extent to which two variables vary together. It can take any value, positive or negative, and its magnitude depends on the scales of the variables. Covariance does not provide a standardized measure and is affected by the units of measurement.\n",
        "Correlation, on the other hand, is a standardized measure of the linear relationship between two variables. It ranges from -1 to 1, where -1 represents a perfect negative linear relationship, 1 represents a perfect positive linear relationship, and 0 represents no linear relationship. Correlation is unitless and provides a more reliable measure of the relationship between variables.\n",
        "In summary, covariance indicates the direction and magnitude of the relationship between variables, while correlation measures the strength and direction of the relationship in a standardized manner."
      ],
      "metadata": {
        "id": "99lkKhAAqlnZ"
      }
    },
    {
      "cell_type": "markdown",
      "source": [
        "Q14. How do outliers affect measures of central tendency and dispersion? Provide an example."
      ],
      "metadata": {
        "id": "bY390n08qO5d"
      }
    },
    {
      "cell_type": "markdown",
      "source": [
        "Outliers can significantly affect measures of central tendency and dispersion:\n",
        "\n",
        "Measures of central tendency (mean, median, mode) can be strongly influenced by outliers. Outliers that are extremely large or small compared to the rest of the data can pull the mean towards their direction, resulting in an inaccurate representation of the typical value. The median is less affected by outliers, as it is based on the middle value, but extreme outliers can still have an impact.\n",
        "\n",
        "Measures of dispersion (range, variance, standard deviation) can also be affected by outliers. Outliers that are far away from the majority of the data can increase the range and inflate the values of variance and standard deviation, making the spread of the dataset appear larger than it actually is.\n",
        "\n",
        "Example: Consider a dataset of salaries: [25000, 35000, 40000, 42000, 50000, 60000, 150000]. The outlier value of 150,000 is much higher than the other salaries. If we calculate the mean, it will be significantly influenced by the outlier and may not represent the typical salary accurately. Similarly, the standard deviation will be larger due to the presence of the outlier, suggesting a greater spread in the data than what is observed without the outlier."
      ],
      "metadata": {
        "id": "RpF8CJwYqom-"
      }
    }
  ]
}