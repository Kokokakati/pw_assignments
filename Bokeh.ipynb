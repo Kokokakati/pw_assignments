{
  "nbformat": 4,
  "nbformat_minor": 0,
  "metadata": {
    "colab": {
      "provenance": []
    },
    "kernelspec": {
      "name": "python3",
      "display_name": "Python 3"
    },
    "language_info": {
      "name": "python"
    }
  },
  "cells": [
    {
      "cell_type": "markdown",
      "source": [
        "Q1. How can you create a Bokeh plot using Python code?\n",
        "\n",
        "Q2. What are glyphs in Bokeh, and how can you add them to a Bokeh plot? Explain with an example.\n",
        "\n",
        "Q3. How can you customize the appearance of a Bokeh plot, including the axes, title, and legend?\n",
        "\n",
        "Q4. What is a Bokeh server, and how can you use it to create interactive plots that can be updated in\n",
        "real time?\n",
        "\n",
        "Q5. How can you embed a Bokeh plot into a web page or dashboard using Flask or Django?"
      ],
      "metadata": {
        "id": "9XBXUKck7sy0"
      }
    },
    {
      "cell_type": "markdown",
      "source": [
        "1. To create a Bokeh plot using Python code, you typically follow these steps:\n",
        "Import necessary modules from the Bokeh library.\n",
        "Define your data.\n",
        "\n",
        "Create a figure using the figure() function.\n",
        "\n",
        "Add glyphs (visual markers such as circles, lines, bars) to the figure to represent your data.\n",
        "\n",
        "Customize the appearance of the plot, such as adding titles, axes labels, and legends.\n",
        "\n",
        "Show or save the plot using appropriate Bokeh functions."
      ],
      "metadata": {
        "id": "ubIH5cCE7wom"
      }
    },
    {
      "cell_type": "markdown",
      "source": [
        "2. Glyphs are visual markers that represent data points in Bokeh plots. They can be geometric shapes like circles, squares, or lines. You can add glyphs to a Bokeh plot by calling the appropriate glyph function (e.g., circle(), line()) and passing your data and any additional parameters like size, color, or line width. For example:"
      ],
      "metadata": {
        "id": "0kPovl8p72EB"
      }
    },
    {
      "cell_type": "code",
      "source": [
        "from bokeh.plotting import figure, show\n",
        "\n",
        "# Define data\n",
        "x = [1, 2, 3, 4, 5]\n",
        "y = [6, 7, 2, 4, 5]\n",
        "\n",
        "# Create a figure\n",
        "p = figure(title=\"Example Glyph Plot\", x_axis_label='X-axis', y_axis_label='Y-axis')\n",
        "\n",
        "# Add circles glyph to the plot\n",
        "p.circle(x, y, size=10, color='navy', alpha=0.5)\n",
        "\n",
        "# Show the plot\n",
        "show(p)\n"
      ],
      "metadata": {
        "id": "Cae-AxPg77BM"
      },
      "execution_count": null,
      "outputs": []
    },
    {
      "cell_type": "markdown",
      "source": [
        "3. You can customize various aspects of a Bokeh plot using attributes and methods available in the Bokeh library. For example:\n",
        "To set the title of the plot, you can use title attribute of the figure object (p.title.text = \"My Title\").\n",
        "To customize the axes labels, you can use xaxis.label and yaxis.label attributes (p.xaxis.axis_label = \"X-axis Label\").\n",
        "To add a legend, you can specify the legend parameter when adding glyphs to the plot and set the legend.label_text_font_size, legend.location, etc."
      ],
      "metadata": {
        "id": "dbBhwCri8CCr"
      }
    },
    {
      "cell_type": "markdown",
      "source": [
        "4. A Bokeh server is a Python server application that allows for the creation of interactive, web-based visualizations using the Bokeh library. With Bokeh server, you can create dynamic and interactive plots that can update in real time in response to user interactions or external data changes. You can use the Bokeh server by defining a Bokeh application that describes the layout and behavior of your plots, and then running the application using the bokeh serve command.\n"
      ],
      "metadata": {
        "id": "WGtCS7eh8F0F"
      }
    },
    {
      "cell_type": "markdown",
      "source": [
        "5. You can embed a Bokeh plot into a web page or dashboard using Flask or Django by creating a Bokeh application and embedding it into a Flask or Django view function. First, you need to create a Bokeh application that defines the layout and behavior of your plots. Then, you can embed the Bokeh application into a Flask or Django view function using the server_document() or server_session() function provided by Bokeh. Finally, you can render the web page or dashboard with the embedded Bokeh plot using the Flask or Django framework."
      ],
      "metadata": {
        "id": "bXvf52CT8I6h"
      }
    }
  ]
}