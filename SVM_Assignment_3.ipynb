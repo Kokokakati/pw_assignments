{
  "nbformat": 4,
  "nbformat_minor": 0,
  "metadata": {
    "colab": {
      "provenance": []
    },
    "kernelspec": {
      "name": "python3",
      "display_name": "Python 3"
    },
    "language_info": {
      "name": "python"
    }
  },
  "cells": [
    {
      "cell_type": "markdown",
      "source": [
        "Q1. In order to predict house price based on several characteristics, such as location, square footage, number of bedrooms, etc., you are developing an SVM regression model. Which regression metric in this situation would be the best to employ?\n",
        "\n",
        "Dataset link: https://drive.google.com/file/d/1Z9oLpmt6IDRNw7IeNcHYTGeJRYypRSC0/view\n",
        "\n",
        "Q2. You have built an SVM regression model and are trying to decide between using MSE or R-squared as your evaluation metric. Which metric would be more appropriate if your goal is to predict the actual price of a house as accurately as possible?\n",
        "\n",
        "Q3. You have a dataset with a significant number of outliers and are trying to select an appropriate regression metric to use with your SVM model. Which metric would be the most appropriate in this scenario?\n",
        "\n",
        "Q4. You have built an SVM regression model using a polynomial kernel and are trying to select the best metric to evaluate its performance. You have calculated both MSE and RMSE and found that both values are very close. Which metric should you choose to use in this case?\n",
        "\n",
        "Q5. You are comparing the performance of different SVM regression models using different kernels (linear, polynomial, and RBF) and are trying to select the best evaluation metric. Which metric would be most appropriate if your goal is to measure how well the model explains the variance in the target variable?"
      ],
      "metadata": {
        "id": "rHO4sWCZaHoH"
      }
    },
    {
      "cell_type": "markdown",
      "source": [
        "Q1. Best Regression Metric for SVM Regression Model:\n",
        "\n",
        "The appropriate regression metric for predicting house prices would be Mean Squared Error (MSE). MSE measures the average squared difference between the predicted and actual values. In the context of house prices, it penalizes larger errors more, providing a clear indication of how well the model is performing in terms of predicting the actual prices.\n",
        "\n",
        "\n",
        "\n",
        "Q2. Choosing Between MSE and R-squared for House Price Prediction:\n",
        "\n",
        "If the goal is to predict the actual price of a house as accurately as possible, Mean Squared Error (MSE) would be more appropriate. MSE directly quantifies the average squared difference between predicted and actual values. R-squared, while useful for understanding the proportion of variance explained, may not be as intuitive for evaluating the accuracy of predictions in terms of price values.\n",
        "\n",
        "\n",
        "\n",
        "Q3. Appropriate Regression Metric for Dataset with Outliers:\n",
        "\n",
        "In the presence of a significant number of outliers, Mean Absolute Error (MAE) is more appropriate than MSE. MAE is less sensitive to extreme values and provides a better representation of the average absolute error between predicted and actual values. It gives equal weight to all errors, making it a robust metric when dealing with outliers.\n",
        "\n",
        "\n",
        "\n",
        "\n",
        "Q4. Choosing Between MSE and RMSE for SVM Regression Model with Polynomial Kernel:\n",
        "\n",
        "If both MSE and Root Mean Squared Error (RMSE) are very close, it is generally advisable to choose the more interpretable metric, which is MSE. RMSE is the square root of MSE and has the same interpretation but in the original scale of the target variable. Since the values are close, choosing MSE would simplify the interpretation of the error metric.\n",
        "\n",
        "\n",
        "\n",
        "\n",
        "Q5. Appropriate Metric for Comparing SVM Regression Models with Different Kernels:\n",
        "\n",
        "When comparing SVM regression models with different kernels (linear, polynomial, and RBF) and aiming to measure how well the model explains the variance in the target variable, R-squared (coefficient of determination) would be the most appropriate metric. R-squared indicates the proportion of the variance in the dependent variable that is predictable from the independent variables. It provides insight into how well the model captures the variability in the target variable."
      ],
      "metadata": {
        "id": "sR4dQpIzZUi4"
      }
    }
  ]
}