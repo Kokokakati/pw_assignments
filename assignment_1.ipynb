{
  "nbformat": 4,
  "nbformat_minor": 0,
  "metadata": {
    "colab": {
      "provenance": [],
      "toc_visible": true
    },
    "kernelspec": {
      "name": "python3",
      "display_name": "Python 3"
    },
    "language_info": {
      "name": "python"
    }
  },
  "cells": [
    {
      "cell_type": "code",
      "execution_count": null,
      "metadata": {
        "id": "0NCIGchuVmJ7"
      },
      "outputs": [],
      "source": [
        "assignment 1"
      ]
    },
    {
      "cell_type": "markdown",
      "source": [
        "Q1. Create one variable containing following type of data:\n",
        "(i) string\n",
        "(ii) list\n",
        "(iii) float\n",
        "(iv) tuple"
      ],
      "metadata": {
        "id": "tqranX_qVrfY"
      }
    },
    {
      "cell_type": "code",
      "source": [
        "# Create a string variable\n",
        "my_string = \"Hello, world!\"\n",
        "\n",
        "# Create a list variable\n",
        "my_list = [1, 2, 3, 4]\n",
        "\n",
        "# Create a float variable\n",
        "my_float = 3.14\n",
        "\n",
        "# Create a tuple variable\n",
        "my_tuple = (1, 2, 3)\n"
      ],
      "metadata": {
        "id": "0PaXdQAPVwoh"
      },
      "execution_count": 1,
      "outputs": []
    },
    {
      "cell_type": "markdown",
      "source": [
        "Q2. Given are some following variables containing data: \n",
        "(i) var1 = ‘ ‘ \n",
        "(ii) var2 = ‘[ DS , ML , Python]’ \n",
        "(iii) var3 = [ ‘DS’ , ’ML’ , ‘Python’ ] \n",
        "(iv) var4 = 1. \n",
        "What will be the data type of the above given variable."
      ],
      "metadata": {
        "id": "Xcpk6Fb1V23O"
      }
    },
    {
      "cell_type": "markdown",
      "source": [
        "\n",
        "\n",
        "1.   var1 is a string variable\n",
        "2.   var2 is a string variable that contains a list of strings\n",
        "3.   var3 is a list variable that contains strings\n",
        "4.   var4 is a float variable\n"
      ],
      "metadata": {
        "id": "by3YxczBV63e"
      }
    },
    {
      "cell_type": "markdown",
      "source": [
        "Q3. Explain the use of the following operators using an example: \n",
        "(i) / \n",
        "(ii) %  \n",
        "(iii) // \n",
        "(iv) ** "
      ],
      "metadata": {
        "id": "PAywwtREWVH8"
      }
    },
    {
      "cell_type": "markdown",
      "source": [
        "(i) / (division): This operator is used to perform division between two numeric values. It returns a float value as the result. For example, 10 / 3 will return 3.3333333333333335.\n",
        "\n",
        "(ii) % (modulo): This operator is used to get the remainder of a division operation between two numeric values. It returns an integer value as the result. For example, 10 % 3 will return 1, as the remainder of 10 / 3 is 1.\n",
        "\n",
        "(iii) // (floor division): This operator is used to perform integer division between two numeric values. It returns an integer value as the result, which is the floor value of the division operation. For example, 10 // 3 will return 3, as the floor value of 10 / 3 is 3.\n",
        "\n",
        "(iv) ** (exponentiation): This operator is used to perform exponentiation between two numeric values. It returns a float value as the result if one or both of the values are float values, otherwise it returns an integer value. For example, 2 ** 3 will return 8, as 2 raised to the power of 3 is 8. Another example, 4 ** 0.5 will return 2.0, as the square root of 4 is 2."
      ],
      "metadata": {
        "id": "YSyVn8y-WXom"
      }
    },
    {
      "cell_type": "markdown",
      "source": [
        "Q4. Create a list of length 10 of your choice containing multiple types of data. Using for loop print the  element and its data type. "
      ],
      "metadata": {
        "id": "BYDwfMBoYA0Y"
      }
    },
    {
      "cell_type": "code",
      "source": [
        "my_list = [1, 'hello', True, 3.14, [1, 2, 3], 'world', False, 2.71, (1, 2), None]\n",
        "\n",
        "for element in my_list:\n",
        "    print(f\"{element} is of type {type(element)}\")\n"
      ],
      "metadata": {
        "colab": {
          "base_uri": "https://localhost:8080/"
        },
        "id": "GPPtIwleVz30",
        "outputId": "158f4c1a-f082-4b7e-faeb-c7b8eef68e96"
      },
      "execution_count": 2,
      "outputs": [
        {
          "output_type": "stream",
          "name": "stdout",
          "text": [
            "1 is of type <class 'int'>\n",
            "hello is of type <class 'str'>\n",
            "True is of type <class 'bool'>\n",
            "3.14 is of type <class 'float'>\n",
            "[1, 2, 3] is of type <class 'list'>\n",
            "world is of type <class 'str'>\n",
            "False is of type <class 'bool'>\n",
            "2.71 is of type <class 'float'>\n",
            "(1, 2) is of type <class 'tuple'>\n",
            "None is of type <class 'NoneType'>\n"
          ]
        }
      ]
    },
    {
      "cell_type": "markdown",
      "source": [
        "Q5. Using a while loop, verify if the number A is purely divisible by number B and if so then how many  times it can be divisible. "
      ],
      "metadata": {
        "id": "pTnPxfzoX6QG"
      }
    },
    {
      "cell_type": "code",
      "source": [
        "a = 100\n",
        "b = 5\n",
        "count = 0\n",
        "\n",
        "while a % b == 0:\n",
        "    a /= b\n",
        "    count += 1\n",
        "\n",
        "print(f\"{a} is left after {count} divisions\")\n"
      ],
      "metadata": {
        "colab": {
          "base_uri": "https://localhost:8080/"
        },
        "id": "xFkgYAiTW1Qd",
        "outputId": "7b7aa4d7-1f6c-4320-f143-56518d2d2178"
      },
      "execution_count": 3,
      "outputs": [
        {
          "output_type": "stream",
          "name": "stdout",
          "text": [
            "4.0 is left after 2 divisions\n"
          ]
        }
      ]
    },
    {
      "cell_type": "markdown",
      "source": [
        "Q6. Create a list containing 25 int type data. Using for loop and if-else condition print if the element is  divisible by 3 or not. "
      ],
      "metadata": {
        "id": "mZ6YPyIBW_RH"
      }
    },
    {
      "cell_type": "code",
      "source": [
        "my_list = [5, 9, 11, 15, 24, 33, 40, 42, 50, 57, 60, 62, 65, 71, 72, 75, 81, 83, 85, 87, 90, 94, 99, 100, 102]\n",
        "\n",
        "for element in my_list:\n",
        "    if element % 3 == 0:\n",
        "        print(f\"{element} is divisible by 3\")\n",
        "    else:\n",
        "        print(f\"{element} is not divisible by 3\")\n"
      ],
      "metadata": {
        "colab": {
          "base_uri": "https://localhost:8080/"
        },
        "id": "T_TL6_zCXAL7",
        "outputId": "a09dbb66-a506-4d29-9611-1e66aa59b886"
      },
      "execution_count": 4,
      "outputs": [
        {
          "output_type": "stream",
          "name": "stdout",
          "text": [
            "5 is not divisible by 3\n",
            "9 is divisible by 3\n",
            "11 is not divisible by 3\n",
            "15 is divisible by 3\n",
            "24 is divisible by 3\n",
            "33 is divisible by 3\n",
            "40 is not divisible by 3\n",
            "42 is divisible by 3\n",
            "50 is not divisible by 3\n",
            "57 is divisible by 3\n",
            "60 is divisible by 3\n",
            "62 is not divisible by 3\n",
            "65 is not divisible by 3\n",
            "71 is not divisible by 3\n",
            "72 is divisible by 3\n",
            "75 is divisible by 3\n",
            "81 is divisible by 3\n",
            "83 is not divisible by 3\n",
            "85 is not divisible by 3\n",
            "87 is divisible by 3\n",
            "90 is divisible by 3\n",
            "94 is not divisible by 3\n",
            "99 is divisible by 3\n",
            "100 is not divisible by 3\n",
            "102 is divisible by 3\n"
          ]
        }
      ]
    },
    {
      "cell_type": "markdown",
      "source": [
        "Q7. What do you understand about mutable and immutable data types? Give examples for both showing  this property. "
      ],
      "metadata": {
        "id": "WmeTZqb1XMpU"
      }
    },
    {
      "cell_type": "markdown",
      "source": [
        "Examples of mutable data types in Python include lists, dictionaries, and sets. For example, if we have a list my_list = [1, 2, 3], we can modify it by appending or removing elements, changing the value of specific elements, or reordering its elements. This is because lists are mutable in Python.\n",
        "\n",
        "On the other hand, examples of immutable data types in Python include integers, floats, strings, and tuples. For example, if we have a string my_string = \"hello\", we cannot modify it by changing its individual characters. Instead, we would need to create a new string with the desired changes. This is because strings are immutable in Python."
      ],
      "metadata": {
        "id": "7H64eWsfXiQ6"
      }
    },
    {
      "cell_type": "code",
      "source": [
        "# mutable example\n",
        "my_list = [1, 2, 3]\n",
        "print(my_list)  # prints [1, 2, 3]\n",
        "my_list.append(4)\n",
        "print(my_list)  # prints [1, 2, 3, 4]\n",
        "\n",
        "# immutable example\n",
        "my_string = \"hello\"\n",
        "print(my_string)  # prints \"hello\"\n",
        "my_string[0] = \"H\"  # results in TypeError: 'str' object does not support item assignment\n"
      ],
      "metadata": {
        "colab": {
          "base_uri": "https://localhost:8080/",
          "height": 253
        },
        "id": "T4nMeCYwXW7p",
        "outputId": "d0e56c83-d146-4d6d-a282-a52633917ae9"
      },
      "execution_count": 5,
      "outputs": [
        {
          "output_type": "stream",
          "name": "stdout",
          "text": [
            "[1, 2, 3]\n",
            "[1, 2, 3, 4]\n",
            "hello\n"
          ]
        },
        {
          "output_type": "error",
          "ename": "TypeError",
          "evalue": "ignored",
          "traceback": [
            "\u001b[0;31m---------------------------------------------------------------------------\u001b[0m",
            "\u001b[0;31mTypeError\u001b[0m                                 Traceback (most recent call last)",
            "\u001b[0;32m<ipython-input-5-679663bf9df5>\u001b[0m in \u001b[0;36m<cell line: 10>\u001b[0;34m()\u001b[0m\n\u001b[1;32m      8\u001b[0m \u001b[0mmy_string\u001b[0m \u001b[0;34m=\u001b[0m \u001b[0;34m\"hello\"\u001b[0m\u001b[0;34m\u001b[0m\u001b[0;34m\u001b[0m\u001b[0m\n\u001b[1;32m      9\u001b[0m \u001b[0mprint\u001b[0m\u001b[0;34m(\u001b[0m\u001b[0mmy_string\u001b[0m\u001b[0;34m)\u001b[0m  \u001b[0;31m# prints \"hello\"\u001b[0m\u001b[0;34m\u001b[0m\u001b[0;34m\u001b[0m\u001b[0m\n\u001b[0;32m---> 10\u001b[0;31m \u001b[0mmy_string\u001b[0m\u001b[0;34m[\u001b[0m\u001b[0;36m0\u001b[0m\u001b[0;34m]\u001b[0m \u001b[0;34m=\u001b[0m \u001b[0;34m\"H\"\u001b[0m  \u001b[0;31m# results in TypeError: 'str' object does not support item assignment\u001b[0m\u001b[0;34m\u001b[0m\u001b[0;34m\u001b[0m\u001b[0m\n\u001b[0m",
            "\u001b[0;31mTypeError\u001b[0m: 'str' object does not support item assignment"
          ]
        }
      ]
    }
  ]
}