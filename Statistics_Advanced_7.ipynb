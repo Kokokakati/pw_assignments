{
  "nbformat": 4,
  "nbformat_minor": 0,
  "metadata": {
    "colab": {
      "provenance": []
    },
    "kernelspec": {
      "name": "python3",
      "display_name": "Python 3"
    },
    "language_info": {
      "name": "python"
    }
  },
  "cells": [
    {
      "cell_type": "markdown",
      "source": [
        "Q1. Write a Python function that takes in two arrays of data and calculates the F-value for a variance ratio\n",
        "test. The function should return the F-value and the corresponding p-value for the test.\n",
        "\n",
        "Q2. Given a significance level of 0.05 and the degrees of freedom for the numerator and denominator of an\n",
        "F-distribution, write a Python function that returns the critical F-value for a two-tailed test.\n",
        "\n",
        "Q3. Write a Python program that generates random samples from two normal distributions with known\n",
        "\n",
        "variances and uses an F-test to determine if the variances are equal. The program should output the F-\n",
        "value, degrees of freedom, and p-value for the test.\n",
        "\n",
        "Q4.The variances of two populations are known to be 10 and 15. A sample of 12 observations is taken from\n",
        "each population. Conduct an F-test at the 5% significance level to determine if the variances are\n",
        "significantly different.\n",
        "\n",
        "Q5. A manufacturer claims that the variance of the diameter of a certain product is 0.005. A sample of 25\n",
        "products is taken, and the sample variance is found to be 0.006. Conduct an F-test at the 1% significance\n",
        "level to determine if the claim is justified.\n",
        "\n",
        "Q6. Write a Python function that takes in the degrees of freedom for the numerator and denominator of an\n",
        "F-distribution and calculates the mean and variance of the distribution. The function should return the\n",
        "mean and variance as a tuple.\n",
        "\n",
        "Q7. A random sample of 10 measurements is taken from a normal population with unknown variance. The\n",
        "sample variance is found to be 25. Another random sample of 15 measurements is taken from another\n",
        "normal population with unknown variance, and the sample variance is found to be 20. Conduct an F-test\n",
        "at the 10% significance level to determine if the variances are significantly different.\n",
        "\n",
        "Q8. The following data represent the waiting times in minutes at two different restaurants on a Saturday\n",
        "night: Restaurant A: 24, 25, 28, 23, 22, 20, 27; Restaurant B: 31, 33, 35, 30, 32, 36. Conduct an F-test at the 5%\n",
        "significance level to determine if the variances are significantly different.\n",
        "\n",
        "Q9. The following data represent the test scores of two groups of students: Group A: 80, 85, 90, 92, 87, 83;\n",
        "Group B: 75, 78, 82, 79, 81, 84. Conduct an F-test at the 1% significance level to determine if the variances\n",
        "are significantly different."
      ],
      "metadata": {
        "id": "6Gntn9uH2WW6"
      }
    },
    {
      "cell_type": "code",
      "source": [
        "1.\n",
        "import numpy as np\n",
        "from scipy.stats import f\n",
        "\n",
        "def calculate_f_value(data1, data2):\n",
        "    # Calculate variances\n",
        "    var1 = np.var(data1, ddof=1)\n",
        "    var2 = np.var(data2, ddof=1)\n",
        "\n",
        "    # Calculate F-value\n",
        "    f_value = var1 / var2 if var1 >= var2 else var2 / var1\n",
        "\n",
        "    # Calculate degrees of freedom\n",
        "    df1 = len(data1) - 1\n",
        "    df2 = len(data2) - 1\n",
        "\n",
        "    # Calculate p-value\n",
        "    p_value = 2 * (1 - f.cdf(f_value, df1, df2))\n",
        "\n",
        "    return f_value, p_value\n",
        "\n",
        "# Example usage:\n",
        "data1 = [12, 14, 16, 18, 20]\n",
        "data2 = [8, 10, 12, 14, 16]\n",
        "f_value, p_value = calculate_f_value(data1, data2)\n",
        "print(\"F-value:\", f_value)\n",
        "print(\"p-value:\", p_value)\n"
      ],
      "metadata": {
        "id": "rpSsWHkz2ru3"
      },
      "execution_count": null,
      "outputs": []
    },
    {
      "cell_type": "code",
      "source": [
        "2.\n",
        "from scipy.stats import f\n",
        "\n",
        "def critical_f_value(alpha, df1, df2):\n",
        "    return f.ppf(1 - alpha / 2, df1, df2)\n",
        "\n",
        "# Example usage with alpha=0.05, df1=3, and df2=5:\n",
        "alpha = 0.05\n",
        "df1 = 3\n",
        "df2 = 5\n",
        "critical_f = critical_f_value(alpha, df1, df2)\n",
        "print(\"Critical F-value:\", critical_f)\n"
      ],
      "metadata": {
        "id": "yTM2kb-32tDw"
      },
      "execution_count": null,
      "outputs": []
    },
    {
      "cell_type": "code",
      "source": [
        "3.\n",
        "import numpy as np\n",
        "from scipy.stats import f\n",
        "\n",
        "# Generate random samples\n",
        "np.random.seed(0)\n",
        "sample1 = np.random.normal(0, 1, 100)  # Mean=0, Variance=1\n",
        "sample2 = np.random.normal(0, 1.5, 100)  # Mean=0, Variance=1.5\n",
        "\n",
        "# Perform F-test\n",
        "f_value, p_value = f.variance_ratio(sample1, sample2)\n",
        "degrees_of_freedom1 = len(sample1) - 1\n",
        "degrees_of_freedom2 = len(sample2) - 1\n",
        "\n",
        "# Output results\n",
        "print(\"F-value:\", f_value)\n",
        "print(\"Degrees of Freedom:\", degrees_of_freedom1, degrees_of_freedom2)\n",
        "print(\"p-value:\", p_value)\n"
      ],
      "metadata": {
        "id": "33f7fJpp2x3m"
      },
      "execution_count": null,
      "outputs": []
    },
    {
      "cell_type": "code",
      "source": [
        "4.\n",
        "from scipy.stats import f\n",
        "\n",
        "sample1_var = 10\n",
        "sample2_var = 15\n",
        "n1 = 12\n",
        "n2 = 12\n",
        "\n",
        "f_value = sample1_var / sample2_var if sample1_var >= sample2_var else sample2_var / sample1_var\n",
        "alpha = 0.05\n",
        "df1 = n1 - 1\n",
        "df2 = n2 - 1\n",
        "p_value = 2 * (1 - f.cdf(f_value, df1, df2))\n",
        "\n",
        "print(\"F-value:\", f_value)\n",
        "print(\"p-value:\", p_value)\n",
        "\n",
        "if p_value < alpha:\n",
        "    print(\"Reject the null hypothesis: Variances are significantly different.\")\n",
        "else:\n",
        "    print(\"Fail to reject the null hypothesis: Variances are not significantly different.\")\n"
      ],
      "metadata": {
        "id": "qFrjggM820Tm"
      },
      "execution_count": null,
      "outputs": []
    },
    {
      "cell_type": "code",
      "source": [
        "5.\n",
        "from scipy.stats import f\n",
        "\n",
        "sample_variance = 0.006\n",
        "sample_size = 25\n",
        "claim_variance = 0.005\n",
        "alpha = 0.01\n",
        "\n",
        "f_value = sample_variance / claim_variance\n",
        "df1 = sample_size - 1\n",
        "df2 = 1  # Degrees of freedom for the claim variance\n",
        "\n",
        "p_value = 2 * (1 - f.cdf(f_value, df1, df2))\n",
        "\n",
        "print(\"F-value:\", f_value)\n",
        "print(\"p-value:\", p_value)\n",
        "\n",
        "if p_value < alpha:\n",
        "    print(\"Reject the null hypothesis: Claim is not justified.\")\n",
        "else:\n",
        "    print(\"Fail to reject the null hypothesis: Claim is justified.\")\n"
      ],
      "metadata": {
        "id": "H4ds9ze-23eb"
      },
      "execution_count": null,
      "outputs": []
    },
    {
      "cell_type": "code",
      "source": [
        "6.\n",
        "from scipy.stats import f\n",
        "\n",
        "def f_distribution_mean_variance(df1, df2):\n",
        "    mean = df2 / (df2 - 2)\n",
        "    variance = (2 * df2**2 * (df1 + df2 - 2)) / (df1 * (df2 - 2)**2 * (df2 - 4))\n",
        "    return mean, variance\n",
        "\n",
        "# Example usage:\n",
        "df1 = 5\n",
        "df2 = 10\n",
        "mean, variance = f_distribution_mean_variance(df1, df2)\n",
        "print(\"Mean:\", mean)\n",
        "print(\"Variance:\", variance)\n"
      ],
      "metadata": {
        "id": "4fyRHlHK26DT"
      },
      "execution_count": null,
      "outputs": []
    },
    {
      "cell_type": "code",
      "source": [
        "7.\n",
        "from scipy.stats import f\n",
        "\n",
        "sample1_variance = 25\n",
        "sample2_variance = 20\n",
        "n1 = 10\n",
        "n2 = 15\n",
        "alpha = 0.10\n",
        "\n",
        "f_value = sample1_variance / sample2_variance if sample1_variance >= sample2_variance else sample2_variance / sample1_variance\n",
        "df1 = n1 - 1\n",
        "df2 = n2 - 1\n",
        "p_value = 2 * (1 - f.cdf(f_value, df1, df2))\n",
        "\n",
        "print(\"F-value:\", f_value)\n",
        "print(\"p-value:\", p_value)\n",
        "\n",
        "if p_value < alpha:\n",
        "    print(\"Reject the null hypothesis: Variances are significantly different.\")\n",
        "else:\n",
        "    print(\"Fail to reject the null hypothesis: Variances are not significantly different.\")\n"
      ],
      "metadata": {
        "id": "r_olIbr928PJ"
      },
      "execution_count": null,
      "outputs": []
    },
    {
      "cell_type": "code",
      "source": [
        "8.\n",
        "from scipy.stats import f\n",
        "\n",
        "restaurant_A = [24, 25, 28, 23, 22, 20, 27]\n",
        "restaurant_B = [31, 33, 35, 30, 32, 36]\n",
        "alpha = 0.05\n",
        "\n",
        "var_A = np.var(restaurant_A, ddof=1)\n",
        "var_B = np.var(restaurant_B, ddof=1)\n",
        "\n",
        "f_value = var_A / var_B if var_A >= var_B else var_B / var_A\n",
        "df1 = len(restaurant_A) - 1\n",
        "df2 = len(restaurant_B) - 1\n",
        "p_value = 2 * (1 - f.cdf(f_value, df1, df2))\n",
        "\n",
        "print(\"F-value:\", f_value)\n",
        "print(\"p-value:\", p_value)\n",
        "\n",
        "if p_value < alpha:\n",
        "    print(\"Reject the null hypothesis: Variances are significantly different.\")\n",
        "else:\n",
        "    print(\"Fail to reject the null hypothesis: Variances are not significantly different.\")\n"
      ],
      "metadata": {
        "id": "3hQXbupz2-fb"
      },
      "execution_count": null,
      "outputs": []
    },
    {
      "cell_type": "code",
      "source": [
        "9.\n",
        "from scipy.stats import f\n",
        "\n",
        "group_A = [80, 85, 90, 92, 87, 83]\n",
        "group_B = [75, 78, 82, 79, 81, 84]\n",
        "alpha = 0.01\n",
        "\n",
        "var_A = np.var(group_A, ddof=1)\n",
        "var_B = np.var(group_B, ddof=1)\n",
        "\n",
        "f_value = var_A / var_B if var_A >= var_B else var_B / var_A\n",
        "df1 = len(group_A) - 1\n",
        "df2 = len(group_B) - 1\n",
        "p_value = 2 * (1 - f.cdf(f_value, df1, df2))\n",
        "\n",
        "print(\"F-value:\", f_value)\n",
        "print(\"p-value:\", p_value)\n",
        "\n",
        "if p_value < alpha:\n",
        "    print(\"Reject the null hypothesis: Variances are significantly different.\")\n",
        "else:\n",
        "    print(\"Fail to reject the null hypothesis: Variances are not significantly different.\")\n",
        "\n"
      ],
      "metadata": {
        "id": "wzWff8yV3BGE"
      },
      "execution_count": null,
      "outputs": []
    }
  ]
}