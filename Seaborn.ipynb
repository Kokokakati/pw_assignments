{
  "nbformat": 4,
  "nbformat_minor": 0,
  "metadata": {
    "colab": {
      "provenance": []
    },
    "kernelspec": {
      "name": "python3",
      "display_name": "Python 3"
    },
    "language_info": {
      "name": "python"
    }
  },
  "cells": [
    {
      "cell_type": "markdown",
      "source": [
        "Que 1: Name any five plots that we can plot using the Seaborn library. Also, state the uses of each plot.\n",
        "\n",
        "Que 2: Load the \"fmri\" dataset using the load_dataset function of seaborn. Plot a line plot using x =\n",
        "\"timepoint\" and y = \"signal\" for different events and regions.\n",
        "Note: timepoint, signal, event, and region are columns in the fmri dataset.\n",
        "\n",
        "Que 3: Load the \"titanic\" dataset using the load_dataset function of seaborn. Plot two box plots using x =\n",
        "'pclass', y = 'age' and y = 'fare'.\n",
        "Note: pclass, age, and fare are columns in the titanic dataset.\n",
        "\n",
        "Que 4: Use the \"diamonds\" dataset from seaborn to plot a histogram for the 'price' column. Use the hue\n",
        "parameter for the 'cut' column of the diamonds dataset.\n",
        "\n",
        "Que 5: Use the \"iris\" dataset from seaborn to plot a pair plot. Use the hue parameter for the \"species\" column\n",
        "of the iris dataset.\n",
        "\n",
        "Que 6: Use the \"flights\" dataset from seaborn to plot a heatmap."
      ],
      "metadata": {
        "id": "EaRhRjxCAfA2"
      }
    },
    {
      "cell_type": "markdown",
      "source": [
        "1.Scatter Plot: Scatter plots are used to visualize the relationship between two continuous variables. They are useful for identifying patterns, trends, and correlations in data.\n",
        "\n",
        "Histogram: Histograms are used to visualize the distribution of a single variable. They show the frequency of values within certain intervals or bins, making them useful for understanding the underlying data distribution.\n",
        "\n",
        "Box Plot: Box plots, also known as box-and-whisker plots, are used to visualize the distribution of a continuous variable across different categories. They provide information about the central tendency, spread, and presence of outliers in the data.\n",
        "\n",
        "Bar Plot: Bar plots are used to visualize the distribution of a categorical variable. They show the frequency or count of each category, making them useful for comparing different categories or groups.\n",
        "\n",
        "Heatmap: Heatmaps are used to visualize the magnitude of a variable in a matrix format. They use color gradients to represent the values in the matrix, making them useful for identifying patterns and relationships in multi-dimensional data."
      ],
      "metadata": {
        "id": "NmWgaMsLAnLe"
      }
    },
    {
      "cell_type": "code",
      "source": [
        "#2\n",
        "import seaborn as sns\n",
        "\n",
        "# Load the fmri dataset\n",
        "fmri_df = sns.load_dataset(\"fmri\")\n",
        "\n",
        "# Plot a line plot\n",
        "sns.lineplot(data=fmri_df, x=\"timepoint\", y=\"signal\", hue=\"event\", style=\"region\")\n"
      ],
      "metadata": {
        "id": "N1JjYivsAtLH"
      },
      "execution_count": null,
      "outputs": []
    },
    {
      "cell_type": "code",
      "source": [
        "#3\n",
        "import seaborn as sns\n",
        "\n",
        "# Load the titanic dataset\n",
        "titanic_df = sns.load_dataset(\"titanic\")\n",
        "\n",
        "# Plot box plots\n",
        "sns.boxplot(data=titanic_df, x=\"pclass\", y=\"age\")\n",
        "sns.boxplot(data=titanic_df, x=\"pclass\", y=\"fare\")\n"
      ],
      "metadata": {
        "id": "X1vvVO8-Azde"
      },
      "execution_count": null,
      "outputs": []
    },
    {
      "cell_type": "code",
      "source": [
        "#4\n",
        "import seaborn as sns\n",
        "\n",
        "# Load the diamonds dataset\n",
        "diamonds_df = sns.load_dataset(\"diamonds\")\n",
        "\n",
        "# Plot a histogram\n",
        "sns.histplot(data=diamonds_df, x=\"price\", hue=\"cut\", multiple=\"stack\")\n"
      ],
      "metadata": {
        "id": "AHbTTQGPA3CI"
      },
      "execution_count": null,
      "outputs": []
    },
    {
      "cell_type": "code",
      "source": [
        "#5\n",
        "import seaborn as sns\n",
        "\n",
        "# Load the iris dataset\n",
        "iris_df = sns.load_dataset(\"iris\")\n",
        "\n",
        "# Plot a pair plot\n",
        "sns.pairplot(data=iris_df, hue=\"species\")\n"
      ],
      "metadata": {
        "id": "3YzsGNbPA6Ls"
      },
      "execution_count": null,
      "outputs": []
    },
    {
      "cell_type": "code",
      "source": [
        "#6\n",
        "import seaborn as sns\n",
        "\n",
        "# Load the flights dataset\n",
        "flights_df = sns.load_dataset(\"flights\")\n",
        "\n",
        "# Pivot the data to create a matrix\n",
        "flights_pivot = flights_df.pivot(\"month\", \"year\", \"passengers\")\n",
        "\n",
        "# Plot a heatmap\n",
        "sns.heatmap(data=flights_pivot, cmap=\"YlGnBu\")\n"
      ],
      "metadata": {
        "id": "5fzkA-FdA9B-"
      },
      "execution_count": null,
      "outputs": []
    }
  ]
}