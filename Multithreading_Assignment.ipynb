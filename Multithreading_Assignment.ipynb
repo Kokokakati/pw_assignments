{
  "nbformat": 4,
  "nbformat_minor": 0,
  "metadata": {
    "colab": {
      "provenance": []
    },
    "kernelspec": {
      "name": "python3",
      "display_name": "Python 3"
    },
    "language_info": {
      "name": "python"
    }
  },
  "cells": [
    {
      "cell_type": "code",
      "execution_count": null,
      "metadata": {
        "id": "RC6WnbgN9Zwj"
      },
      "outputs": [],
      "source": []
    },
    {
      "cell_type": "markdown",
      "source": [
        "Q1. What is multithreading in python? Why is it used? Name the module used to handle threads in python"
      ],
      "metadata": {
        "id": "prNSy6qo9cTb"
      }
    },
    {
      "cell_type": "markdown",
      "source": [
        "Multithreading in Python refers to the concurrent execution of multiple threads within a single program. A thread is a separate flow of execution that can run simultaneously with other threads, sharing the same memory space. Multithreading allows for parallel execution of tasks, enabling efficient resource utilization and responsiveness in applications.\n",
        "Multithreading is used for several purposes, including:\n",
        "\n",
        "Improving performance: By dividing tasks into smaller threads that can execute concurrently, multithreading can utilize multiple CPU cores and enhance the overall performance of the program.\n",
        "Handling I/O operations: Multithreading is especially useful when dealing with I/O operations, such as reading from or writing to files, network communication, or interacting with databases. By utilizing separate threads for these tasks, the program can continue executing other tasks while waiting for I/O operations to complete.\n",
        "Enhancing responsiveness: Multithreading allows for responsive user interfaces, as time-consuming tasks can be offloaded to separate threads, preventing the main thread from being blocked.\n",
        "The module used to handle threads in Python is called the threading module. It provides a high-level interface for creating and managing threads. The threading module allows you to create Thread objects, start their execution, control their behavior, and synchronize their actions using various synchronization primitives such as locks, semaphores, and conditions."
      ],
      "metadata": {
        "id": "f6FN5Lq896mM"
      }
    },
    {
      "cell_type": "markdown",
      "source": [
        "Q2. Why threading module used? Write the use of the following functions\n",
        "\n",
        "\n",
        " 1.activeCount()\n",
        "\n",
        " 2.currentThread()\n",
        "\n",
        " 3.enumerate()"
      ],
      "metadata": {
        "id": "-NDSzkj6-Jqg"
      }
    },
    {
      "cell_type": "markdown",
      "source": [
        "\n",
        "The threading module in Python is used for handling threads. It provides a high-level interface and functions for working with threads. Here's the use of the mentioned functions:\n",
        "\n",
        "\n",
        "\n",
        "activeCount(): This function is used to retrieve the number of Thread objects that are currently alive and managed by the threading module. It returns the count of active threads.\n",
        "\n",
        "Example:"
      ],
      "metadata": {
        "id": "dMjvyzAf-Uwc"
      }
    },
    {
      "cell_type": "code",
      "source": [
        "import threading\n",
        "\n",
        "def my_thread_function():\n",
        "    # Some thread logic here\n",
        "    pass\n",
        "\n",
        "thread1 = threading.Thread(target=my_thread_function)\n",
        "thread2 = threading.Thread(target=my_thread_function)\n",
        "\n",
        "thread1.start()\n",
        "thread2.start()\n",
        "\n",
        "print(threading.activeCount())  # Output: 3 (Main thread + thread1 + thread2)\n",
        "\n"
      ],
      "metadata": {
        "colab": {
          "base_uri": "https://localhost:8080/"
        },
        "id": "WLD5xvuK-p-r",
        "outputId": "819c67f3-928d-4046-d89a-4847e496969f"
      },
      "execution_count": 11,
      "outputs": [
        {
          "output_type": "stream",
          "name": "stdout",
          "text": [
            "5\n"
          ]
        },
        {
          "output_type": "stream",
          "name": "stderr",
          "text": [
            "<ipython-input-11-946f98c96904>:13: DeprecationWarning: activeCount() is deprecated, use active_count() instead\n",
            "  print(threading.activeCount())  # Output: 3 (Main thread + thread1 + thread2)\n"
          ]
        }
      ]
    },
    {
      "cell_type": "markdown",
      "source": [
        "currentThread(): This function returns the Thread object corresponding to the current thread. It can be used to access and manipulate the properties and methods of the current thread.\n",
        "\n",
        "Example:"
      ],
      "metadata": {
        "id": "wRMjjkgp-t73"
      }
    },
    {
      "cell_type": "code",
      "source": [
        "import threading\n",
        "\n",
        "def my_thread_function():\n",
        "    current_thread = threading.currentThread()\n",
        "    print(current_thread.getName())  # Output: Thread-1\n",
        "\n",
        "thread1 = threading.Thread(target=my_thread_function)\n",
        "thread1.start()\n"
      ],
      "metadata": {
        "colab": {
          "base_uri": "https://localhost:8080/"
        },
        "id": "_RWky9FR-wWi",
        "outputId": "a174795a-4d96-4f30-ca5c-c3fe5b178e47"
      },
      "execution_count": 2,
      "outputs": [
        {
          "output_type": "stream",
          "name": "stdout",
          "text": [
            "Thread-10 (my_thread_function)\n"
          ]
        },
        {
          "output_type": "stream",
          "name": "stderr",
          "text": [
            "<ipython-input-2-cf9dbec0aeed>:4: DeprecationWarning: currentThread() is deprecated, use current_thread() instead\n",
            "  current_thread = threading.currentThread()\n",
            "<ipython-input-2-cf9dbec0aeed>:5: DeprecationWarning: getName() is deprecated, get the name attribute instead\n",
            "  print(current_thread.getName())  # Output: Thread-1\n"
          ]
        }
      ]
    },
    {
      "cell_type": "markdown",
      "source": [
        "enumerate(): This function returns a list of all Thread objects that are currently alive and managed by the threading module. It provides a convenient way to access and iterate over all active threads.\n",
        "\n",
        "Example:"
      ],
      "metadata": {
        "id": "vn7T4O89-yYx"
      }
    },
    {
      "cell_type": "code",
      "source": [
        "import threading\n",
        "\n",
        "def my_thread_function():\n",
        "    # Some thread logic here\n",
        "    pass\n",
        "\n",
        "thread1 = threading.Thread(target=my_thread_function)\n",
        "thread2 = threading.Thread(target=my_thread_function)\n",
        "\n",
        "thread1.start()\n",
        "thread2.start()\n",
        "\n",
        "thread_list = threading.enumerate()\n",
        "for thread in thread_list:\n",
        "    print(thread.getName())\n",
        "\n",
        "# Output:\n",
        "# MainThread\n",
        "# Thread-1\n",
        "# Thread-2\n",
        "\n",
        "\n"
      ],
      "metadata": {
        "colab": {
          "base_uri": "https://localhost:8080/"
        },
        "id": "eccH_mEB-1Bh",
        "outputId": "39e69c30-e306-4be0-8520-c376d40d152a"
      },
      "execution_count": 10,
      "outputs": [
        {
          "output_type": "stream",
          "name": "stdout",
          "text": [
            "MainThread\n",
            "Thread-2 (_thread_main)\n",
            "Thread-3\n",
            "Thread-1\n",
            "_colab_inspector_thread\n"
          ]
        },
        {
          "output_type": "stream",
          "name": "stderr",
          "text": [
            "<ipython-input-10-e82fec3f8714>:15: DeprecationWarning: getName() is deprecated, get the name attribute instead\n",
            "  print(thread.getName())\n"
          ]
        }
      ]
    },
    {
      "cell_type": "markdown",
      "source": [
        "3. Explain the following functions\n",
        "1.run()\n",
        "2.start()\n",
        "3.join()\n",
        "4.isAlive()"
      ],
      "metadata": {
        "id": "1ntNA705_IEQ"
      }
    },
    {
      "cell_type": "markdown",
      "source": [
        "run(): The run() method is the entry point for thread execution. It is a method that should be overridden in a subclass of the Thread class to define the specific code that the thread will run. When a thread is started using the start() method, it internally calls the run() method of the thread. You should define your thread's logic within the run() method."
      ],
      "metadata": {
        "id": "vdsbPc0F_O3W"
      }
    },
    {
      "cell_type": "code",
      "source": [
        "import threading\n",
        "\n",
        "class MyThread(threading.Thread):\n",
        "    def run(self):\n",
        "        # Define thread logic here\n",
        "        print(\"Thread is running\")\n",
        "\n",
        "thread = MyThread()\n",
        "thread.start()  # Calls the run() method internally\n"
      ],
      "metadata": {
        "colab": {
          "base_uri": "https://localhost:8080/"
        },
        "id": "VVsizP0S_KVe",
        "outputId": "592124d2-78f0-4754-c36e-02a4a6d9d0f2"
      },
      "execution_count": 4,
      "outputs": [
        {
          "output_type": "stream",
          "name": "stdout",
          "text": [
            "Thread is running\n"
          ]
        }
      ]
    },
    {
      "cell_type": "markdown",
      "source": [
        "start(): The start() method is used to start the execution of a thread. It creates a new system thread and calls the run() method of the thread class. The start() method allows multiple threads to run concurrently, executing their respective run() methods."
      ],
      "metadata": {
        "id": "Vg6PviFq_RL_"
      }
    },
    {
      "cell_type": "code",
      "source": [
        "import threading\n",
        "\n",
        "def my_thread_function():\n",
        "    # Define thread logic here\n",
        "    print(\"Thread is running\")\n",
        "\n",
        "thread = threading.Thread(target=my_thread_function)\n",
        "thread.start()  # Start the thread execution\n"
      ],
      "metadata": {
        "colab": {
          "base_uri": "https://localhost:8080/"
        },
        "id": "EDM_ec-N_Tbu",
        "outputId": "2a998eb1-8dc6-41b9-a253-034f87608081"
      },
      "execution_count": 5,
      "outputs": [
        {
          "output_type": "stream",
          "name": "stdout",
          "text": [
            "Thread is running\n"
          ]
        }
      ]
    },
    {
      "cell_type": "markdown",
      "source": [
        "join(): The join() method is used to block the execution of the calling thread until the thread it is called on completes its execution. This ensures that the calling thread waits for the specified thread to finish before proceeding further. The join() method allows for synchronization between threads."
      ],
      "metadata": {
        "id": "aQMfmdTg_WGS"
      }
    },
    {
      "cell_type": "code",
      "source": [
        "import threading\n",
        "\n",
        "def my_thread_function():\n",
        "    # Define thread logic here\n",
        "    print(\"Thread is running\")\n",
        "\n",
        "thread = threading.Thread(target=my_thread_function)\n",
        "thread.start()  # Start the thread execution\n",
        "thread.join()   # Wait for the thread to complete\n",
        "\n",
        "print(\"Thread execution complete\")\n"
      ],
      "metadata": {
        "colab": {
          "base_uri": "https://localhost:8080/"
        },
        "id": "Gh2xxIyc_YjR",
        "outputId": "59896729-5cb8-4867-e6ff-a8ccdfa0bc26"
      },
      "execution_count": 6,
      "outputs": [
        {
          "output_type": "stream",
          "name": "stdout",
          "text": [
            "Thread is running\n",
            "Thread execution complete\n"
          ]
        }
      ]
    },
    {
      "cell_type": "markdown",
      "source": [
        "isAlive(): The isAlive() method is used to check whether a thread is currently executing (True) or has completed its execution (False). It returns a boolean value indicating the thread's execution status."
      ],
      "metadata": {
        "id": "MpQDEzSY_fFQ"
      }
    },
    {
      "cell_type": "code",
      "source": [
        "import threading\n",
        "import time\n",
        "\n",
        "def my_thread_function():\n",
        "    # Define thread logic here\n",
        "    time.sleep(2)\n",
        "\n",
        "thread = threading.Thread(target=my_thread_function)\n",
        "thread.start()  # Start the thread execution\n",
        "\n",
        "print(thread.is_alive())  # Output: True\n",
        "\n",
        "time.sleep(3)\n",
        "\n",
        "print(thread.is_alive())  # Output: False\n",
        "\n"
      ],
      "metadata": {
        "colab": {
          "base_uri": "https://localhost:8080/"
        },
        "id": "vi8Hegww_hFZ",
        "outputId": "2541b4fc-ed54-4a52-f930-9066fa3942a4"
      },
      "execution_count": 8,
      "outputs": [
        {
          "output_type": "stream",
          "name": "stdout",
          "text": [
            "True\n",
            "False\n"
          ]
        }
      ]
    }
  ]
}