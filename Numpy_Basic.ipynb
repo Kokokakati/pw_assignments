{
  "nbformat": 4,
  "nbformat_minor": 0,
  "metadata": {
    "colab": {
      "provenance": []
    },
    "kernelspec": {
      "name": "python3",
      "display_name": "Python 3"
    },
    "language_info": {
      "name": "python"
    }
  },
  "cells": [
    {
      "cell_type": "markdown",
      "source": [
        "Consider the below code to answer further questions:\n",
        "import numpy as np\n",
        "list_ = [ ‘1’ , ’2’ , ‘3’ , ‘4’ , ‘5’ ]\n",
        "array_list = np.array(object = list_)\n",
        "\n",
        "Q1. Is there any difference in the data type of variables list_ and array_list? If there is then write a code\n",
        "to print the data types of both the variables.\n",
        "\n",
        "Q2. Write a code to print the data type of each and every element of both the variables list_ and\n",
        "arra_list.\n",
        "\n",
        "Q3. Considering the following changes in the variable, array_list:\n",
        "array_list = np.array(object = list_, dtype = int)\n",
        "Will there be any difference in the data type of the elements present in both the variables, list_ and\n",
        "arra_list? If so then print the data types of each and every element present in both the variables, list_\n",
        "and arra_list.\n",
        "Consider the below code to answer further questions:\n",
        "import numpy as np\n",
        "num_list = [ [ 1 , 2 , 3 ] , [ 4 , 5 , 6 ] ]\n",
        "num_array = np.array(object = num_list)\n",
        "\n",
        "Q4. Write a code to find the following characteristics of variable, num_array:\n",
        "(i) shape\n",
        "(ii) size\n",
        "\n",
        "Q5. Write a code to create numpy array of 3*3 matrix containing zeros only, using a numpy array\n",
        "creation function.\n",
        "[Hint: The size of the array will be 9 and the shape will be (3,3).]\n",
        "\n",
        "Q6. Create an identity matrix of shape (5,5) using numpy functions?\n",
        "[Hint: An identity matrix is a matrix containing 1 diagonally and other elements will be 0.]"
      ],
      "metadata": {
        "id": "L3YnunYE1iUa"
      }
    },
    {
      "cell_type": "code",
      "source": [
        "import numpy as np\n",
        "\n",
        "# Q1\n",
        "list_ = ['1', '2', '3', '4', '5']\n",
        "array_list = np.array(object=list_)\n",
        "\n",
        "print(\"Data type of variable list_:\", type(list_))\n",
        "print(\"Data type of variable array_list:\", type(array_list))\n",
        "\n",
        "# Q2\n",
        "for elem in list_:\n",
        "    print(\"Data type of element {} in list_: {}\".format(elem, type(elem)))\n",
        "\n",
        "for elem in array_list:\n",
        "    print(\"Data type of element {} in array_list: {}\".format(elem, type(elem)))\n",
        "\n",
        "# Q3\n",
        "array_list = np.array(object=list_, dtype=int)\n",
        "\n",
        "for elem in list_:\n",
        "    print(\"Data type of element {} in list_: {}\".format(elem, type(elem)))\n",
        "\n",
        "for elem in array_list:\n",
        "    print(\"Data type of element {} in array_list: {}\".format(elem, type(elem)))\n",
        "\n",
        "# Q4\n",
        "print(\"Shape of num_array:\", num_array.shape)\n",
        "print(\"Size of num_array:\", num_array.size)\n",
        "\n",
        "# Q5\n",
        "zeros_array = np.zeros((3, 3))\n",
        "print(\"Array of zeros:\")\n",
        "print(zeros_array)\n",
        "\n",
        "# Q6\n",
        "identity_matrix = np.identity(5)\n",
        "print(\"Identity matrix:\")\n",
        "print(identity_matrix)\n"
      ],
      "metadata": {
        "id": "mD8zcvBK1r2l"
      },
      "execution_count": null,
      "outputs": []
    }
  ]
}