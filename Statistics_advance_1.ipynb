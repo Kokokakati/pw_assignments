{
  "nbformat": 4,
  "nbformat_minor": 0,
  "metadata": {
    "colab": {
      "provenance": []
    },
    "kernelspec": {
      "name": "python3",
      "display_name": "Python 3"
    },
    "language_info": {
      "name": "python"
    }
  },
  "cells": [
    {
      "cell_type": "markdown",
      "source": [
        "Q1. What is the Probability density function?\n",
        "\n",
        "A probability density function (PDF) is a statistical function that describes the likelihood of a continuous random variable taking on a particular value. In simpler terms, it gives the probability of a random variable falling within a specific range of values. The probability density function is used for continuous random variables, as opposed to probability mass function (PMF) which is used for discrete random variables.\n",
        "\n",
        "For a continuous random variable X, the probability density function is denoted as f(x) and satisfies the following properties:\n",
        "\n",
        "f(x) is non-negative: f(x) ≥ 0 for all x in the domain of X.\n",
        "The total area under the PDF curve is equal to 1: ∫[all possible values of x] f(x) dx = 1.\n",
        "The probability of X falling within a specific interval [a, b] is given by the area under the curve between a and b: P(a ≤ X ≤ b) = ∫[a to b] f(x) dx."
      ],
      "metadata": {
        "id": "5nvWNxw42riC"
      }
    },
    {
      "cell_type": "markdown",
      "source": [
        "Q2. What are the types of Probability distribution?\n",
        "\n",
        "There are several types of probability distributions, and they can be broadly categorized into two main groups: discrete probability distributions and continuous probability distributions.\n",
        "\n",
        "1.Discrete Probability Distributions:\n",
        "\n",
        "Bernoulli Distribution\n",
        "Binomial Distribution\n",
        "Poisson Distribution\n",
        "Geometric Distribution\n",
        "Hypergeometric Distribution\n",
        "Continuous Probability Distributions:\n",
        "\n",
        "2.Normal Distribution (Gaussian Distribution)\n",
        "Uniform Distribution\n",
        "Exponential Distribution\n",
        "Chi-Squared Distribution\n",
        "Beta Distribution\n",
        "Gamma Distribution\n",
        "Weibull Distribution"
      ],
      "metadata": {
        "id": "UJN1ekmU2sZi"
      }
    },
    {
      "cell_type": "markdown",
      "source": [
        "Q3. Write a Python function to calculate the probability density function of a normal distribution with given mean and standard deviation at a given point."
      ],
      "metadata": {
        "id": "MJ-ZjJXH20wI"
      }
    },
    {
      "cell_type": "code",
      "source": [
        "import math\n",
        "\n",
        "def normal_pdf(x, mean, std_dev):\n",
        "    coefficient = 1 / (std_dev * math.sqrt(2 * math.pi))\n",
        "    exponent = -0.5 * ((x - mean) / std_dev) ** 2\n",
        "    return coefficient * math.exp(exponent)\n",
        "\n",
        "# Example usage:\n",
        "mean = 0\n",
        "std_dev = 1\n",
        "point = 1.5\n",
        "result = normal_pdf(point, mean, std_dev)\n",
        "print(result)\n"
      ],
      "metadata": {
        "colab": {
          "base_uri": "https://localhost:8080/"
        },
        "id": "DEbMFNJZ25iN",
        "outputId": "db888a69-491b-42eb-aaab-ab5063061fd9"
      },
      "execution_count": 1,
      "outputs": [
        {
          "output_type": "stream",
          "name": "stdout",
          "text": [
            "0.12951759566589174\n"
          ]
        }
      ]
    },
    {
      "cell_type": "markdown",
      "source": [
        "Q4. What are the properties of Binomial distribution? Give two examples of events where binomial distribution can be applied.\n",
        "\n",
        "Properties of the Binomial Distribution:\n",
        "\n",
        "\n",
        "\n",
        "1.   The binomial distribution describes the number of successes in a fixed number of independent Bernoulli trials (experiments) with two possible outcomes: success (S) and failure (F).\n",
        "2.   Each trial has the same probability of success, denoted as 'p', and the probability of failure is 'q = 1 - p'.\n",
        "3.   The trials are independent, meaning the outcome of one trial does not affect the outcome of another.\n",
        "4.   The random variable X follows a binomial distribution, denoted as X ~ B(n, p), where 'n' is the number of trials and 'p' is the probability of success.\n",
        "\n",
        "\n",
        "\n",
        "\n",
        "Examples of events where binomial distribution can be applied:\n",
        "\n",
        "Tossing a Coin: The outcome of tossing a fair coin (heads or tails) can be modeled using a binomial distribution. Each toss is an independent trial with two outcomes (success = heads, failure = tails), and the probability of getting heads (success) is 0.5 (assuming a fair coin).\n",
        "\n",
        "Quality Control: In manufacturing, when inspecting a batch of products for defects, each product can be classified as either defective (success) or non-defective (failure). The probability of a product being defective remains the same for each product in the batch. The number of defective items in the batch can be modeled using a binomial distribution."
      ],
      "metadata": {
        "id": "IoQLycse2vVA"
      }
    },
    {
      "cell_type": "markdown",
      "source": [
        "Q5. Generate a random sample of size 1000 from a binomial distribution with a probability of success 0.4 and plot a histogram of the results using matplotlib."
      ],
      "metadata": {
        "id": "31FN3nrY3VWV"
      }
    },
    {
      "cell_type": "code",
      "source": [
        "import numpy as np\n",
        "import matplotlib.pyplot as plt\n",
        "\n",
        "# Generate random sample from a binomial distribution\n",
        "sample_size = 1000\n",
        "probability_of_success = 0.4\n",
        "random_sample = np.random.binomial(n=1, p=probability_of_success, size=sample_size)\n",
        "\n",
        "# Plot histogram\n",
        "plt.hist(random_sample, bins=2, edgecolor='black')\n",
        "plt.xlabel('Success (1) / Failure (0)')\n",
        "plt.ylabel('Frequency')\n",
        "plt.title('Histogram of Binomial Distribution')\n",
        "plt.show()\n"
      ],
      "metadata": {
        "colab": {
          "base_uri": "https://localhost:8080/",
          "height": 472
        },
        "id": "KvRpda7G3X4g",
        "outputId": "3d70b276-5a0c-4a75-ae39-8ec93cbfdb9d"
      },
      "execution_count": 2,
      "outputs": [
        {
          "output_type": "display_data",
          "data": {
            "text/plain": [
              "<Figure size 640x480 with 1 Axes>"
            ],
            "image/png": "[encoded data removed]"
          },
          "metadata": {}
        }
      ]
    },
    {
      "cell_type": "markdown",
      "source": [
        "Q6. Write a Python function to calculate the cumulative distribution function of a Poisson distribution with given mean at a given point."
      ],
      "metadata": {
        "id": "KMqk5gAK3Zwl"
      }
    },
    {
      "cell_type": "code",
      "source": [
        "import math\n",
        "\n",
        "def poisson_cdf(x, mean):\n",
        "    cdf = 0.0\n",
        "    for i in range(x + 1):\n",
        "        cdf += math.exp(-mean) * (mean ** i) / math.factorial(i)\n",
        "    return cdf\n",
        "\n",
        "# Example usage:\n",
        "mean = 3\n",
        "point = 2\n",
        "result = poisson_cdf(point, mean)\n",
        "print(result)\n"
      ],
      "metadata": {
        "colab": {
          "base_uri": "https://localhost:8080/"
        },
        "id": "qfDWWjQS3dYW",
        "outputId": "452416cd-6005-47f8-ba99-fac731014955"
      },
      "execution_count": 3,
      "outputs": [
        {
          "output_type": "stream",
          "name": "stdout",
          "text": [
            "0.42319008112684353\n"
          ]
        }
      ]
    },
    {
      "cell_type": "markdown",
      "source": [
        "Q7. How is the Binomial distribution different from the Poisson distribution?\n",
        "\n",
        "The main differences between the Binomial distribution and the Poisson distribution are as follows:\n",
        "\n",
        "Nature of Events:\n",
        "\n",
        "Binomial Distribution: It models the number of successes in a fixed number of independent Bernoulli trials, where each trial can have two possible outcomes (success and failure).\n",
        "Poisson Distribution: It models the number of events that occur in a fixed interval of time or space, where events occur at a constant average rate and are independent of each other.\n",
        "Number of Trials/Events:\n",
        "\n",
        "Binomial Distribution: Requires a fixed number of trials (n) to be specified.\n",
        "Poisson Distribution: Does not require a fixed number of events; it is used to model the number of events in a continuous interval.\n",
        "Probability of Success/Event:\n",
        "\n",
        "Binomial Distribution: Assumes a constant probability of success (p) for each trial.\n",
        "Poisson Distribution: Assumes a constant average rate (λ) of events occurring in a fixed interval.\n",
        "Range of Values:\n",
        "\n",
        "Binomial Distribution: The random variable can take on discrete integer values from 0 to n.\n",
        "Poisson Distribution: The random variable can take on discrete integer values from 0 to infinity.\n",
        "Limiting Case:\n",
        "\n",
        "As the number of trials (n) in the Binomial distribution becomes very large, and the probability of success (p) becomes very small, it approaches the Poisson distribution."
      ],
      "metadata": {
        "id": "1GPgQS0o3cJ-"
      }
    },
    {
      "cell_type": "markdown",
      "source": [
        "Q8. Generate a random sample of size 1000 from a Poisson distribution with mean 5 and calculate the sample mean and variance."
      ],
      "metadata": {
        "id": "-Hc17zhZ3mTc"
      }
    },
    {
      "cell_type": "code",
      "source": [
        "import numpy as np\n",
        "\n",
        "# Generate random sample from a Poisson distribution\n",
        "sample_size = 1000\n",
        "mean = 5\n",
        "random_sample = np.random.poisson(lam=mean, size=sample_size)\n",
        "\n",
        "# Calculate sample mean and variance\n",
        "sample_mean = np.mean(random_sample)\n",
        "sample_variance = np.var(random_sample)\n",
        "\n",
        "print(\"Sample Mean:\", sample_mean)\n",
        "print(\"Sample Variance:\", sample_variance)\n"
      ],
      "metadata": {
        "colab": {
          "base_uri": "https://localhost:8080/"
        },
        "id": "hHsPUkTf3qcH",
        "outputId": "79cadf53-4c8c-4286-a2b2-b230398c3b47"
      },
      "execution_count": 4,
      "outputs": [
        {
          "output_type": "stream",
          "name": "stdout",
          "text": [
            "Sample Mean: 4.893\n",
            "Sample Variance: 5.325551000000001\n"
          ]
        }
      ]
    },
    {
      "cell_type": "markdown",
      "source": [
        "Q9. How are mean and variance related in Binomial distribution and Poisson distribution?\n",
        "\n",
        "In the Binomial distribution, the mean (μ) and variance (σ^2) are related as follows:\n",
        "\n",
        "Mean (μ) = n * p\n",
        "Variance (σ^2) = n * p * q\n",
        "Where:\n",
        "\n",
        "n is the number of trials/experiments,\n",
        "p is the probability of success in each trial (probability of the event occurring), and\n",
        "q is the probability of failure in each trial (probability of the event not occurring), given by q = 1 - p.\n",
        "In the Poisson distribution, the mean (λ) and variance (σ^2) are related as follows:\n",
        "\n",
        "Mean (λ) = Variance (σ^2) = λ\n",
        "Where:\n",
        "\n",
        "λ is the average rate of events occurring in a fixed interval of time or space.\n",
        "In both the Binomial and Poisson distributions, the variance is equal to the mean. However, it's essential to note that the Poisson distribution is a limiting case of the Binomial distribution, where the number of trials (n) becomes large, and the probability of success (p) becomes small while keeping the product n*p constant (equal to λ). As a result, the variance in the Poisson distribution is equal to the mean, which is a unique property of the Poisson distribution. This property is not present in the general Binomial distribution."
      ],
      "metadata": {
        "id": "ew7gYPM83wiJ"
      }
    }
  ]
}