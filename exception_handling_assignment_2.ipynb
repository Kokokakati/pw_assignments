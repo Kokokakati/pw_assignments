{
  "nbformat": 4,
  "nbformat_minor": 0,
  "metadata": {
    "colab": {
      "provenance": []
    },
    "kernelspec": {
      "name": "python3",
      "display_name": "Python 3"
    },
    "language_info": {
      "name": "python"
    }
  },
  "cells": [
    {
      "cell_type": "markdown",
      "source": [
        "Q1. Explain why we have to use the Exception class while creating a Custom Exception."
      ],
      "metadata": {
        "id": "jCKghgCk5XNi"
      }
    },
    {
      "cell_type": "markdown",
      "source": [
        "When creating a custom exception in Python, we typically inherit from the Exception class, which serves as the base class for all exceptions. Here are the reasons why we use the Exception class for creating custom exceptions:\n",
        "\n",
        "Inheritance: By inheriting from the Exception class, our custom exception inherits all the properties and behaviors of the base Exception class. This includes attributes such as the error message, traceback information, and the ability to catch the exception using try-except blocks.\n",
        "\n",
        "Consistency: Using the Exception class as the base allows for a consistent and standardized approach to exception handling in Python. It ensures that our custom exception follows the same conventions and patterns as built-in exceptions, making it easier for developers to understand and handle the exception.\n",
        "\n",
        "Compatibility: Inheriting from the Exception class ensures compatibility with existing exception handling mechanisms in Python. Since Exception is the base class for all exceptions, our custom exception can be caught alongside other built-in exceptions in the same try-except block, simplifying the error handling process."
      ],
      "metadata": {
        "id": "McuoW_YA5pu9"
      }
    },
    {
      "cell_type": "markdown",
      "source": [
        "Q2. Write a python program to print Python Exception Hierarchy."
      ],
      "metadata": {
        "id": "B62OD37v5XP3"
      }
    },
    {
      "cell_type": "code",
      "source": [
        "import sys\n",
        "\n",
        "def print_exception_hierarchy(exception_class, indent=0):\n",
        "    print(' ' * indent + exception_class.__name__)\n",
        "    if hasattr(exception_class, '__subclasses__'):\n",
        "        for subclass in exception_class.__subclasses__():\n",
        "            print_exception_hierarchy(subclass, indent + 4)\n",
        "\n",
        "print_exception_hierarchy(BaseException)\n"
      ],
      "metadata": {
        "colab": {
          "base_uri": "https://localhost:8080/"
        },
        "id": "h33M-CGU5yQk",
        "outputId": "5dd7237c-9e2d-4819-cc8c-0e5231ea63ca"
      },
      "execution_count": 1,
      "outputs": [
        {
          "output_type": "stream",
          "name": "stdout",
          "text": [
            "BaseException\n",
            "    Exception\n",
            "        TypeError\n",
            "            MultipartConversionError\n",
            "            FloatOperation\n",
            "            UFuncTypeError\n",
            "                UFuncTypeError\n",
            "                UFuncTypeError\n",
            "                UFuncTypeError\n",
            "                    UFuncTypeError\n",
            "                    UFuncTypeError\n",
            "            ConversionError\n",
            "        StopAsyncIteration\n",
            "        StopIteration\n",
            "        ImportError\n",
            "            ModuleNotFoundError\n",
            "                PackageNotFoundError\n",
            "            ZipImportError\n",
            "        OSError\n",
            "            ConnectionError\n",
            "                BrokenPipeError\n",
            "                ConnectionAbortedError\n",
            "                ConnectionRefusedError\n",
            "                ConnectionResetError\n",
            "                    RemoteDisconnected\n",
            "            BlockingIOError\n",
            "            ChildProcessError\n",
            "            FileExistsError\n",
            "            FileNotFoundError\n",
            "                ExecutableNotFoundError\n",
            "            IsADirectoryError\n",
            "            NotADirectoryError\n",
            "            InterruptedError\n",
            "                InterruptedSystemCall\n",
            "            PermissionError\n",
            "            ProcessLookupError\n",
            "            TimeoutError\n",
            "            UnsupportedOperation\n",
            "            itimer_error\n",
            "            Error\n",
            "                SameFileError\n",
            "            SpecialFileError\n",
            "            ExecError\n",
            "            ReadError\n",
            "            herror\n",
            "            gaierror\n",
            "            SSLError\n",
            "                SSLCertVerificationError\n",
            "                SSLZeroReturnError\n",
            "                SSLWantWriteError\n",
            "                SSLWantReadError\n",
            "                SSLSyscallError\n",
            "                SSLEOFError\n",
            "            URLError\n",
            "                HTTPError\n",
            "                ContentTooShortError\n",
            "            BadGzipFile\n",
            "            ProxyError\n",
            "                GeneralProxyError\n",
            "                ProxyConnectionError\n",
            "                SOCKS5AuthError\n",
            "                SOCKS5Error\n",
            "                SOCKS4Error\n",
            "                HTTPError\n",
            "            UnidentifiedImageError\n",
            "        EOFError\n",
            "            IncompleteReadError\n",
            "        RuntimeError\n",
            "            RecursionError\n",
            "            NotImplementedError\n",
            "                StdinNotImplementedError\n",
            "                ZMQVersionError\n",
            "            _DeadlockError\n",
            "            BrokenBarrierError\n",
            "            BrokenExecutor\n",
            "                BrokenThreadPool\n",
            "            SendfileNotAvailableError\n",
            "            RemovedCommandError\n",
            "            PackageDiscoveryError\n",
            "            TooHardError\n",
            "            ExtractionError\n",
            "            VariableError\n",
            "        NameError\n",
            "            UnboundLocalError\n",
            "        AttributeError\n",
            "            FrozenInstanceError\n",
            "        SyntaxError\n",
            "            IndentationError\n",
            "                TabError\n",
            "            ParseError\n",
            "        LookupError\n",
            "            IndexError\n",
            "                AxisError\n",
            "                OutOfBounds\n",
            "            KeyError\n",
            "                UnknownBackend\n",
            "                NoSuchKernel\n",
            "            CodecRegistryError\n",
            "        ValueError\n",
            "            UnicodeError\n",
            "                UnicodeEncodeError\n",
            "                UnicodeDecodeError\n",
            "                UnicodeTranslateError\n",
            "            UnsupportedOperation\n",
            "            JSONDecodeError\n",
            "            UnsupportedDigestmodError\n",
            "            Error\n",
            "            ClassNotFound\n",
            "            SSLCertVerificationError\n",
            "            ClipboardEmpty\n",
            "            MessageDefect\n",
            "                NoBoundaryInMultipartDefect\n",
            "                StartBoundaryNotFoundDefect\n",
            "                CloseBoundaryNotFoundDefect\n",
            "                FirstHeaderLineIsContinuationDefect\n",
            "                MisplacedEnvelopeHeaderDefect\n",
            "                MissingHeaderBodySeparatorDefect\n",
            "                MultipartInvariantViolationDefect\n",
            "                InvalidMultipartContentTransferEncodingDefect\n",
            "                UndecodableBytesDefect\n",
            "                InvalidBase64PaddingDefect\n",
            "                InvalidBase64CharactersDefect\n",
            "                InvalidBase64LengthDefect\n",
            "                HeaderDefect\n",
            "                    InvalidHeaderDefect\n",
            "                    HeaderMissingRequiredValue\n",
            "                    NonPrintableDefect\n",
            "                    ObsoleteHeaderDefect\n",
            "                    NonASCIILocalPartDefect\n",
            "                    InvalidDateDefect\n",
            "            IllegalMonthError\n",
            "            IllegalWeekdayError\n",
            "            MacroToEdit\n",
            "            ParserError\n",
            "            UnequalIterablesError\n",
            "            ELFInvalid\n",
            "            InvalidVersion\n",
            "            InvalidWheelFilename\n",
            "            InvalidSdistFilename\n",
            "            InvalidSpecifier\n",
            "            InvalidMarker\n",
            "            UndefinedComparison\n",
            "            UndefinedEnvironmentName\n",
            "            InvalidRequirement\n",
            "            DisabledFunctionError\n",
            "            AxisError\n",
            "            InvalidVersion\n",
            "            DefusedXmlException\n",
            "                DTDForbidden\n",
            "                EntitiesForbidden\n",
            "                ExternalReferenceForbidden\n",
            "                NotSupportedError\n",
            "            NonIntersectingPathException\n",
            "            InvalidFileException\n",
            "            UnequalIterablesError\n",
            "            InvalidVersion\n",
            "            ELFInvalid\n",
            "            InvalidWheelFilename\n",
            "            InvalidSdistFilename\n",
            "            InvalidSpecifier\n",
            "            InvalidMarker\n",
            "            UndefinedComparison\n",
            "            UndefinedEnvironmentName\n",
            "            InvalidRequirement\n",
            "                RequirementParseError\n",
            "        AssertionError\n",
            "        ArithmeticError\n",
            "            FloatingPointError\n",
            "            OverflowError\n",
            "            ZeroDivisionError\n",
            "                DivisionByZero\n",
            "                DivisionUndefined\n",
            "            DecimalException\n",
            "                Clamped\n",
            "                Rounded\n",
            "                    Underflow\n",
            "                    Overflow\n",
            "                Inexact\n",
            "                    Underflow\n",
            "                    Overflow\n",
            "                Subnormal\n",
            "                    Underflow\n",
            "                DivisionByZero\n",
            "                FloatOperation\n",
            "                InvalidOperation\n",
            "                    ConversionSyntax\n",
            "                    DivisionImpossible\n",
            "                    DivisionUndefined\n",
            "                    InvalidContext\n",
            "        SystemError\n",
            "            CodecRegistryError\n",
            "        ReferenceError\n",
            "        MemoryError\n",
            "            MemoryError\n",
            "        BufferError\n",
            "        Warning\n",
            "            UserWarning\n",
            "                GetPassWarning\n",
            "                FormatterWarning\n",
            "                SetuptoolsWarning\n",
            "                    InformationOnly\n",
            "                    SetuptoolsDeprecationWarning\n",
            "                        _AmbiguousMarker\n",
            "                        _DeprecatedConfig\n",
            "                        _WouldIgnoreField\n",
            "                        DistDeprecationWarning\n",
            "                    _BetaConfiguration\n",
            "                    _InvalidFile\n",
            "                VisibleDeprecationWarning\n",
            "                RankWarning\n",
            "                ConversionWarning\n",
            "                RankWarning\n",
            "            EncodingWarning\n",
            "            DeprecationWarning\n",
            "                ProvisionalWarning\n",
            "                ModuleDeprecationWarning\n",
            "                MatplotlibDeprecationWarning\n",
            "            PendingDeprecationWarning\n",
            "            SyntaxWarning\n",
            "            RuntimeWarning\n",
            "                ProactorSelectorThreadWarning\n",
            "                UnknownTimezoneWarning\n",
            "                ComplexWarning\n",
            "                DecompressionBombWarning\n",
            "                PEP440Warning\n",
            "            FutureWarning\n",
            "                ProvisionalCompleterWarning\n",
            "                MaskedArrayFutureWarning\n",
            "            ImportWarning\n",
            "            UnicodeWarning\n",
            "            BytesWarning\n",
            "            ResourceWarning\n",
            "            DeprecatedTzFormatWarning\n",
            "            MathTextWarning\n",
            "            PkgResourcesDeprecationWarning\n",
            "        _OptionError\n",
            "        error\n",
            "        Verbose\n",
            "        Error\n",
            "        _Error\n",
            "        SubprocessError\n",
            "            CalledProcessError\n",
            "            TimeoutExpired\n",
            "        Error\n",
            "        TokenError\n",
            "        StopTokenizing\n",
            "        error\n",
            "        LZMAError\n",
            "        RegistryError\n",
            "        _GiveupOnFastCopy\n",
            "        ClassFoundException\n",
            "        EndOfBlock\n",
            "        TraitError\n",
            "        _GiveupOnSendfile\n",
            "        error\n",
            "        PickleError\n",
            "            PicklingError\n",
            "            UnpicklingError\n",
            "        _Stop\n",
            "        Empty\n",
            "        Full\n",
            "        ArgumentError\n",
            "        ArgumentTypeError\n",
            "        ConfigError\n",
            "            ConfigLoaderError\n",
            "                ArgumentError\n",
            "            ConfigFileNotFound\n",
            "        ConfigurableError\n",
            "            MultipleInstanceError\n",
            "        ApplicationError\n",
            "        ErrorDuringImport\n",
            "        BdbQuit\n",
            "        Restart\n",
            "        ExceptionPexpect\n",
            "            EOF\n",
            "            TIMEOUT\n",
            "        error\n",
            "        PtyProcessError\n",
            "        FindCmdError\n",
            "        HomeDirError\n",
            "        ProfileDirError\n",
            "        IPythonCoreError\n",
            "            TryNext\n",
            "            UsageError\n",
            "            StdinNotImplementedError\n",
            "        InputRejected\n",
            "        GetoptError\n",
            "        Incomplete\n",
            "        OptionError\n",
            "        ErrorToken\n",
            "        PrefilterError\n",
            "        AliasError\n",
            "            InvalidAliasError\n",
            "        Error\n",
            "            InterfaceError\n",
            "            DatabaseError\n",
            "                InternalError\n",
            "                OperationalError\n",
            "                ProgrammingError\n",
            "                IntegrityError\n",
            "                DataError\n",
            "                NotSupportedError\n",
            "        Warning\n",
            "        Error\n",
            "            CancelledError\n",
            "            TimeoutError\n",
            "            InvalidStateError\n",
            "        TimeoutError\n",
            "        InvalidStateError\n",
            "        LimitOverrunError\n",
            "        QueueEmpty\n",
            "        QueueFull\n",
            "        SpaceInInput\n",
            "        DOMException\n",
            "            IndexSizeErr\n",
            "            DomstringSizeErr\n",
            "            HierarchyRequestErr\n",
            "            WrongDocumentErr\n",
            "            InvalidCharacterErr\n",
            "            NoDataAllowedErr\n",
            "            NoModificationAllowedErr\n",
            "            NotFoundErr\n",
            "            NotSupportedErr\n",
            "            InuseAttributeErr\n",
            "            InvalidStateErr\n",
            "            SyntaxErr\n",
            "            InvalidModificationErr\n",
            "            NamespaceErr\n",
            "            InvalidAccessErr\n",
            "            ValidationErr\n",
            "        ValidationError\n",
            "        EditReadOnlyBuffer\n",
            "        _Retry\n",
            "        InvalidLayoutError\n",
            "        HeightIsUnknownError\n",
            "        MessageError\n",
            "            MessageParseError\n",
            "                HeaderParseError\n",
            "                    _InvalidEwError\n",
            "                BoundaryError\n",
            "            MultipartConversionError\n",
            "            CharsetError\n",
            "        Error\n",
            "        HTTPException\n",
            "            NotConnected\n",
            "            InvalidURL\n",
            "            UnknownProtocol\n",
            "            UnknownTransferEncoding\n",
            "            UnimplementedFileMode\n",
            "            IncompleteRead\n",
            "            ImproperConnectionState\n",
            "                CannotSendRequest\n",
            "                CannotSendHeader\n",
            "                ResponseNotReady\n",
            "            BadStatusLine\n",
            "                RemoteDisconnected\n",
            "            LineTooLong\n",
            "        InteractivelyDefined\n",
            "        KillEmbedded\n",
            "        ArgumentError\n",
            "        ZMQBaseError\n",
            "            ZMQError\n",
            "                ContextTerminated\n",
            "                Again\n",
            "                InterruptedSystemCall\n",
            "            ZMQBindError\n",
            "            NotDone\n",
            "        NoIPAddresses\n",
            "        Error\n",
            "            NoSectionError\n",
            "            DuplicateSectionError\n",
            "            DuplicateOptionError\n",
            "            NoOptionError\n",
            "            InterpolationError\n",
            "                InterpolationMissingOptionError\n",
            "                InterpolationSyntaxError\n",
            "                InterpolationDepthError\n",
            "            ParsingError\n",
            "                MissingSectionHeaderError\n",
            "        InvalidPortNumber\n",
            "        DuplicateKernelError\n",
            "        error\n",
            "        ReturnValueIgnoredError\n",
            "        KeyReuseError\n",
            "        UnknownKeyError\n",
            "        LeakedCallbackError\n",
            "        BadYieldError\n",
            "        ReturnValueIgnoredError\n",
            "        Return\n",
            "        QueueEmpty\n",
            "        QueueFull\n",
            "        DistutilsError\n",
            "            DistutilsModuleError\n",
            "            DistutilsClassError\n",
            "            DistutilsGetoptError\n",
            "            DistutilsArgError\n",
            "            DistutilsFileError\n",
            "            DistutilsOptionError\n",
            "            DistutilsSetupError\n",
            "            DistutilsPlatformError\n",
            "            DistutilsExecError\n",
            "            DistutilsInternalError\n",
            "            DistutilsTemplateError\n",
            "            DistutilsByteCompileError\n",
            "            RemovedCommandError\n",
            "            PackageDiscoveryError\n",
            "        CCompilerError\n",
            "            PreprocessError\n",
            "            CompileError\n",
            "            LibError\n",
            "            LinkError\n",
            "            UnknownFileError\n",
            "        BadZipFile\n",
            "        LargeZipFile\n",
            "        Error\n",
            "        ParserSyntaxError\n",
            "        LinAlgError\n",
            "        ConverterError\n",
            "            ConverterLockError\n",
            "        MAError\n",
            "            MaskError\n",
            "        Error\n",
            "            AuthorizationError\n",
            "            RuntimeManagementError\n",
            "            MessageError\n",
            "        WidgetException\n",
            "        JsException\n",
            "        FormattedTracebackError\n",
            "        Error\n",
            "            NoSuchProcess\n",
            "                ZombieProcess\n",
            "            AccessDenied\n",
            "            TimeoutExpired\n",
            "        _Ipv6UnsupportedError\n",
            "        ParseBaseException\n",
            "            ParseException\n",
            "            ParseFatalException\n",
            "                ParseSyntaxException\n",
            "        RecursiveGrammarException\n",
            "        HttpLib2Error\n",
            "            HttpLib2ErrorWithResponse\n",
            "                RedirectMissingLocation\n",
            "                RedirectLimit\n",
            "                FailedToDecompressContent\n",
            "                UnimplementedDigestAuthOptionError\n",
            "                UnimplementedHmacDigestAuthOptionError\n",
            "            MalformedHeader\n",
            "            RelativeURIError\n",
            "            ServerNotFoundError\n",
            "            ProxiesUnavailableError\n",
            "        ExpatError\n",
            "        DecompressionBombError\n",
            "        FFIError\n",
            "        CDefError\n",
            "        VerificationError\n",
            "        VerificationMissing\n",
            "        PkgConfigError\n",
            "        DuplicateConstraint\n",
            "        UnsatisfiableConstraint\n",
            "        UnknownConstraint\n",
            "        DuplicateEditVariable\n",
            "        UnknownEditVariable\n",
            "        BadRequiredStrength\n",
            "        NonGuiException\n",
            "        InvalidIndexError\n",
            "        TerminateTrajectory\n",
            "        NoFreePortFoundError\n",
            "        DebuggerInitializationError\n",
            "        Error\n",
            "            ProtocolError\n",
            "            ResponseError\n",
            "            Fault\n",
            "        ParserSyntaxError\n",
            "        ResolutionError\n",
            "            VersionConflict\n",
            "                ContextualVersionConflict\n",
            "            DistributionNotFound\n",
            "            UnknownExtra\n",
            "        _Error\n",
            "        UnableToResolveVariableException\n",
            "        InvalidTypeInArgsException\n",
            "    GeneratorExit\n",
            "    SystemExit\n",
            "    KeyboardInterrupt\n",
            "    CancelledError\n",
            "    AbortThread\n",
            "    AbortThread\n"
          ]
        }
      ]
    },
    {
      "cell_type": "markdown",
      "source": [
        "Q3. What errors are defined in the ArithmeticError class? Explain any two with an example."
      ],
      "metadata": {
        "id": "AHF7_tp05Xwd"
      }
    },
    {
      "cell_type": "markdown",
      "source": [
        "ZeroDivisionError: This error occurs when attempting to divide a number by zero."
      ],
      "metadata": {
        "id": "JTRCs2UE5-T4"
      }
    },
    {
      "cell_type": "code",
      "source": [
        "numerator = 10\n",
        "denominator = 0\n",
        "\n",
        "try:\n",
        "    result = numerator / denominator\n",
        "except ZeroDivisionError as e:\n",
        "    print(\"Error:\", e)\n"
      ],
      "metadata": {
        "colab": {
          "base_uri": "https://localhost:8080/"
        },
        "id": "VInr0Wyy5_Be",
        "outputId": "f7bfc694-73f2-4846-d231-d43196558939"
      },
      "execution_count": 2,
      "outputs": [
        {
          "output_type": "stream",
          "name": "stdout",
          "text": [
            "Error: division by zero\n"
          ]
        }
      ]
    },
    {
      "cell_type": "markdown",
      "source": [
        "OverflowError: This error occurs when the result of an arithmetic operation exceeds the maximum representable value for a numeric type"
      ],
      "metadata": {
        "id": "hKJDBkkT6Ce0"
      }
    },
    {
      "cell_type": "code",
      "source": [
        "x = 2.0 ** 1024\n",
        "\n",
        "try:\n",
        "    result = x * x\n",
        "except OverflowError as e:\n",
        "    print(\"Error:\", e)\n"
      ],
      "metadata": {
        "colab": {
          "base_uri": "https://localhost:8080/",
          "height": 235
        },
        "id": "8aZ02lLN6Ffh",
        "outputId": "9accba94-7a60-46de-eb71-89dab51053ed"
      },
      "execution_count": 3,
      "outputs": [
        {
          "output_type": "error",
          "ename": "OverflowError",
          "evalue": "ignored",
          "traceback": [
            "\u001b[0;31m---------------------------------------------------------------------------\u001b[0m",
            "\u001b[0;31mOverflowError\u001b[0m                             Traceback (most recent call last)",
            "\u001b[0;32m<ipython-input-3-d5935a0c2940>\u001b[0m in \u001b[0;36m<cell line: 1>\u001b[0;34m()\u001b[0m\n\u001b[0;32m----> 1\u001b[0;31m \u001b[0mx\u001b[0m \u001b[0;34m=\u001b[0m \u001b[0;36m2.0\u001b[0m \u001b[0;34m**\u001b[0m \u001b[0;36m1024\u001b[0m\u001b[0;34m\u001b[0m\u001b[0;34m\u001b[0m\u001b[0m\n\u001b[0m\u001b[1;32m      2\u001b[0m \u001b[0;34m\u001b[0m\u001b[0m\n\u001b[1;32m      3\u001b[0m \u001b[0;32mtry\u001b[0m\u001b[0;34m:\u001b[0m\u001b[0;34m\u001b[0m\u001b[0;34m\u001b[0m\u001b[0m\n\u001b[1;32m      4\u001b[0m     \u001b[0mresult\u001b[0m \u001b[0;34m=\u001b[0m \u001b[0mx\u001b[0m \u001b[0;34m*\u001b[0m \u001b[0mx\u001b[0m\u001b[0;34m\u001b[0m\u001b[0;34m\u001b[0m\u001b[0m\n\u001b[1;32m      5\u001b[0m \u001b[0;32mexcept\u001b[0m \u001b[0mOverflowError\u001b[0m \u001b[0;32mas\u001b[0m \u001b[0me\u001b[0m\u001b[0;34m:\u001b[0m\u001b[0;34m\u001b[0m\u001b[0;34m\u001b[0m\u001b[0m\n",
            "\u001b[0;31mOverflowError\u001b[0m: (34, 'Numerical result out of range')"
          ]
        }
      ]
    },
    {
      "cell_type": "markdown",
      "source": [
        "Q4. Why LookupError class is used? Explain with an example KeyError and IndexError."
      ],
      "metadata": {
        "id": "UMd66WRv6iOC"
      }
    },
    {
      "cell_type": "markdown",
      "source": [
        "The LookupError class in Python is used as the base class for errors that occur when performing a lookup in a sequence or mapping. It is a subclass of the Exception class. Two common subclasses of LookupError are KeyError and IndexError."
      ],
      "metadata": {
        "id": "-UO1cN0z6ojB"
      }
    },
    {
      "cell_type": "markdown",
      "source": [
        "KeyError: This error occurs when trying to access a dictionary key that does not exist."
      ],
      "metadata": {
        "id": "5_-ztTBX6KkA"
      }
    },
    {
      "cell_type": "code",
      "source": [
        "dictionary = {\"key1\": \"value1\", \"key2\": \"value2\"}\n",
        "\n",
        "try:\n",
        "    value = dictionary[\"key3\"]\n",
        "except KeyError as e:\n",
        "    print(\"Error:\", e)\n"
      ],
      "metadata": {
        "colab": {
          "base_uri": "https://localhost:8080/"
        },
        "id": "wVXmxJZy6LLm",
        "outputId": "a8ece5ff-4b9b-4f2a-8d2b-4a104dae763e"
      },
      "execution_count": 4,
      "outputs": [
        {
          "output_type": "stream",
          "name": "stdout",
          "text": [
            "Error: 'key3'\n"
          ]
        }
      ]
    },
    {
      "cell_type": "markdown",
      "source": [
        "IndexError: This error occurs when trying to access a list or tuple using an invalid index or slice."
      ],
      "metadata": {
        "id": "Af52GNIg6Pwz"
      }
    },
    {
      "cell_type": "code",
      "source": [
        "my_list = [1, 2, 3]\n",
        "\n",
        "try:\n",
        "    value = my_list[3]\n",
        "except IndexError as e:\n",
        "    print(\"Error:\", e)\n"
      ],
      "metadata": {
        "colab": {
          "base_uri": "https://localhost:8080/"
        },
        "id": "cL6UvyH06TgZ",
        "outputId": "c7ff2403-f1ee-4137-9f1a-fd27d20c07e4"
      },
      "execution_count": 5,
      "outputs": [
        {
          "output_type": "stream",
          "name": "stdout",
          "text": [
            "Error: list index out of range\n"
          ]
        }
      ]
    },
    {
      "cell_type": "markdown",
      "source": [
        "Q5. Explain ImportError. What is ModuleNotFoundError?"
      ],
      "metadata": {
        "id": "h1A7Qz1F6uGw"
      }
    },
    {
      "cell_type": "markdown",
      "source": [
        "ImportError is a built-in Python exception that occurs when an import statement fails to locate and load a module. It typically happens due to one of the following reasons:\n",
        "\n",
        "Module Not Found: If the module being imported does not exist or cannot be found in the Python search path, an ImportError is raised"
      ],
      "metadata": {
        "id": "Uzqq7ypf6Y7T"
      }
    },
    {
      "cell_type": "code",
      "source": [
        "import non_existent_module\n"
      ],
      "metadata": {
        "colab": {
          "base_uri": "https://localhost:8080/",
          "height": 305
        },
        "id": "4HgKNNag6ZmP",
        "outputId": "a7450a33-16df-4c99-edf1-901688743d39"
      },
      "execution_count": 6,
      "outputs": [
        {
          "output_type": "error",
          "ename": "ModuleNotFoundError",
          "evalue": "ignored",
          "traceback": [
            "\u001b[0;31m---------------------------------------------------------------------------\u001b[0m",
            "\u001b[0;31mModuleNotFoundError\u001b[0m                       Traceback (most recent call last)",
            "\u001b[0;32m<ipython-input-6-187f3de191a9>\u001b[0m in \u001b[0;36m<cell line: 1>\u001b[0;34m()\u001b[0m\n\u001b[0;32m----> 1\u001b[0;31m \u001b[0;32mimport\u001b[0m \u001b[0mnon_existent_module\u001b[0m\u001b[0;34m\u001b[0m\u001b[0;34m\u001b[0m\u001b[0m\n\u001b[0m",
            "\u001b[0;31mModuleNotFoundError\u001b[0m: No module named 'non_existent_module'",
            "",
            "\u001b[0;31m---------------------------------------------------------------------------\u001b[0;32m\nNOTE: If your import is failing due to a missing package, you can\nmanually install dependencies using either !pip or !apt.\n\nTo view examples of installing some common dependencies, click the\n\"Open Examples\" button below.\n\u001b[0;31m---------------------------------------------------------------------------\u001b[0m\n"
          ],
          "errorDetails": {
            "actions": [
              {
                "action": "open_url",
                "actionText": "Open Examples",
                "url": "/notebooks/snippets/importing_libraries.ipynb"
              }
            ]
          }
        }
      ]
    },
    {
      "cell_type": "markdown",
      "source": [
        "Q6. List down some best practices for exception handling in python."
      ],
      "metadata": {
        "id": "TySPAoqu5lRi"
      }
    },
    {
      "cell_type": "markdown",
      "source": [
        "Be Specific with Exceptions: Catch exceptions at the appropriate level of granularity. Instead of catching broad exceptions like Exception or BaseException, catch specific exceptions that you expect to occur. This helps in better error handling and debugging.\n",
        "\n",
        "Use try-except Blocks Carefully: Use try-except blocks only around the specific code that can potentially raise an exception. This ensures that you handle only the expected exceptions and let unexpected exceptions propagate, allowing higher-level handlers or the Python interpreter to handle them.\n",
        "\n",
        "Avoid Bare except Clauses: Avoid using bare except clauses without specifying the exception type. This can mask errors and make debugging difficult. Always try to catch specific exceptions or at least catch Exception if you need to handle all exceptions.\n",
        "\n",
        "Handle Exceptions Gracefully: Provide meaningful error messages or logging information when handling exceptions. This helps in understanding the cause of the exception and aids in troubleshooting and resolving the issue.\n",
        "\n",
        "Use finally for Cleanup: Use finally blocks to perform cleanup actions, such as closing files or releasing resources, regardless of whether an exception occurred or not. This ensures that critical cleanup code is always executed.\n",
        "\n",
        "Consider Custom Exception Classes: Define custom exception classes for specific error scenarios in your application. This allows you to have more control over the exception handling process and provides a clear indication of the specific error condition.\n",
        "\n",
        "Use Context Managers: Utilize context managers, implemented using the with statement, for resources that need to be managed, such as file operations or database connections. Context managers automatically handle resource cleanup, even in the presence of exceptions.\n",
        "\n",
        "Log Exceptions: Consider using a logging framework to log exceptions. This helps in identifying and diagnosing issues, especially in production environments, where direct access to the console or terminal may not be available.\n",
        "\n",
        "Follow Python's Exception Handling Idioms: Adhere to Python's idiomatic exception handling practices, such as preferring EAFP (Easier to Ask for Forgiveness than Permission) over LBYL (Look Before You Leap), and avoiding unnecessary use of exceptions for flow control purposes."
      ],
      "metadata": {
        "id": "9nUKDLOX7JsW"
      }
    }
  ]
}